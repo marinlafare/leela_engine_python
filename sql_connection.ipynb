{
 "cells": [
  {
   "cell_type": "code",
   "execution_count": 2,
   "id": "e2356fd6-70b0-4baa-a0df-025c02a8acd2",
   "metadata": {},
   "outputs": [],
   "source": [
    "import os\n",
    "from dotenv import load_dotenv\n",
    "import requests\n",
    "import pandas as pd\n",
    "import tempfile\n",
    "import psycopg2\n",
    "from itertools import chain\n",
    "from constants import CONN_STRING, PORT"
   ]
  },
  {
   "cell_type": "code",
   "execution_count": 3,
   "id": "340c7d7c-3767-4467-969f-5a048f6dffba",
   "metadata": {},
   "outputs": [],
   "source": [
    "def get_ask_connection():    \n",
    "    return psycopg2.connect(CONN_STRING, port = PORT)\n",
    "def open_request(sql_question:str):\n",
    "    conn = get_ask_connection()\n",
    "    with conn.cursor() as curs:\n",
    "        curs.execute(\n",
    "            sql_question\n",
    "        )\n",
    "        result = curs.fetchall()\n",
    "    return result"
   ]
  },
  {
   "cell_type": "code",
   "execution_count": null,
   "id": "37ffbd68-766f-484d-a732-cdd68557598f",
   "metadata": {},
   "outputs": [],
   "source": [
    "open_request('select player_name from player')"
   ]
  },
  {
   "cell_type": "code",
   "execution_count": null,
   "id": "99361034-9556-4dda-922c-43cf01698d35",
   "metadata": {},
   "outputs": [],
   "source": []
  }
 ],
 "metadata": {
  "kernelspec": {
   "display_name": "chessism_gpu",
   "language": "python",
   "name": "chessism_gpu"
  },
  "language_info": {
   "codemirror_mode": {
    "name": "ipython",
    "version": 3
   },
   "file_extension": ".py",
   "mimetype": "text/x-python",
   "name": "python",
   "nbconvert_exporter": "python",
   "pygments_lexer": "ipython3",
   "version": "3.12.9"
  }
 },
 "nbformat": 4,
 "nbformat_minor": 5
}
