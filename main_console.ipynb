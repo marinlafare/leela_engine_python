{
 "cells": [
  {
   "cell_type": "code",
   "execution_count": 1,
   "id": "865bd0a1-ed34-43b4-b9a1-04d96b1f38f8",
   "metadata": {},
   "outputs": [],
   "source": [
    "LC0_PATH =r\"Lc0/lc0.exe\""
   ]
  },
  {
   "cell_type": "code",
   "execution_count": 2,
   "id": "4e156033-f19c-4205-9571-3c438f9381df",
   "metadata": {},
   "outputs": [],
   "source": [
    "import chess\n",
    "import chess.engine\n",
    "import os"
   ]
  },
  {
   "cell_type": "code",
   "execution_count": 3,
   "id": "ba7af216-bf59-46ac-9781-559313368b5b",
   "metadata": {},
   "outputs": [
    {
     "data": {
      "text/plain": [
       "True"
      ]
     },
     "execution_count": 3,
     "metadata": {},
     "output_type": "execute_result"
    }
   ],
   "source": [
    "os.path.exists(LC0_PATH)"
   ]
  },
  {
   "cell_type": "code",
   "execution_count": 4,
   "id": "6b146955-e2b3-4c0d-9bc4-f237d0109ed3",
   "metadata": {},
   "outputs": [
    {
     "name": "stderr",
     "output_type": "stream",
     "text": [
      "<UciProtocol (pid=12136)>: stderr >>        _\n",
      "<UciProtocol (pid=12136)>: stderr >> |   _ | |\n",
      "<UciProtocol (pid=12136)>: stderr >> |_ |_ |_| v0.31.2 built Oct 20 2024\n"
     ]
    }
   ],
   "source": [
    "engine = await chess.engine.popen_uci(LC0_PATH)"
   ]
  },
  {
   "cell_type": "code",
   "execution_count": null,
   "id": "c83c39e5-05e1-4ba5-ba35-6584694b4396",
   "metadata": {},
   "outputs": [],
   "source": [
    "async def analyze_position_with_lc0(fen: str, nodes_limit: int = 10000, time_limit: float = None):\n",
    "    \"\"\"\n",
    "    Analyzes a single chess position using Leela Chess Zero (Lc0).\n",
    "\n",
    "    Args:\n",
    "        fen: The FEN string of the position to analyze.\n",
    "        nodes_limit: The maximum number of nodes Lc0 should explore (playouts).\n",
    "                     Lc0 typically uses 'nodes' instead of 'depth' for its search limit.\n",
    "        time_limit: The maximum time in seconds Lc0 should spend on analysis.\n",
    "\n",
    "    Returns:\n",
    "        A dictionary containing the analysis results (score, principal variation).\n",
    "    \"\"\"\n",
    "    board = chess.Board(fen)\n",
    "    engine = await chess.engine.popen_uci(LC0_PATH)\n",
    "\n",
    "    try:\n",
    "        # Lc0 specific options (these are common and good starting points)\n",
    "        # Check Lc0's documentation for all available options\n",
    "        await engine.configure({\n",
    "            \"Backend\": \"cudnn-fp16\",  # Use CUDA with half-precision for speed (requires cuDNN)\n",
    "                                     # Other options: \"cuda\", \"cpu\", \"opencl\"\n",
    "            \"WeightsFile\": network_files[0] if network_files else \"\", # Lc0 usually picks newest, but explicit is good\n",
    "            \"Threads\": 1,            # Lc0 itself is heavily GPU-parallel; 1 thread is often fine for MCTS.\n",
    "                                     # More threads might be useful if you're doing heavy CPU preprocessing\n",
    "                                     # or if your Lc0 build benefits from it for specific backends.\n",
    "            \"MinibatchSize\": 2048    # Adjust based on your GPU's VRAM. Larger can be faster.\n",
    "        })\n",
    "\n",
    "        limit = chess.engine.Limit(nodes=nodes_limit)\n",
    "        if time_limit:\n",
    "            limit = chess.engine.Limit(time=time_limit)\n",
    "\n",
    "        print(f\"Analyzing FEN: {fen} with Lc0 (Nodes: {nodes_limit}, Time: {time_limit}s)...\")\n",
    "        info = await engine.analyse(board, limit=limit)\n",
    "\n",
    "        # Lc0 returns score as \"cp\" (centipawns) or \"mate\"\n",
    "        score = info[\"score\"].white().score(mate_score=10000) # Use a large value for mate scores\n",
    "        pv = [move.uci() for move in info[\"pv\"]]\n",
    "\n",
    "        return {\"fen\": fen, \"score\": score, \"pv\": pv}\n",
    "\n",
    "    except Exception as e:\n",
    "        print(f\"An error occurred during Lc0 analysis: {e}\")\n",
    "        return {\"fen\": fen, \"error\": str(e)}\n",
    "    finally:\n",
    "        await engine.quit() # Always quit the engine process"
   ]
  }
 ],
 "metadata": {
  "kernelspec": {
   "display_name": "chessism",
   "language": "python",
   "name": "chessism"
  },
  "language_info": {
   "codemirror_mode": {
    "name": "ipython",
    "version": 3
   },
   "file_extension": ".py",
   "mimetype": "text/x-python",
   "name": "python",
   "nbconvert_exporter": "python",
   "pygments_lexer": "ipython3",
   "version": "3.13.5"
  }
 },
 "nbformat": 4,
 "nbformat_minor": 5
}
