{
 "cells": [
  {
   "cell_type": "code",
   "execution_count": 1,
   "id": "03fc6a37-e12e-421f-a907-9c2d7e73a75b",
   "metadata": {
    "scrolled": true
   },
   "outputs": [
    {
     "name": "stderr",
     "output_type": "stream",
     "text": [
      "/home/jon/anaconda3/envs/chessism_gpu/lib/python3.12/site-packages/requests/__init__.py:86: RequestsDependencyWarning: Unable to find acceptable character detection dependency (chardet or charset_normalizer).\n",
      "  warnings.warn(\n"
     ]
    }
   ],
   "source": [
    "import time\n",
    "from database.database.engine import init_db\n",
    "from constants import CONN_STRING\n",
    "from database.database.ask_db import *\n",
    "from database.operations.fen import *"
   ]
  },
  {
   "cell_type": "markdown",
   "id": "a3e9dc9b-b07f-4bca-aba8-b5612e30e65e",
   "metadata": {},
   "source": [
    "# Connection to the DB"
   ]
  },
  {
   "cell_type": "code",
   "execution_count": 2,
   "id": "f0d1e2a1-182a-4e56-b9b2-d32d553eff85",
   "metadata": {},
   "outputs": [
    {
     "name": "stdout",
     "output_type": "stream",
     "text": [
      "Database 'chessism' already exists.\n",
      "Ensuring database tables exist...\n",
      "Database tables checked/created.\n",
      "Asynchronous database initialization complete.\n"
     ]
    }
   ],
   "source": [
    "await init_db(CONN_STRING)"
   ]
  },
  {
   "cell_type": "markdown",
   "id": "66d956a9-f46b-479c-ab17-7a3b9063b750",
   "metadata": {},
   "source": [
    "# This is the same process as the main GPU\n",
    "They are separated like this, so every GPU can have their own bugs"
   ]
  },
  {
   "cell_type": "code",
   "execution_count": 3,
   "id": "5e52e888-f8d6-44c5-9ca6-99ea7ec97f72",
   "metadata": {},
   "outputs": [
    {
     "name": "stdout",
     "output_type": "stream",
     "text": [
      "...Starting Leela engine...\n"
     ]
    },
    {
     "name": "stderr",
     "output_type": "stream",
     "text": [
      "<UciProtocol (pid=81401)>: stderr >>        _\n",
      "<UciProtocol (pid=81401)>: stderr >> |   _ | |\n",
      "<UciProtocol (pid=81401)>: stderr >> |_ |_ |_| v0.31.2 built Oct 20 2024\n"
     ]
    },
    {
     "name": "stdout",
     "output_type": "stream",
     "text": [
      "...Leela engine ready...\n"
     ]
    },
    {
     "name": "stderr",
     "output_type": "stream",
     "text": [
      "<UciProtocol (pid=81401)>: stderr >> Loading weights file from: 791556.pb.gz\n",
      "<UciProtocol (pid=81401)>: stderr >> Creating backend [cuda]...\n",
      "<UciProtocol (pid=81401)>: stderr >> CUDA Runtime version: 11.1.0\n",
      "<UciProtocol (pid=81401)>: stderr >> Latest version of CUDA supported by the driver: 12.9.0\n",
      "<UciProtocol (pid=81401)>: stderr >> GPU: NVIDIA GeForce GTX 1070\n",
      "<UciProtocol (pid=81401)>: stderr >> GPU memory: 7.99988 Gb\n",
      "<UciProtocol (pid=81401)>: stderr >> GPU clock frequency: 1771.5 MHz\n",
      "<UciProtocol (pid=81401)>: stderr >> GPU compute capability: 6.1\n",
      "<UciProtocol (pid=81401)>: stderr >> L2 cache capacity: 2097152\n"
     ]
    },
    {
     "name": "stdout",
     "output_type": "stream",
     "text": [
      "\n",
      "--- Analysis Complete ---\n",
      "Successfully updated 30 FEN records with analysis data.\n"
     ]
    },
    {
     "data": {
      "text/plain": [
       "30"
      ]
     },
     "execution_count": 3,
     "metadata": {},
     "output_type": "execute_result"
    }
   ],
   "source": [
    "analize_results = await analize_most_repeated_fen_alternative_card(between = (2,4), limit= 30) # <-- this is the only difference for alternative cards\n",
    "to_insert = await format_leela_results(analize_results)\n",
    "await DBInterface(Fen).update_fen_analysis_data(to_insert)"
   ]
  },
  {
   "cell_type": "markdown",
   "id": "3c7956fc-f03b-4c67-a925-f167a4d2366d",
   "metadata": {},
   "source": [
    "### Making it in batches:"
   ]
  },
  {
   "cell_type": "code",
   "execution_count": 8,
   "id": "1818121b-ead5-49f9-bc5f-4abb33a8642a",
   "metadata": {},
   "outputs": [],
   "source": [
    "start = time.time()\n",
    "n_repetitions = 3\n",
    "between = (2,4)\n",
    "limit = 10\n",
    "min_wait_time_seconds = 60\n",
    "max_wait_time = 1/4 #quarter of the time it take to run one loop\n",
    "verbose_each = 100\n",
    "analyse_time_limit = 1.5\n",
    "nodes_limit = 100_000"
   ]
  },
  {
   "cell_type": "code",
   "execution_count": 9,
   "id": "e917afb6-f3c2-415a-bc5b-27bb9e5612de",
   "metadata": {
    "scrolled": true
   },
   "outputs": [
    {
     "name": "stdout",
     "output_type": "stream",
     "text": [
      "...Starting Leela engine...\n"
     ]
    },
    {
     "name": "stderr",
     "output_type": "stream",
     "text": [
      "<UciProtocol (pid=83722)>: stderr >>        _\n",
      "<UciProtocol (pid=83722)>: stderr >> |   _ | |\n",
      "<UciProtocol (pid=83722)>: stderr >> |_ |_ |_| v0.31.2 built Oct 20 2024\n"
     ]
    },
    {
     "name": "stdout",
     "output_type": "stream",
     "text": [
      "...Leela engine ready...\n"
     ]
    },
    {
     "name": "stderr",
     "output_type": "stream",
     "text": [
      "<UciProtocol (pid=83722)>: stderr >> Loading weights file from: 791556.pb.gz\n",
      "<UciProtocol (pid=83722)>: stderr >> Creating backend [cuda]...\n",
      "<UciProtocol (pid=83722)>: stderr >> CUDA Runtime version: 11.1.0\n",
      "<UciProtocol (pid=83722)>: stderr >> Latest version of CUDA supported by the driver: 12.9.0\n",
      "<UciProtocol (pid=83722)>: stderr >> GPU: NVIDIA GeForce GTX 1070\n",
      "<UciProtocol (pid=83722)>: stderr >> GPU memory: 7.99988 Gb\n",
      "<UciProtocol (pid=83722)>: stderr >> GPU clock frequency: 1771.5 MHz\n",
      "<UciProtocol (pid=83722)>: stderr >> GPU compute capability: 6.1\n",
      "<UciProtocol (pid=83722)>: stderr >> L2 cache capacity: 2097152\n"
     ]
    },
    {
     "name": "stdout",
     "output_type": "stream",
     "text": [
      "\n",
      "--- Analysis Complete ---\n",
      "Successfully updated 10 FEN records with analysis data.\n",
      "0 batch done in:  24.04409122467041\n",
      "#####\n",
      "... Cool of waiting ...\n",
      "#####\n",
      "... sleeping for 60 seconds\n",
      "#####\n",
      "... End of waiting Cool ...\n",
      "#####\n",
      "...Starting Leela engine...\n"
     ]
    },
    {
     "name": "stderr",
     "output_type": "stream",
     "text": [
      "<UciProtocol (pid=86034)>: stderr >>        _\n",
      "<UciProtocol (pid=86034)>: stderr >> |   _ | |\n",
      "<UciProtocol (pid=86034)>: stderr >> |_ |_ |_| v0.31.2 built Oct 20 2024\n"
     ]
    },
    {
     "name": "stdout",
     "output_type": "stream",
     "text": [
      "...Leela engine ready...\n"
     ]
    },
    {
     "name": "stderr",
     "output_type": "stream",
     "text": [
      "<UciProtocol (pid=86034)>: stderr >> Loading weights file from: 791556.pb.gz\n",
      "<UciProtocol (pid=86034)>: stderr >> Creating backend [cuda]...\n",
      "<UciProtocol (pid=86034)>: stderr >> CUDA Runtime version: 11.1.0\n",
      "<UciProtocol (pid=86034)>: stderr >> Latest version of CUDA supported by the driver: 12.9.0\n",
      "<UciProtocol (pid=86034)>: stderr >> GPU: NVIDIA GeForce GTX 1070\n",
      "<UciProtocol (pid=86034)>: stderr >> GPU memory: 7.99988 Gb\n",
      "<UciProtocol (pid=86034)>: stderr >> GPU clock frequency: 1771.5 MHz\n",
      "<UciProtocol (pid=86034)>: stderr >> GPU compute capability: 6.1\n",
      "<UciProtocol (pid=86034)>: stderr >> L2 cache capacity: 2097152\n"
     ]
    },
    {
     "name": "stdout",
     "output_type": "stream",
     "text": [
      "\n",
      "--- Analysis Complete ---\n",
      "Successfully updated 10 FEN records with analysis data.\n",
      "1 batch done in:  16.78646492958069\n",
      "#####\n",
      "... Cool of waiting ...\n",
      "#####\n",
      "... sleeping for 60 seconds\n",
      "#####\n",
      "... End of waiting Cool ...\n",
      "#####\n",
      "...Starting Leela engine...\n"
     ]
    },
    {
     "name": "stderr",
     "output_type": "stream",
     "text": [
      "<UciProtocol (pid=88354)>: stderr >>        _\n",
      "<UciProtocol (pid=88354)>: stderr >> |   _ | |\n",
      "<UciProtocol (pid=88354)>: stderr >> |_ |_ |_| v0.31.2 built Oct 20 2024\n"
     ]
    },
    {
     "name": "stdout",
     "output_type": "stream",
     "text": [
      "...Leela engine ready...\n"
     ]
    },
    {
     "name": "stderr",
     "output_type": "stream",
     "text": [
      "<UciProtocol (pid=88354)>: stderr >> Loading weights file from: 791556.pb.gz\n",
      "<UciProtocol (pid=88354)>: stderr >> Creating backend [cuda]...\n",
      "<UciProtocol (pid=88354)>: stderr >> CUDA Runtime version: 11.1.0\n",
      "<UciProtocol (pid=88354)>: stderr >> Latest version of CUDA supported by the driver: 12.9.0\n",
      "<UciProtocol (pid=88354)>: stderr >> GPU: NVIDIA GeForce GTX 1070\n",
      "<UciProtocol (pid=88354)>: stderr >> GPU memory: 7.99988 Gb\n",
      "<UciProtocol (pid=88354)>: stderr >> GPU clock frequency: 1771.5 MHz\n",
      "<UciProtocol (pid=88354)>: stderr >> GPU compute capability: 6.1\n",
      "<UciProtocol (pid=88354)>: stderr >> L2 cache capacity: 2097152\n"
     ]
    },
    {
     "name": "stdout",
     "output_type": "stream",
     "text": [
      "\n",
      "--- Analysis Complete ---\n",
      "Successfully updated 10 FEN records with analysis data.\n",
      "2 batch done in:  23.102930545806885\n",
      "#####\n",
      "... Cool of waiting ...\n",
      "#####\n",
      "Done everything in :  197.26211071014404\n"
     ]
    }
   ],
   "source": [
    "for ind, batches in enumerate(range(n_repetitions)):\n",
    "    last_loop = list(range(n_repetitions))[-1]\n",
    "    start_batch = time.time()\n",
    "    analize_results = await analize_most_repeated_fen_alternative_card(between = between,\n",
    "                                                                       limit= limit,\n",
    "                                                                       verbose_each = verbose_each,\n",
    "                                                                       analyse_time_limit = analyse_time_limit,\n",
    "                                                                       nodes_limit = nodes_limit)\n",
    "    to_insert = await format_leela_results(analize_results)\n",
    "    await DBInterface(Fen).update_fen_analysis_data(to_insert)\n",
    "\n",
    "    print(f'{ind} batch done in: ', time.time()-start_batch)\n",
    "    print('#####')\n",
    "    print('... Cool of waiting ...')\n",
    "    print('#####')\n",
    "    if batches == last_loop:\n",
    "        print('Done everything in : ', time.time()-start)\n",
    "        break\n",
    "    sleep_for = max(min_wait_time_seconds, (time.time()-start_batch) * max_wait_time)\n",
    "    print(f'... sleeping for {sleep_for} seconds ...')\n",
    "    time.sleep(sleep_for)\n",
    "    print('#####')\n",
    "    print('... End of waiting Cool ...')\n",
    "    print('#####')\n",
    "    "
   ]
  },
  {
   "cell_type": "code",
   "execution_count": 10,
   "id": "5abf8399-a088-44f5-be9d-561d26bdc0e2",
   "metadata": {},
   "outputs": [
    {
     "name": "stdout",
     "output_type": "stream",
     "text": [
      "done all in : 197.2676830291748\n"
     ]
    }
   ],
   "source": [
    "print('done all in :', time.time()-start)"
   ]
  },
  {
   "cell_type": "code",
   "execution_count": null,
   "id": "6a05ff9b-ebb0-43e7-a3e1-ac0c038df2c9",
   "metadata": {},
   "outputs": [],
   "source": []
  },
  {
   "cell_type": "code",
   "execution_count": null,
   "id": "daa2c527-c6fd-4cef-947d-d008f0a17a50",
   "metadata": {},
   "outputs": [],
   "source": []
  },
  {
   "cell_type": "code",
   "execution_count": null,
   "id": "346bd1f3-fa82-465c-acf0-4b913286e9ba",
   "metadata": {},
   "outputs": [],
   "source": []
  },
  {
   "cell_type": "code",
   "execution_count": null,
   "id": "74abe613-2374-46de-88be-e89b456146f6",
   "metadata": {},
   "outputs": [],
   "source": []
  }
 ],
 "metadata": {
  "kernelspec": {
   "display_name": "chessism_gpu",
   "language": "python",
   "name": "chessism_gpu"
  },
  "language_info": {
   "codemirror_mode": {
    "name": "ipython",
    "version": 3
   },
   "file_extension": ".py",
   "mimetype": "text/x-python",
   "name": "python",
   "nbconvert_exporter": "python",
   "pygments_lexer": "ipython3",
   "version": "3.12.9"
  }
 },
 "nbformat": 4,
 "nbformat_minor": 5
}
