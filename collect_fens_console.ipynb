{
 "cells": [
  {
   "cell_type": "code",
   "execution_count": 1,
   "id": "9236f86f-7d97-4f22-b8a2-ae7c0fd36303",
   "metadata": {},
   "outputs": [
    {
     "name": "stderr",
     "output_type": "stream",
     "text": [
      "/home/jon/anaconda3/envs/chessism_gpu/lib/python3.12/site-packages/requests/__init__.py:86: RequestsDependencyWarning: Unable to find acceptable character detection dependency (chardet or charset_normalizer).\n",
      "  warnings.warn(\n"
     ]
    }
   ],
   "source": [
    "from database.database.ask_db import *\n",
    "from database.operations.collect_fens import get_new_games_links, get_fens_from_games, get_fens_from_games\n",
    "from database.database.models import to_dict\n",
    "import chess"
   ]
  },
  {
   "cell_type": "code",
   "execution_count": null,
   "id": "e218f439-213e-4ae1-8628-eecbd69e043a",
   "metadata": {},
   "outputs": [],
   "source": []
  },
  {
   "cell_type": "code",
   "execution_count": null,
   "id": "65682f43-15cb-4c6e-9de1-d4f2edc8798b",
   "metadata": {},
   "outputs": [],
   "source": []
  },
  {
   "cell_type": "code",
   "execution_count": 4,
   "id": "63ab1129-4fe1-4e1a-a726-a3fc4605d6aa",
   "metadata": {},
   "outputs": [],
   "source": [
    "new_game_links = get_new_games_links(100)"
   ]
  },
  {
   "cell_type": "code",
   "execution_count": 6,
   "id": "069cf65d-7789-4538-8614-91bee9091034",
   "metadata": {},
   "outputs": [
    {
     "data": {
      "text/plain": [
       "(3400625,)"
      ]
     },
     "execution_count": 6,
     "metadata": {},
     "output_type": "execute_result"
    }
   ],
   "source": [
    "new_game_links[0]"
   ]
  },
  {
   "cell_type": "code",
   "execution_count": null,
   "id": "d67ae873-904e-49ad-b4f3-5d57d5ba2dfe",
   "metadata": {},
   "outputs": [],
   "source": []
  },
  {
   "cell_type": "code",
   "execution_count": null,
   "id": "c10befd9-21f0-4ecc-aa4f-1d0d207a8072",
   "metadata": {},
   "outputs": [],
   "source": []
  },
  {
   "cell_type": "code",
   "execution_count": 5,
   "id": "1707203e-b89b-44ec-835c-934ef80bbd23",
   "metadata": {},
   "outputs": [
    {
     "ename": "NameError",
     "evalue": "name 'get_one_game' is not defined",
     "output_type": "error",
     "traceback": [
      "\u001b[31m---------------------------------------------------------------------------\u001b[39m",
      "\u001b[31mNameError\u001b[39m                                 Traceback (most recent call last)",
      "\u001b[36mCell\u001b[39m\u001b[36m \u001b[39m\u001b[32mIn[5]\u001b[39m\u001b[32m, line 1\u001b[39m\n\u001b[32m----> \u001b[39m\u001b[32m1\u001b[39m fen_set_from_games = get_fens_from_games(new_game_links)\n",
      "\u001b[36mFile \u001b[39m\u001b[32m~/workshop/leela_zero/leela_engine_python/database/operations/collect_fens.py:47\u001b[39m, in \u001b[36mget_fens_from_games\u001b[39m\u001b[34m(new_game_links)\u001b[39m\n\u001b[32m     45\u001b[39m new_game_links = [x[\u001b[32m0\u001b[39m] \u001b[38;5;28;01mfor\u001b[39;00m x \u001b[38;5;129;01min\u001b[39;00m new_game_links]\n\u001b[32m     46\u001b[39m \u001b[38;5;28;01mfor\u001b[39;00m game_link \u001b[38;5;129;01min\u001b[39;00m new_game_links:\n\u001b[32m---> \u001b[39m\u001b[32m47\u001b[39m     game_moves = get_one_game(game_link)\n\u001b[32m     48\u001b[39m     fens.extend(get_fens_from_moves(game_moves))\n\u001b[32m     49\u001b[39m \u001b[38;5;28;01mreturn\u001b[39;00m \u001b[38;5;28mset\u001b[39m(fens)\n",
      "\u001b[31mNameError\u001b[39m: name 'get_one_game' is not defined"
     ]
    }
   ],
   "source": [
    "fen_set_from_games = get_fens_from_games(new_game_links)"
   ]
  },
  {
   "cell_type": "code",
   "execution_count": null,
   "id": "a3dc0175-79eb-40c6-8fef-8cee5ab0f00a",
   "metadata": {},
   "outputs": [],
   "source": [
    "get_only_new_fens = get_new_fens(fen_set_from_game)"
   ]
  },
  {
   "cell_type": "code",
   "execution_count": null,
   "id": "c7e2bd60-9f7d-4b8f-a62e-df8f7064d027",
   "metadata": {},
   "outputs": [],
   "source": []
  },
  {
   "cell_type": "code",
   "execution_count": 23,
   "id": "e818963c-b1e2-4d09-8049-c4cf1cffa0de",
   "metadata": {},
   "outputs": [],
   "source": [
    "a = get_one_game(valid[0][0])"
   ]
  },
  {
   "cell_type": "code",
   "execution_count": 25,
   "id": "25a35d70-74f4-45c3-9236-23aaf576b116",
   "metadata": {},
   "outputs": [],
   "source": [
    "def get_fens_from_games(moves):\n",
    "    board = chess.Board() # Initialize a standard chess board\n",
    "    fens_sequence = []\n",
    "    for ind, move in enumerate(moves):\n",
    "        assert move['n_move'] == ind+1\n",
    "        n_move = move['n_move']\n",
    "        white_move_san = move['white_move']\n",
    "        black_move_san = move['black_move']\n",
    "        current_fens = {'n_move': n_move}\n",
    "        \n",
    "        try:\n",
    "            move_obj_white = board.parse_san(white_move_san)\n",
    "            board.push(move_obj_white)\n",
    "            fens_sequence.append(board.fen())\n",
    "        except ValueError as e:\n",
    "            print(f\"Error applying White's move '{white_move_san}' at move number {n_move}: {e}\")\n",
    "            return fens_sequence # Stop processing on error\n",
    "        except chess.InvalidMoveError as e:\n",
    "            print(f\"Invalid White's move '{white_move_san}' at move number {n_move}: {e}\")\n",
    "            return fens_sequence # Stop processing on error\n",
    "\n",
    "\n",
    "        # 2. Apply Black's move and get FEN\n",
    "        try:\n",
    "            move_obj_black = board.parse_san(black_move_san)\n",
    "            board.push(move_obj_black)\n",
    "            fens_sequence.append(board.fen())\n",
    "        except ValueError as e:\n",
    "            print(f\"Error applying Black's move '{black_move_san}' at move number {n_move}: {e}\")\n",
    "            return fens_sequence # Stop processing on error\n",
    "        except chess.InvalidMoveError as e:\n",
    "            print(f\"Invalid Black's move '{black_move_san}' at move number {n_move}: {e}\")\n",
    "            return fens_sequence # Stop processing on error\n",
    "\n",
    "        #fens_sequence.append(current_fens)\n",
    "    return fens_sequence"
   ]
  },
  {
   "cell_type": "code",
   "execution_count": 26,
   "id": "2d0434fa-b938-47a2-beae-8780635b6749",
   "metadata": {},
   "outputs": [],
   "source": [
    "a = get_fens_from_games(a)"
   ]
  },
  {
   "cell_type": "code",
   "execution_count": 27,
   "id": "e18f33b3-a483-42e0-bac7-d81c7f977bc4",
   "metadata": {},
   "outputs": [
    {
     "data": {
      "text/plain": [
       "['rnbqkbnr/pppppppp/8/8/3P4/8/PPP1PPPP/RNBQKBNR b KQkq - 0 1',\n",
       " 'rnbqkbnr/pp1ppppp/2p5/8/3P4/8/PPP1PPPP/RNBQKBNR w KQkq - 0 2',\n",
       " 'rnbqkbnr/pp1ppppp/2p5/8/2PP4/8/PP2PPPP/RNBQKBNR b KQkq - 0 2',\n",
       " 'rnbqkbnr/pp2pppp/2p5/3p4/2PP4/8/PP2PPPP/RNBQKBNR w KQkq - 0 3',\n",
       " 'rnbqkbnr/pp2pppp/2p5/3p4/2PP4/5N2/PP2PPPP/RNBQKB1R b KQkq - 1 3',\n",
       " 'rnbqkb1r/pp2pppp/2p2n2/3p4/2PP4/5N2/PP2PPPP/RNBQKB1R w KQkq - 2 4',\n",
       " 'rnbqkb1r/pp2pppp/2p2n2/3p4/2PP4/2N2N2/PP2PPPP/R1BQKB1R b KQkq - 3 4',\n",
       " 'rnbqkb1r/pp3ppp/2p1pn2/3p4/2PP4/2N2N2/PP2PPPP/R1BQKB1R w KQkq - 0 5',\n",
       " 'rnbqkb1r/pp3ppp/2p1pn2/3P4/3P4/2N2N2/PP2PPPP/R1BQKB1R b KQkq - 0 5',\n",
       " 'rnbqkb1r/pp3ppp/2p2n2/3p4/3P4/2N2N2/PP2PPPP/R1BQKB1R w KQkq - 0 6',\n",
       " 'rnbqkb1r/pp3ppp/2p2n2/3p2B1/3P4/2N2N2/PP2PPPP/R2QKB1R b KQkq - 1 6',\n",
       " 'rnbqk2r/pp3ppp/2pb1n2/3p2B1/3P4/2N2N2/PP2PPPP/R2QKB1R w KQkq - 2 7',\n",
       " 'rnbqk2r/pp3ppp/2pb1n2/3p2B1/3P4/2N2N2/PPQ1PPPP/R3KB1R b KQkq - 3 7',\n",
       " 'rnbqk2r/pp3pp1/2pb1n1p/3p2B1/3P4/2N2N2/PPQ1PPPP/R3KB1R w KQkq - 0 8',\n",
       " 'rnbqk2r/pp3pp1/2pb1n1p/3p4/3P3B/2N2N2/PPQ1PPPP/R3KB1R b KQkq - 1 8',\n",
       " 'rnbq1rk1/pp3pp1/2pb1n1p/3p4/3P3B/2N2N2/PPQ1PPPP/R3KB1R w KQ - 2 9',\n",
       " 'rnbq1rk1/pp3pp1/2pb1n1p/3p4/3P3B/2N1PN2/PPQ2PPP/R3KB1R b KQ - 0 9',\n",
       " 'rn1q1rk1/pp3pp1/2pb1n1p/3p4/3P2bB/2N1PN2/PPQ2PPP/R3KB1R w KQ - 1 10',\n",
       " 'rn1q1rk1/pp3pp1/2pb1n1p/3p4/3P2bB/2NBPN2/PPQ2PPP/R3K2R b KQ - 2 10',\n",
       " 'r2q1rk1/pp1n1pp1/2pb1n1p/3p4/3P2bB/2NBPN2/PPQ2PPP/R3K2R w KQ - 3 11',\n",
       " 'r2q1rk1/pp1n1pp1/2pb1n1p/3p4/3P2bB/2NBPN1P/PPQ2PP1/R3K2R b KQ - 0 11',\n",
       " 'r2q1rk1/pp1n1pp1/2pbbn1p/3p4/3P3B/2NBPN1P/PPQ2PP1/R3K2R w KQ - 1 12',\n",
       " 'r2q1rk1/pp1n1pp1/2pbbn1p/3p4/3P3B/2NBPN1P/PPQ2PP1/R4RK1 b - - 2 12',\n",
       " 'r4rk1/ppqn1pp1/2pbbn1p/3p4/3P3B/2NBPN1P/PPQ2PP1/R4RK1 w - - 3 13',\n",
       " 'r4rk1/ppqn1pp1/2pbbn1p/3p4/3P3B/2NBPN1P/PPQ2PP1/3R1RK1 b - - 4 13',\n",
       " 'r4rk1/ppqn1p2/2pbbn1p/3p2p1/3P3B/2NBPN1P/PPQ2PP1/3R1RK1 w - - 0 14',\n",
       " 'r4rk1/ppqn1p2/2pbbn1p/3p2B1/3P4/2NBPN1P/PPQ2PP1/3R1RK1 b - - 0 14',\n",
       " 'r4rk1/ppqn1p2/2pbbn2/3p2p1/3P4/2NBPN1P/PPQ2PP1/3R1RK1 w - - 0 15',\n",
       " 'r4rk1/ppqn1p2/2pbbn2/3p2N1/3P4/2NBP2P/PPQ2PP1/3R1RK1 b - - 0 15',\n",
       " 'r4r2/ppqn1pk1/2pbbn2/3p2N1/3P4/2NBP2P/PPQ2PP1/3R1RK1 w - - 1 16',\n",
       " 'r4r2/ppqn1pk1/2pbbn2/3p1BN1/3P4/2N1P2P/PPQ2PP1/3R1RK1 b - - 2 16',\n",
       " 'r4r2/ppqn1pk1/2pb1n2/3p1bN1/3P4/2N1P2P/PPQ2PP1/3R1RK1 w - - 0 17',\n",
       " 'r4r2/ppqn1pk1/2pb1n2/3p1QN1/3P4/2N1P2P/PP3PP1/3R1RK1 b - - 0 17',\n",
       " 'r6r/ppqn1pk1/2pb1n2/3p1QN1/3P4/2N1P2P/PP3PP1/3R1RK1 w - - 1 18',\n",
       " 'r6r/ppqn1pk1/2pb1n2/3p1QN1/3PP3/2N4P/PP3PP1/3R1RK1 b - - 0 18',\n",
       " 'r6r/ppqn1pk1/2pb1n2/5QN1/3Pp3/2N4P/PP3PP1/3R1RK1 w - - 0 19',\n",
       " 'r6r/ppqn1pk1/2pb1n2/5QN1/3PN3/7P/PP3PP1/3R1RK1 b - - 0 19',\n",
       " 'r6r/ppqn1pk1/2p2n2/5QN1/3PN3/7P/PP3PPb/3R1RK1 w - - 1 20',\n",
       " 'r6r/ppqn1pk1/2p2n2/5QN1/3PN3/7P/PP3PPb/3R1R1K b - - 2 20',\n",
       " 'r6r/pp1n1pk1/2p2n2/5QN1/3PNq2/7P/PP3PPb/3R1R1K w - - 3 21',\n",
       " 'r6r/pp1n1pk1/2p2n2/6N1/3PNQ2/7P/PP3PPb/3R1R1K b - - 0 21',\n",
       " 'r6r/pp1n1pk1/2p2n2/6N1/3PNb2/7P/PP3PP1/3R1R1K w - - 0 22',\n",
       " 'r6r/pp1n1pk1/2p2N2/6N1/3P1b2/7P/PP3PP1/3R1R1K b - - 0 22',\n",
       " 'r6r/pp3pk1/2p2n2/6N1/3P1b2/7P/PP3PP1/3R1R1K w - - 0 23',\n",
       " 'r6r/pp3pk1/2p2n2/8/3P1b2/5N1P/PP3PP1/3R1R1K b - - 1 23',\n",
       " 'r6r/pp3pk1/2pb1n2/8/3P4/5N1P/PP3PP1/3R1R1K w - - 2 24',\n",
       " 'r6r/pp3pk1/2pb1n2/8/3P4/5N1P/PP3PP1/3RR2K b - - 3 24',\n",
       " '4r2r/pp3pk1/2pb1n2/8/3P4/5N1P/PP3PP1/3RR2K w - - 4 25',\n",
       " '4r2r/pp3pk1/2pb1n2/8/3P4/5N1P/PP3PP1/3RR1K1 b - - 5 25',\n",
       " '4r2r/pp3pk1/2pb4/8/3Pn3/5N1P/PP3PP1/3RR1K1 w - - 6 26',\n",
       " '4r2r/pp3pk1/2pb4/8/3Pn3/4RN1P/PP3PP1/3R2K1 b - - 7 26',\n",
       " '4r2r/pp4k1/2pb4/5p2/3Pn3/4RN1P/PP3PP1/3R2K1 w - - 0 27',\n",
       " '4r2r/pp4k1/2pb4/5p2/3Pn3/1R3N1P/PP3PP1/3R2K1 b - - 1 27',\n",
       " '4r2r/p5k1/1ppb4/5p2/3Pn3/1R3N1P/PP3PP1/3R2K1 w - - 0 28',\n",
       " '4r2r/p5k1/1ppb4/5p2/3Pn3/1R3N1P/PP3PP1/3R1K2 b - - 1 28',\n",
       " '4r2r/p5k1/1p1b4/2p2p2/3Pn3/1R3N1P/PP3PP1/3R1K2 w - - 0 29',\n",
       " '4r2r/p5k1/1p1b4/2P2p2/4n3/1R3N1P/PP3PP1/3R1K2 b - - 0 29',\n",
       " '4r2r/p5k1/1p6/2b2p2/4n3/1R3N1P/PP3PP1/3R1K2 w - - 0 30',\n",
       " '4r2r/p2R2k1/1p6/2b2p2/4n3/1R3N1P/PP3PP1/5K2 b - - 1 30',\n",
       " '7r/p2Rr1k1/1p6/2b2p2/4n3/1R3N1P/PP3PP1/5K2 w - - 2 31',\n",
       " '7r/p3R1k1/1p6/2b2p2/4n3/1R3N1P/PP3PP1/5K2 b - - 0 31',\n",
       " '7r/p3b1k1/1p6/5p2/4n3/1R3N1P/PP3PP1/5K2 w - - 0 32',\n",
       " '7r/p3b1k1/1p6/5p2/3Nn3/1R5P/PP3PP1/5K2 b - - 1 32',\n",
       " '3r4/p3b1k1/1p6/5p2/3Nn3/1R5P/PP3PP1/5K2 w - - 2 33',\n",
       " '3r4/p3b1k1/1p2N3/5p2/4n3/1R5P/PP3PP1/5K2 b - - 3 33',\n",
       " '3r4/p3b3/1p2Nk2/5p2/4n3/1R5P/PP3PP1/5K2 w - - 4 34',\n",
       " '3N4/p3b3/1p3k2/5p2/4n3/1R5P/PP3PP1/5K2 b - - 0 34',\n",
       " '3b4/p7/1p3k2/5p2/4n3/1R5P/PP3PP1/5K2 w - - 0 35',\n",
       " '3b4/p7/1p3k2/5p2/4n3/3R3P/PP3PP1/5K2 b - - 1 35',\n",
       " '8/p1b5/1p3k2/5p2/4n3/3R3P/PP3PP1/5K2 w - - 2 36',\n",
       " '8/p1b5/1p3k2/5p2/4n3/3R1P1P/PP4P1/5K2 b - - 0 36',\n",
       " '8/p1b5/1p3k2/2n2p2/8/3R1P1P/PP4P1/5K2 w - - 1 37',\n",
       " '8/p1b5/1p3k2/2nR1p2/8/5P1P/PP4P1/5K2 b - - 2 37',\n",
       " '8/p7/1p3k2/2nR1p2/5b2/5P1P/PP4P1/5K2 w - - 3 38',\n",
       " '8/p7/1p3k2/2n2p2/5b2/5P1P/PP4P1/3R1K2 b - - 4 38',\n",
       " '8/p7/1p3k2/2n1bp2/8/5P1P/PP4P1/3R1K2 w - - 5 39',\n",
       " '8/p7/1p3k2/2n1bp2/8/1P3P1P/P5P1/3R1K2 b - - 0 39',\n",
       " '8/8/1p3k2/p1n1bp2/8/1P3P1P/P5P1/3R1K2 w - - 0 40',\n",
       " '8/8/1p3k2/p1n1bp2/7P/1P3P2/P5P1/3R1K2 b - - 0 40',\n",
       " '8/8/1p2k3/p1n1bp2/7P/1P3P2/P5P1/3R1K2 w - - 1 41',\n",
       " '8/8/1p2k3/p1n1bp2/7P/1P3P2/P4KP1/3R4 b - - 2 41',\n",
       " '8/8/1p2k3/p1n2p2/5b1P/1P3P2/P4KP1/3R4 w - - 3 42',\n",
       " '8/8/1p2k3/p1n2p1P/5b2/1P3P2/P4KP1/3R4 b - - 0 42',\n",
       " '8/8/1p2k2b/p1n2p1P/8/1P3P2/P4KP1/3R4 w - - 1 43',\n",
       " '8/8/1p2k2b/p1n2p1P/6P1/1P3P2/P4K2/3R4 b - - 0 43',\n",
       " '8/8/4k2b/ppn2p1P/6P1/1P3P2/P4K2/3R4 w - - 0 44',\n",
       " '8/8/4k2b/ppn2p1P/6P1/1P3P2/P4K2/4R3 b - - 1 44',\n",
       " '8/8/5k1b/ppn2p1P/6P1/1P3P2/P4K2/4R3 w - - 2 45',\n",
       " '8/8/5k1b/ppn2p1P/6P1/1P3P2/P4K2/3R4 b - - 3 45',\n",
       " '8/8/5k1b/ppn4P/6p1/1P3P2/P4K2/3R4 w - - 0 46',\n",
       " '8/8/5k1b/ppn4P/6P1/1P6/P4K2/3R4 b - - 0 46',\n",
       " '8/8/5k1b/pp5P/4n1P1/1P6/P4K2/3R4 w - - 1 47',\n",
       " '8/8/5k1b/pp5P/4n1P1/1P3K2/P7/3R4 b - - 2 47',\n",
       " '8/8/5k1b/pp5P/6P1/1Pn2K2/P7/3R4 w - - 3 48',\n",
       " '8/8/5k1b/pp5P/3R2P1/1Pn2K2/P7/8 b - - 4 48',\n",
       " '8/6k1/7b/pp5P/3R2P1/1Pn2K2/P7/8 w - - 5 49',\n",
       " '8/6k1/7b/pp5P/6P1/1PnR1K2/P7/8 b - - 6 49',\n",
       " '8/6k1/8/pp4bP/6P1/1PnR1K2/P7/8 w - - 7 50']"
      ]
     },
     "execution_count": 27,
     "metadata": {},
     "output_type": "execute_result"
    }
   ],
   "source": [
    "a"
   ]
  },
  {
   "cell_type": "code",
   "execution_count": null,
   "id": "2a6667c8-b384-468d-90d8-e444d7b92dba",
   "metadata": {},
   "outputs": [],
   "source": [
    "def get_fens_for_game_moves(moves_list: list[dict]) -> list[dict]:\n",
    "    \"\"\"\n",
    "    Generates FENs for each half-move in a list of chess moves.\n",
    "\n",
    "    Args:\n",
    "        moves_list: A list of dictionaries, where each dictionary has\n",
    "                    'n_move', 'white_move' (SAN), and 'black_move' (SAN).\n",
    "\n",
    "    Returns:\n",
    "        A list of dictionaries, each containing:\n",
    "        - 'n_move': The move number.\n",
    "        - 'white_fen': The FEN string after White's move.\n",
    "        - 'black_fen': The FEN string after Black's move.\n",
    "        Returns an empty list or stops processing if an invalid move is encountered.\n",
    "    \"\"\"\n",
    "    board = chess.Board() # Initialize a standard chess board\n",
    "    fens_sequence = []\n",
    "\n",
    "    for move_entry in moves_list:\n",
    "        n_move = move_entry['n_move']\n",
    "        white_move_san = move_entry['white_move']\n",
    "        black_move_san = move_entry['black_move']\n",
    "\n",
    "        current_fens = {'n_move': n_move}\n",
    "\n",
    "        # 1. Apply White's move and get FEN\n",
    "        try:\n",
    "            move_obj_white = board.parse_san(white_move_san)\n",
    "            board.push(move_obj_white)\n",
    "            current_fens['white_fen'] = board.fen()\n",
    "        except ValueError as e:\n",
    "            print(f\"Error applying White's move '{white_move_san}' at move number {n_move}: {e}\")\n",
    "            # If a move is invalid, the sequence is broken. You might want to\n",
    "            # return what you have so far or raise an error depending on your needs.\n",
    "            return fens_sequence # Stop processing on error\n",
    "        except chess.InvalidMoveError as e:\n",
    "            print(f\"Invalid White's move '{white_move_san}' at move number {n_move}: {e}\")\n",
    "            return fens_sequence # Stop processing on error\n",
    "\n",
    "\n",
    "        # 2. Apply Black's move and get FEN\n",
    "        try:\n",
    "            move_obj_black = board.parse_san(black_move_san)\n",
    "            board.push(move_obj_black)\n",
    "            current_fens['black_fen'] = board.fen()\n",
    "        except ValueError as e:\n",
    "            print(f\"Error applying Black's move '{black_move_san}' at move number {n_move}: {e}\")\n",
    "            return fens_sequence # Stop processing on error\n",
    "        except chess.InvalidMoveError as e:\n",
    "            print(f\"Invalid Black's move '{black_move_san}' at move number {n_move}: {e}\")\n",
    "            return fens_sequence # Stop processing on error\n",
    "\n",
    "        fens_sequence.append(current_fens)\n",
    "\n",
    "    return fens_sequence\n",
    "\n",
    "# Get the FENs for your list of moves\n",
    "game_fens_result = get_fens_for_game_moves(moves_data)\n",
    "\n",
    "# Print the results\n",
    "for entry in game_fens_result:\n",
    "    print(f\"Move {entry['n_move']}:\")\n",
    "    print(f\"  White FEN: {entry['white_fen']}\")\n",
    "    print(f\"  Black FEN: {entry['black_fen']}\")\n",
    "\n",
    "# You can also verify the final board state if needed\n",
    "if game_fens_result:\n",
    "    print(f\"\\nFinal FEN after all moves: {game_fens_result[-1]['black_fen']}\")"
   ]
  },
  {
   "cell_type": "code",
   "execution_count": null,
   "id": "57a8abd1-699e-4d6c-8cf7-2bab6b2369eb",
   "metadata": {},
   "outputs": [],
   "source": []
  },
  {
   "cell_type": "code",
   "execution_count": null,
   "id": "16c1d6a2-f244-41ac-a6ab-216c813e157c",
   "metadata": {},
   "outputs": [],
   "source": []
  },
  {
   "cell_type": "code",
   "execution_count": null,
   "id": "1fd1f8c9-6688-421c-bff3-4a2e8100dd75",
   "metadata": {},
   "outputs": [],
   "source": []
  },
  {
   "cell_type": "code",
   "execution_count": null,
   "id": "fdf9e5b4-312c-4e84-a54a-198c5c88e932",
   "metadata": {},
   "outputs": [],
   "source": []
  },
  {
   "cell_type": "code",
   "execution_count": null,
   "id": "c6ba72e9-54fd-4067-9c87-a29d208ba811",
   "metadata": {},
   "outputs": [],
   "source": []
  },
  {
   "cell_type": "code",
   "execution_count": null,
   "id": "ac7b2a72-c511-4477-9384-4f699b8d9fe5",
   "metadata": {},
   "outputs": [],
   "source": []
  },
  {
   "cell_type": "code",
   "execution_count": 14,
   "id": "535f2d8c-4b06-447f-a94f-36f3c36f769a",
   "metadata": {},
   "outputs": [
    {
     "data": {
      "text/plain": [
       "[{'n_move': 1, 'white_move': 'd4', 'black_move': 'c6'},\n",
       " {'n_move': 2, 'white_move': 'c4', 'black_move': 'd5'},\n",
       " {'n_move': 3, 'white_move': 'Nf3', 'black_move': 'Nf6'},\n",
       " {'n_move': 4, 'white_move': 'Nc3', 'black_move': 'e6'},\n",
       " {'n_move': 5, 'white_move': 'cxd5', 'black_move': 'exd5'},\n",
       " {'n_move': 6, 'white_move': 'Bg5', 'black_move': 'Bd6'},\n",
       " {'n_move': 7, 'white_move': 'Qc2', 'black_move': 'h6'},\n",
       " {'n_move': 8, 'white_move': 'Bh4', 'black_move': 'O-O'},\n",
       " {'n_move': 9, 'white_move': 'e3', 'black_move': 'Bg4'},\n",
       " {'n_move': 10, 'white_move': 'Bd3', 'black_move': 'Nbd7'},\n",
       " {'n_move': 11, 'white_move': 'h3', 'black_move': 'Be6'},\n",
       " {'n_move': 12, 'white_move': 'O-O', 'black_move': 'Qc7'},\n",
       " {'n_move': 13, 'white_move': 'Rad1', 'black_move': 'g5'},\n",
       " {'n_move': 14, 'white_move': 'Bxg5', 'black_move': 'hxg5'},\n",
       " {'n_move': 15, 'white_move': 'Nxg5', 'black_move': 'Kg7'},\n",
       " {'n_move': 16, 'white_move': 'Bf5', 'black_move': 'Bxf5'},\n",
       " {'n_move': 17, 'white_move': 'Qxf5', 'black_move': 'Rh8'},\n",
       " {'n_move': 18, 'white_move': 'e4', 'black_move': 'dxe4'},\n",
       " {'n_move': 19, 'white_move': 'Ncxe4', 'black_move': 'Bh2+'},\n",
       " {'n_move': 20, 'white_move': 'Kh1', 'black_move': 'Qf4'},\n",
       " {'n_move': 21, 'white_move': 'Qxf4', 'black_move': 'Bxf4'},\n",
       " {'n_move': 22, 'white_move': 'Nxf6', 'black_move': 'Nxf6'},\n",
       " {'n_move': 23, 'white_move': 'Nf3', 'black_move': 'Bd6'},\n",
       " {'n_move': 24, 'white_move': 'Rfe1', 'black_move': 'Rae8'},\n",
       " {'n_move': 25, 'white_move': 'Kg1', 'black_move': 'Ne4'},\n",
       " {'n_move': 26, 'white_move': 'Re3', 'black_move': 'f5'},\n",
       " {'n_move': 27, 'white_move': 'Rb3', 'black_move': 'b6'},\n",
       " {'n_move': 28, 'white_move': 'Kf1', 'black_move': 'c5'},\n",
       " {'n_move': 29, 'white_move': 'dxc5', 'black_move': 'Bxc5'},\n",
       " {'n_move': 30, 'white_move': 'Rd7+', 'black_move': 'Re7'},\n",
       " {'n_move': 31, 'white_move': 'Rxe7+', 'black_move': 'Bxe7'},\n",
       " {'n_move': 32, 'white_move': 'Nd4', 'black_move': 'Rd8'},\n",
       " {'n_move': 33, 'white_move': 'Ne6+', 'black_move': 'Kf6'},\n",
       " {'n_move': 34, 'white_move': 'Nxd8', 'black_move': 'Bxd8'},\n",
       " {'n_move': 35, 'white_move': 'Rd3', 'black_move': 'Bc7'},\n",
       " {'n_move': 36, 'white_move': 'f3', 'black_move': 'Nc5'},\n",
       " {'n_move': 37, 'white_move': 'Rd5', 'black_move': 'Bf4'},\n",
       " {'n_move': 38, 'white_move': 'Rd1', 'black_move': 'Be5'},\n",
       " {'n_move': 39, 'white_move': 'b3', 'black_move': 'a5'},\n",
       " {'n_move': 40, 'white_move': 'h4', 'black_move': 'Ke6'},\n",
       " {'n_move': 41, 'white_move': 'Kf2', 'black_move': 'Bf4'},\n",
       " {'n_move': 42, 'white_move': 'h5', 'black_move': 'Bh6'},\n",
       " {'n_move': 43, 'white_move': 'g4', 'black_move': 'b5'},\n",
       " {'n_move': 44, 'white_move': 'Re1+', 'black_move': 'Kf6'},\n",
       " {'n_move': 45, 'white_move': 'Rd1', 'black_move': 'fxg4'},\n",
       " {'n_move': 46, 'white_move': 'fxg4', 'black_move': 'Ne4+'},\n",
       " {'n_move': 47, 'white_move': 'Kf3', 'black_move': 'Nc3'},\n",
       " {'n_move': 48, 'white_move': 'Rd4', 'black_move': 'Kg7'},\n",
       " {'n_move': 49, 'white_move': 'Rd3', 'black_move': 'Bg5'}]"
      ]
     },
     "execution_count": 14,
     "metadata": {},
     "output_type": "execute_result"
    }
   ],
   "source": [
    "a"
   ]
  },
  {
   "cell_type": "code",
   "execution_count": null,
   "id": "37cca1b2-33a7-40e2-8adf-1f3d74936603",
   "metadata": {},
   "outputs": [],
   "source": []
  }
 ],
 "metadata": {
  "kernelspec": {
   "display_name": "chessism_gpu",
   "language": "python",
   "name": "chessism_gpu"
  },
  "language_info": {
   "codemirror_mode": {
    "name": "ipython",
    "version": 3
   },
   "file_extension": ".py",
   "mimetype": "text/x-python",
   "name": "python",
   "nbconvert_exporter": "python",
   "pygments_lexer": "ipython3",
   "version": "3.12.9"
  }
 },
 "nbformat": 4,
 "nbformat_minor": 5
}
