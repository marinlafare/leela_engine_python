{
 "cells": [
  {
   "cell_type": "code",
   "execution_count": 1,
   "id": "1593885e-6a3c-40b0-9c3c-0f5c71e42260",
   "metadata": {},
   "outputs": [
    {
     "name": "stderr",
     "output_type": "stream",
     "text": [
      "/home/jon/anaconda3/envs/chessism_gpu/lib/python3.12/site-packages/requests/__init__.py:86: RequestsDependencyWarning: Unable to find acceptable character detection dependency (chardet or charset_normalizer).\n",
      "  warnings.warn(\n"
     ]
    },
    {
     "name": "stdout",
     "output_type": "stream",
     "text": [
      "Database 'chessism' already exists.\n",
      "Ensuring database tables exist...\n",
      "Database tables checked/created.\n",
      "Asynchronous database initialization complete.\n"
     ]
    }
   ],
   "source": [
    "import os\n",
    "import nest_asyncio\n",
    "import chess\n",
    "import chess.engine\n",
    "import asyncio\n",
    "import re\n",
    "from database.database.engine import init_db\n",
    "from constants import CONN_STRING\n",
    "from database.database.ask_db import delete_all_leela_tables\n",
    "\n",
    "from sqlalchemy.orm import Session # Ensure this is also imported\n",
    "from database.database.engine import AsyncDBSession # <--- ADD THIS LINE\n",
    "from database.operations.collect_data import *\n",
    "from database.operations.fen import analyze_fens_from_main_fen_batch,analyze_user_games_fens\n",
    "await init_db(CONN_STRING)"
   ]
  },
  {
   "cell_type": "code",
   "execution_count": 2,
   "id": "662ebff7-1ed7-41ed-9c69-eac04fcc4062",
   "metadata": {},
   "outputs": [],
   "source": [
    "#await delete_all_leela_tables()"
   ]
  },
  {
   "cell_type": "code",
   "execution_count": 3,
   "id": "eab4beea-75e7-4079-92ef-cc1aea389357",
   "metadata": {},
   "outputs": [],
   "source": [
    "#n_games = 10000"
   ]
  },
  {
   "cell_type": "code",
   "execution_count": 4,
   "id": "c20585bd-1272-438c-a1b4-0592cfecbc8e",
   "metadata": {},
   "outputs": [],
   "source": [
    "username = 'lafareto'\n",
    "n_games = 20\n",
    "new_games = await get_game_links_by_username(username, n_games)\n",
    "#new_games[:3]\n",
    "moves_data_batch = await get_all_moves_for_links_batch(new_games)\n",
    "#moves_data_batch[108885029249][0]\n",
    "precessed_games_data, fens_sequence_with_counters = await generate_fens_for_single_game_moves(moves_data_batch)"
   ]
  },
  {
   "cell_type": "code",
   "execution_count": 5,
   "id": "776dd7f2-c85a-4c80-8136-da4e7e7e9b06",
   "metadata": {},
   "outputs": [],
   "source": [
    "fens_to_insert, fens_to_update = await get_new_fens(fens_sequence_with_counters)"
   ]
  },
  {
   "cell_type": "code",
   "execution_count": null,
   "id": "d79843cd-3194-4441-ab2e-14564ee2b8bb",
   "metadata": {},
   "outputs": [],
   "source": [
    "await insert_to_main_fens(fens_to_insert, fens_to_update)"
   ]
  },
  {
   "cell_type": "code",
   "execution_count": null,
   "id": "a0f513d9-cd5c-439d-94c3-c3e5db1dbc45",
   "metadata": {},
   "outputs": [],
   "source": [
    "##insert_to_main_fens"
   ]
  },
  {
   "cell_type": "code",
   "execution_count": null,
   "id": "eb76c812-8722-46d7-9a23-aa1adecd96be",
   "metadata": {},
   "outputs": [],
   "source": []
  },
  {
   "cell_type": "code",
   "execution_count": null,
   "id": "f5498a76-f63e-42bf-a092-4808531c39bb",
   "metadata": {},
   "outputs": [],
   "source": []
  },
  {
   "cell_type": "code",
   "execution_count": null,
   "id": "0203bd73-6a86-439a-9fdc-a6d4cdd457f2",
   "metadata": {},
   "outputs": [],
   "source": []
  },
  {
   "cell_type": "code",
   "execution_count": null,
   "id": "f62eb89b-a32c-4916-a132-d9cb3cc94495",
   "metadata": {},
   "outputs": [],
   "source": []
  },
  {
   "cell_type": "code",
   "execution_count": null,
   "id": "674b1a87-5804-4043-af5a-9586f2cc7123",
   "metadata": {},
   "outputs": [],
   "source": [
    "simplify = simplify_fen_and_extract_counters_for_insert"
   ]
  },
  {
   "cell_type": "code",
   "execution_count": null,
   "id": "e4650b73-cbc0-468e-8791-f94c44572597",
   "metadata": {},
   "outputs": [],
   "source": [
    "moves_data_batch.keys()"
   ]
  },
  {
   "cell_type": "code",
   "execution_count": null,
   "id": "d957e23e-b2b4-4bb9-9875-a1115208a504",
   "metadata": {},
   "outputs": [],
   "source": [
    "moves_data_batch[108885029249][0]"
   ]
  },
  {
   "cell_type": "code",
   "execution_count": null,
   "id": "50ad100e-b0c7-482d-b4ba-4f7af775394d",
   "metadata": {},
   "outputs": [],
   "source": [
    "board = chess.Board()"
   ]
  },
  {
   "cell_type": "code",
   "execution_count": null,
   "id": "53b7665f-372f-41bc-8e8b-6720ada2f7d4",
   "metadata": {},
   "outputs": [],
   "source": [
    "white_move_san = moves_data_batch[108885029249][0].get('white_move')"
   ]
  },
  {
   "cell_type": "code",
   "execution_count": null,
   "id": "b2302935-3a2b-4cde-bd0d-a2f3b68c6cce",
   "metadata": {},
   "outputs": [],
   "source": [
    "move_obj_white = board.parse_san(white_move_san)"
   ]
  },
  {
   "cell_type": "code",
   "execution_count": null,
   "id": "38c64b9c-1547-43dc-ae24-067ddc20f4a5",
   "metadata": {},
   "outputs": [],
   "source": [
    "move_obj_white"
   ]
  },
  {
   "cell_type": "code",
   "execution_count": null,
   "id": "6ddfeb05-b601-40b2-bfbc-5fe64953f3d4",
   "metadata": {},
   "outputs": [],
   "source": [
    "current_fen = board.fen()"
   ]
  },
  {
   "cell_type": "code",
   "execution_count": null,
   "id": "05b055c9-9a71-423d-bcb6-dd7e6acd565d",
   "metadata": {},
   "outputs": [],
   "source": [
    "current_fen"
   ]
  },
  {
   "cell_type": "code",
   "execution_count": null,
   "id": "07959082-fd56-43e9-9479-398595256747",
   "metadata": {},
   "outputs": [],
   "source": [
    "f = simplify(current_fen)"
   ]
  },
  {
   "cell_type": "code",
   "execution_count": null,
   "id": "bbaa175b-cdcf-4259-a166-c4bff0492242",
   "metadata": {},
   "outputs": [],
   "source": [
    "{'link':315413,'n_move':1+1,'fen':f.fen}"
   ]
  },
  {
   "cell_type": "code",
   "execution_count": null,
   "id": "b55d73b3-3827-4b51-9e93-7d9e42d2b799",
   "metadata": {},
   "outputs": [],
   "source": []
  },
  {
   "cell_type": "code",
   "execution_count": null,
   "id": "e00f1425-4766-4e0d-96a6-7dd85ba88bb4",
   "metadata": {},
   "outputs": [],
   "source": []
  },
  {
   "cell_type": "code",
   "execution_count": null,
   "id": "88f174c5-9cee-4ddb-a3d2-06b422729e0b",
   "metadata": {},
   "outputs": [],
   "source": []
  },
  {
   "cell_type": "code",
   "execution_count": null,
   "id": "ba0e363b-8325-41eb-8087-1b109c67720c",
   "metadata": {},
   "outputs": [],
   "source": [
    "simplify_fen_and_extract_counters_for_insert('rnbqkbnr/pppppppp/8/8/8/8/PPPPPPPP/RNBQKBNR w KQkq - 0 1')"
   ]
  },
  {
   "cell_type": "code",
   "execution_count": null,
   "id": "8c89520d-b27b-414f-a3c7-ff929721b8a0",
   "metadata": {},
   "outputs": [],
   "source": []
  },
  {
   "cell_type": "code",
   "execution_count": null,
   "id": "b7655a53-a47b-43b0-a217-4d60e4e00e23",
   "metadata": {},
   "outputs": [],
   "source": []
  },
  {
   "cell_type": "code",
   "execution_count": null,
   "id": "78463800-540e-43c0-9861-40b4b73d2ddd",
   "metadata": {},
   "outputs": [],
   "source": [
    "a,b = await _generate_fens_for_single_game_moves(moves_data_batch)"
   ]
  },
  {
   "cell_type": "code",
   "execution_count": null,
   "id": "1db6af30-173c-4f0e-ada3-c2c4e82259ab",
   "metadata": {},
   "outputs": [],
   "source": [
    "a"
   ]
  },
  {
   "cell_type": "code",
   "execution_count": null,
   "id": "5b8b171b-a424-41e7-937c-2a874b293919",
   "metadata": {},
   "outputs": [],
   "source": [
    "108826158353"
   ]
  },
  {
   "cell_type": "code",
   "execution_count": null,
   "id": "33a6ba67-0037-4d48-b4e5-553dd14d246d",
   "metadata": {},
   "outputs": [],
   "source": [
    "await open_async_request(\"select * from moves where moves.link = '108826158353';\")"
   ]
  },
  {
   "cell_type": "code",
   "execution_count": null,
   "id": "ca178871-1b60-4d84-9494-78d3d06e833d",
   "metadata": {},
   "outputs": [],
   "source": []
  },
  {
   "cell_type": "code",
   "execution_count": null,
   "id": "4cb815d4-5641-4133-848c-fbc99d17c7b4",
   "metadata": {},
   "outputs": [],
   "source": [
    "one_game_moves = moves_data_batch[108826158353]"
   ]
  },
  {
   "cell_type": "code",
   "execution_count": null,
   "id": "1a3d862d-1710-4809-a80a-af6921d73022",
   "metadata": {},
   "outputs": [],
   "source": []
  },
  {
   "cell_type": "code",
   "execution_count": null,
   "id": "47c72209-6a2c-45bd-9ede-d12add4b5259",
   "metadata": {},
   "outputs": [],
   "source": []
  },
  {
   "cell_type": "code",
   "execution_count": null,
   "id": "05c197c5-a28f-49dd-a1a5-c5eb1999d8aa",
   "metadata": {},
   "outputs": [],
   "source": []
  },
  {
   "cell_type": "code",
   "execution_count": null,
   "id": "b4e98df5-09c7-4353-b464-be37acb5bb78",
   "metadata": {},
   "outputs": [],
   "source": [
    "e = await generate_fens_for_single_game_moves(moves_data_batch)"
   ]
  },
  {
   "cell_type": "code",
   "execution_count": null,
   "id": "44986d08-ac32-47f0-bedb-4e18ba4e6082",
   "metadata": {},
   "outputs": [],
   "source": [
    "e"
   ]
  },
  {
   "cell_type": "code",
   "execution_count": null,
   "id": "1bdfe25a-0e55-4904-b6b8-261bf2f10626",
   "metadata": {},
   "outputs": [],
   "source": [
    "a = 'rnbqkbnr/pppppppp/8/8/8/8/PPPPPPPP/RNBQKBNR w KQkq - 0 1'.split(' ')"
   ]
  },
  {
   "cell_type": "code",
   "execution_count": null,
   "id": "cc4035e0-e75a-44b7-b130-28e332f9027c",
   "metadata": {},
   "outputs": [],
   "source": [
    "simplified_fen = ' '.join(a[:4])"
   ]
  },
  {
   "cell_type": "code",
   "execution_count": null,
   "id": "c9157ce7-4c8c-473d-bae1-a166444ff755",
   "metadata": {},
   "outputs": [],
   "source": [
    "simplified_fen"
   ]
  },
  {
   "cell_type": "code",
   "execution_count": null,
   "id": "99099c0b-f568-46a3-ac6d-2cd4e27c2a5e",
   "metadata": {},
   "outputs": [],
   "source": [
    "a[4]"
   ]
  },
  {
   "cell_type": "code",
   "execution_count": null,
   "id": "a5471c87-797b-4797-9c8f-a773b2962d6f",
   "metadata": {},
   "outputs": [],
   "source": [
    "a[5]"
   ]
  },
  {
   "cell_type": "code",
   "execution_count": null,
   "id": "b17d3786-c2b0-49ea-b54e-ec9fa63ebc79",
   "metadata": {},
   "outputs": [],
   "source": []
  },
  {
   "cell_type": "code",
   "execution_count": null,
   "id": "6dac0a7d-4144-483a-9295-2d17fe7fc7ea",
   "metadata": {},
   "outputs": [],
   "source": [
    "simplify_fen_and_extract_counters_for_insert('rnbqkbnr/pppppppp/8/8/8/8/PPPPPPPP/RNBQKBNR w KQkq - 0 1')"
   ]
  },
  {
   "cell_type": "code",
   "execution_count": null,
   "id": "320991d3-ad1d-4833-b8ff-1d5fb3c7488d",
   "metadata": {},
   "outputs": [],
   "source": []
  },
  {
   "cell_type": "code",
   "execution_count": null,
   "id": "0445cd43-4c99-4ec6-b39c-ee1cfff6839c",
   "metadata": {},
   "outputs": [],
   "source": [
    "def simplify_fen_and_extract_counters_for_insert(raw_fen: str) -> MainFenCreateData:\n",
    "    \"\"\"\n",
    "    Simplifies a FEN string by removing move counters and fullmove number,\n",
    "    and prepares data for MainFen insertion.\n",
    "    The initial_counters dictionary is expected to be empty or contain default values.\n",
    "    This function sets initial n_games and moves_counter to 1 for a new observation\n",
    "    within a batch, which will later be aggregated by insert_fens.\n",
    "    \"\"\"\n",
    "    parts = raw_fen.split(' ')\n",
    "    # The first four parts are board, active color, castling availability, en passant target square\n",
    "    simplified_fen = ' '.join(parts[:4])\n",
    "    \n",
    "    # These counters represent the observation from *this* game,\n",
    "    # and will be aggregated with existing data in `insert_fens`.\n",
    "    return MainFenCreateData(\n",
    "        fen=simplified_fen,\n",
    "        n_games=1,\n",
    "        moves_counter=f\"#{parts[4]}#{parts[5]}_\"\n",
    "    )\n"
   ]
  },
  {
   "cell_type": "code",
   "execution_count": null,
   "id": "fd2a384a-64f9-450e-9eeb-b4cfec6553fd",
   "metadata": {},
   "outputs": [],
   "source": []
  },
  {
   "cell_type": "code",
   "execution_count": null,
   "id": "cb20d29b-03ee-4eed-b435-29055d5eadc3",
   "metadata": {},
   "outputs": [],
   "source": []
  },
  {
   "cell_type": "code",
   "execution_count": null,
   "id": "7ef876b1-7cd1-4c21-8730-72a54bdf3983",
   "metadata": {},
   "outputs": [],
   "source": []
  },
  {
   "cell_type": "code",
   "execution_count": null,
   "id": "3ef70d32-f49a-4d9b-ae92-72df51dce196",
   "metadata": {},
   "outputs": [],
   "source": []
  },
  {
   "cell_type": "code",
   "execution_count": null,
   "id": "c26b3005-b2cd-47bd-b7e8-5d5bfb0be5ea",
   "metadata": {},
   "outputs": [],
   "source": []
  },
  {
   "cell_type": "code",
   "execution_count": null,
   "id": "7875c43c-53b6-4fc8-b438-4706a75c8799",
   "metadata": {},
   "outputs": [],
   "source": [
    "type(generate_fens_for_single_game_moves)"
   ]
  },
  {
   "cell_type": "code",
   "execution_count": null,
   "id": "771949c7-6ca1-4bba-98f4-3a545c7f31dd",
   "metadata": {},
   "outputs": [],
   "source": []
  },
  {
   "cell_type": "code",
   "execution_count": null,
   "id": "9f7280bd-f0a8-4489-805e-611f2ba5fac3",
   "metadata": {},
   "outputs": [],
   "source": [
    "generate_fens_for_single_game_moves(moves_data_batch)"
   ]
  },
  {
   "cell_type": "code",
   "execution_count": null,
   "id": "dc42b321-7a88-46f3-b371-dc78bb808509",
   "metadata": {},
   "outputs": [],
   "source": []
  },
  {
   "cell_type": "code",
   "execution_count": null,
   "id": "1391911e-58a2-4209-8567-4df1461499ca",
   "metadata": {},
   "outputs": [],
   "source": []
  },
  {
   "cell_type": "code",
   "execution_count": null,
   "id": "01926d93-203b-496e-aff0-eb6c42788778",
   "metadata": {},
   "outputs": [],
   "source": []
  },
  {
   "cell_type": "code",
   "execution_count": null,
   "id": "991d29e8-0a1b-420c-8664-a2b4a6de5fc1",
   "metadata": {},
   "outputs": [],
   "source": []
  },
  {
   "cell_type": "code",
   "execution_count": null,
   "id": "da511925-d85a-4d57-a909-922ce9490b2f",
   "metadata": {},
   "outputs": [],
   "source": []
  },
  {
   "cell_type": "code",
   "execution_count": null,
   "id": "4ba27536-b1c8-416c-8506-b72f004eba01",
   "metadata": {},
   "outputs": [],
   "source": [
    "for game_link, moves in moves_data_batch.items():\n",
    "    if not moves:\n",
    "        print(game_link)\n",
    "        continue\n",
    "    \n",
    "    game_fens_with_counters = generate_fens_for_single_game_moves(moves)\n",
    "    if game_fens_with_counters:\n",
    "        all_fens_with_counters.extend(game_fens_with_counters)\n",
    "    else:\n",
    "        print('kasjghdklasd')"
   ]
  },
  {
   "cell_type": "code",
   "execution_count": null,
   "id": "7c7caf2d-86ab-498e-914e-115be236ec89",
   "metadata": {},
   "outputs": [],
   "source": []
  },
  {
   "cell_type": "code",
   "execution_count": null,
   "id": "b585f084-74d6-449a-8173-b205a7a42fab",
   "metadata": {},
   "outputs": [],
   "source": []
  },
  {
   "cell_type": "code",
   "execution_count": null,
   "id": "0102790a-f0c1-493f-954f-138df89ac7d7",
   "metadata": {},
   "outputs": [],
   "source": []
  },
  {
   "cell_type": "code",
   "execution_count": null,
   "id": "8996bbfd-ebb6-481d-8a00-3a855a021b33",
   "metadata": {},
   "outputs": [],
   "source": []
  },
  {
   "cell_type": "code",
   "execution_count": null,
   "id": "b60a49fc-25c8-46a9-a6ca-ceda1ca00f37",
   "metadata": {},
   "outputs": [],
   "source": []
  },
  {
   "cell_type": "code",
   "execution_count": null,
   "id": "b73d9d72-f287-45a0-a8f1-72d475d723e7",
   "metadata": {},
   "outputs": [],
   "source": []
  },
  {
   "cell_type": "code",
   "execution_count": null,
   "id": "b6c17847-2704-4b61-8d60-e21f7ceb2cc9",
   "metadata": {},
   "outputs": [],
   "source": []
  },
  {
   "cell_type": "code",
   "execution_count": null,
   "id": "beca3644-a7a8-4983-8ba6-8131c6de97e9",
   "metadata": {},
   "outputs": [],
   "source": []
  },
  {
   "cell_type": "code",
   "execution_count": null,
   "id": "67cb4c87-c31b-47e6-bae3-85dfc2fe7f1d",
   "metadata": {},
   "outputs": [],
   "source": [
    "logger.info(f\"Retrieved moves for {len(moves_data_batch)} games.\")\n",
    "\n",
    "# 2. Generate FENs for each game in the batch\n",
    "for game_link, moves in moves_data_batch.items():\n",
    "    if not moves:\n",
    "        logger.warning(f\"Skipping FEN generation for {game_link} as no moves were found.\")\n",
    "        continue\n",
    "    \n",
    "    game_fens_with_counters = generate_fens_for_single_game_moves(moves)\n",
    "    if game_fens_with_counters:\n",
    "        all_fens_with_counters.extend(game_fens_with_counters)\n",
    "    else:\n",
    "        logger.warning(f\"No valid FENs generated for game {game_link} due to invalid moves or FENs (check debug logs).\")"
   ]
  },
  {
   "cell_type": "code",
   "execution_count": null,
   "id": "a3b09af8-3471-44c5-b611-7a0b207ec651",
   "metadata": {},
   "outputs": [],
   "source": []
  },
  {
   "cell_type": "code",
   "execution_count": null,
   "id": "f3d03476-2e25-4214-a6d8-63996ddf3035",
   "metadata": {},
   "outputs": [],
   "source": [
    "async def all_main_fens() -> str:\n",
    "    \"\"\"\n",
    "    Fetches the count of FENs in 'main_fen' table where 'n_games' is not equal to 1,\n",
    "    formatted with commas.\n",
    "    \"\"\"\n",
    "    sql_query = \"SELECT COUNT(fen) FROM main_fen;\"\n",
    "    result = await open_async_request(sql_query)\n",
    "    count = result[0][0] if result else 0\n",
    "    return f\"RAW {count:,}\"\n",
    "async def all_fens() -> str:\n",
    "    sql_query = \"SELECT COUNT(fen) FROM fen;\"\n",
    "    result = await open_async_request(sql_query)\n",
    "    count = result[0][0] if result else 0\n",
    "    return f\"ANALYZED {count:,}\"\n",
    "print(await all_main_fens())\n",
    "print(await all_fens())"
   ]
  },
  {
   "cell_type": "code",
   "execution_count": null,
   "id": "f7ab7df8-3561-49cd-acad-a451c35c35d7",
   "metadata": {},
   "outputs": [],
   "source": []
  },
  {
   "cell_type": "code",
   "execution_count": null,
   "id": "d6713346-b0e4-4031-a188-62ce44c98886",
   "metadata": {},
   "outputs": [],
   "source": [
    "#results = await analyze_fens_from_main_fen_batch(batch_size = 100, nodes_limit = 50000)"
   ]
  },
  {
   "cell_type": "code",
   "execution_count": null,
   "id": "ed1fd7e7-c6f6-4a58-8485-8c1561b50177",
   "metadata": {},
   "outputs": [],
   "source": [
    "await analyze_user_games_fens(username = 'lafareto',\n",
    "                              n_games_to_process= 10,\n",
    "                              batch_size_fens= 100,\n",
    "                              analysis_time_limit = 3.0,\n",
    "                              n_nodes_limit = 50_000)\n",
    "#await analyze_user_games_fens(username = 'lafareto', batch_size = 100, nodes_limit = 50000)"
   ]
  },
  {
   "cell_type": "code",
   "execution_count": null,
   "id": "1e67f364-d815-4e28-a629-98bbd7ba8b9e",
   "metadata": {},
   "outputs": [],
   "source": [
    "async def all_main_fens() -> str:\n",
    "    \"\"\"\n",
    "    Fetches the count of FENs in 'main_fen' table where 'n_games' is not equal to 1,\n",
    "    formatted with commas.\n",
    "    \"\"\"\n",
    "    sql_query = \"SELECT COUNT(fen) FROM main_fen;\"\n",
    "    result = await open_async_request(sql_query)\n",
    "    count = result[0][0] if result else 0\n",
    "    return f\"RAW {count:,}\"\n",
    "async def all_fens() -> str:\n",
    "    sql_query = \"SELECT COUNT(fen) FROM fen;\"\n",
    "    result = await open_async_request(sql_query)\n",
    "    count = result[0][0] if result else 0\n",
    "    return f\"ANALYZED FENS {count:,}\"\n",
    "async def all_processed_games() -> str:\n",
    "    sql_query = \"SELECT COUNT(link) FROM processed_game;\"\n",
    "    result = await open_async_request(sql_query)\n",
    "    count = result[0][0] if result else 0\n",
    "    return f\"GAMES THAT WE KNOW THE FENS OF {count:,}\"\n",
    "print(await all_main_fens())\n",
    "print(await all_fens())\n",
    "print(await all_processed_games())"
   ]
  },
  {
   "cell_type": "code",
   "execution_count": null,
   "id": "6b7e023a-fa07-4444-b406-f3b6dc1f7ec0",
   "metadata": {},
   "outputs": [],
   "source": []
  },
  {
   "cell_type": "code",
   "execution_count": null,
   "id": "09b0f935-695e-4c8b-a969-49772ae9c799",
   "metadata": {},
   "outputs": [],
   "source": []
  },
  {
   "cell_type": "code",
   "execution_count": null,
   "id": "fe5b1040-7f45-4de9-94d2-71289b0abeda",
   "metadata": {},
   "outputs": [],
   "source": []
  },
  {
   "cell_type": "code",
   "execution_count": null,
   "id": "7b2e5401-4a71-4ccf-8f0d-dd2a54b82ca2",
   "metadata": {},
   "outputs": [],
   "source": []
  },
  {
   "cell_type": "code",
   "execution_count": null,
   "id": "d475d753-8b55-4209-b2a2-86449cf0f1c9",
   "metadata": {},
   "outputs": [],
   "source": []
  },
  {
   "cell_type": "code",
   "execution_count": null,
   "id": "d15c41e0-c0b9-43db-8df8-7059c98a4b1f",
   "metadata": {},
   "outputs": [],
   "source": []
  },
  {
   "cell_type": "code",
   "execution_count": null,
   "id": "03c28e16-bda4-4ffa-8c4d-27eb61da01d4",
   "metadata": {},
   "outputs": [],
   "source": []
  },
  {
   "cell_type": "code",
   "execution_count": null,
   "id": "f531df7b-e1a2-4d5d-8878-656ff31387a2",
   "metadata": {},
   "outputs": [],
   "source": [
    "async def all_fens() -> str:\n",
    "    \"\"\"\n",
    "    Fetches the count of FENs in 'main_fen' table where 'n_games' is not equal to 1,\n",
    "    formatted with commas.\n",
    "    \"\"\"\n",
    "    sql_query = \"SELECT COUNT(fen) FROM fen;\"\n",
    "    result = await open_async_request(sql_query)\n",
    "    count = result[0][0] if result else 0\n",
    "    return f\"{count:,}\""
   ]
  },
  {
   "cell_type": "code",
   "execution_count": null,
   "id": "574abfd5-9878-4742-aaed-4d1f02506f0c",
   "metadata": {},
   "outputs": [],
   "source": [
    "await all_fens()"
   ]
  },
  {
   "cell_type": "code",
   "execution_count": null,
   "id": "965d6385-946f-48be-9a73-79beadeaaae4",
   "metadata": {},
   "outputs": [],
   "source": [
    "await all_fens()"
   ]
  },
  {
   "cell_type": "code",
   "execution_count": null,
   "id": "2ec0a50a-8248-4912-81ef-8a0a2bf2a8c5",
   "metadata": {},
   "outputs": [],
   "source": []
  },
  {
   "cell_type": "code",
   "execution_count": null,
   "id": "69f2b827-7c07-4263-81d8-8776e80c9671",
   "metadata": {},
   "outputs": [],
   "source": []
  },
  {
   "cell_type": "code",
   "execution_count": null,
   "id": "eac54c4f-c88d-4147-b4b4-28d23e64b386",
   "metadata": {},
   "outputs": [],
   "source": []
  },
  {
   "cell_type": "code",
   "execution_count": null,
   "id": "9af0d44a-06b2-4d28-9337-f092933055ee",
   "metadata": {},
   "outputs": [],
   "source": [
    "async def get_main_fen_non_single_game_count() -> str:\n",
    "    \"\"\"\n",
    "    Fetches the count of FENs in 'main_fen' table where 'n_games' is not equal to 1,\n",
    "    formatted with commas.\n",
    "    \"\"\"\n",
    "    sql_query = \"SELECT COUNT(fen) FROM main_fen WHERE n_games != 1;\"\n",
    "    result = await open_async_request(sql_query)\n",
    "    count = result[0][0] if result else 0\n",
    "    return f\"{count:,}\"\n",
    "async def get_main_fen_non_single_game_objects() -> List[Dict[str, Any]]:\n",
    "    \"\"\"\n",
    "    Fetches FEN objects from 'main_fen' table where 'n_games' is not equal to 1.\n",
    "    Returns:\n",
    "        List[Dict[str, Any]]: A list of dictionaries, where each dictionary represents\n",
    "                              a FEN object with 'fen', 'n_games', and 'moves_counter'.\n",
    "    \"\"\"\n",
    "    sql_query = \"SELECT fen, n_games, moves_counter FROM main_fen WHERE n_games != 1;\"\n",
    "    # Use fetch_as_dict=True to get results as dictionaries directly\n",
    "    result = await open_async_request(sql_query, fetch_as_dict=True)\n",
    "    return result\n",
    "\n"
   ]
  },
  {
   "cell_type": "code",
   "execution_count": null,
   "id": "42e75989-6d90-4e8e-902b-739a9d79442f",
   "metadata": {},
   "outputs": [],
   "source": [
    "e = await get_main_fen_non_single_game_objects()"
   ]
  },
  {
   "cell_type": "code",
   "execution_count": null,
   "id": "92341b4b-34ec-40ba-ba0d-52e274d55cc2",
   "metadata": {},
   "outputs": [],
   "source": [
    "e[:20]"
   ]
  },
  {
   "cell_type": "code",
   "execution_count": null,
   "id": "840da9ac-faa4-42a9-948a-0f5367e5b288",
   "metadata": {},
   "outputs": [],
   "source": [
    "async def get_main_fen_non_single_game_objects() -> List[Dict[str, Any]]:\n",
    "    \"\"\"\n",
    "    Fetches FEN objects from 'main_fen' table where 'n_games' is not equal to 1.\n",
    "    Returns:\n",
    "        List[Dict[str, Any]]: A list of dictionaries, where each dictionary represents\n",
    "                              a FEN object with 'fen', 'n_games', and 'moves_counter'.\n",
    "    \"\"\"\n",
    "    sql_query = \"SELECT fen, n_games, moves_counter FROM main_fen WHERE n_games > 2;\" # Changed condition\n",
    "    # Use fetch_as_dict=True to get results as dictionaries directly\n",
    "    result = await open_async_request(sql_query, fetch_as_dict=True)\n",
    "    return result\n"
   ]
  },
  {
   "cell_type": "code",
   "execution_count": null,
   "id": "17877ea1-d9dd-46a3-8922-7f8c6c390eaf",
   "metadata": {},
   "outputs": [],
   "source": [
    "e = await get_main_fen_non_single_game_objects()"
   ]
  },
  {
   "cell_type": "code",
   "execution_count": null,
   "id": "189d475b-8fc4-47ea-a934-8c9c78d7e505",
   "metadata": {},
   "outputs": [],
   "source": [
    "e[:10]"
   ]
  },
  {
   "cell_type": "code",
   "execution_count": null,
   "id": "70d4e40a-6d4f-4ad9-83ff-bb96df731668",
   "metadata": {},
   "outputs": [],
   "source": []
  },
  {
   "cell_type": "code",
   "execution_count": null,
   "id": "24d7a5f2-ea8a-4c15-abcc-0e10ef42c7e7",
   "metadata": {},
   "outputs": [],
   "source": []
  },
  {
   "cell_type": "code",
   "execution_count": null,
   "id": "aa226ffc-2f5e-4e9a-a89d-a8ac9313d781",
   "metadata": {},
   "outputs": [],
   "source": []
  },
  {
   "cell_type": "code",
   "execution_count": null,
   "id": "f2fc0d42-aa3b-4251-8498-bc62ffac07c4",
   "metadata": {},
   "outputs": [],
   "source": [
    "from database.database.ask_db import *\n",
    "new_game_links = get_new_games_links(10)\n",
    "fen_set_from_games = get_fens_from_games_optimized(new_game_links)\n",
    "new_fens = get_new_fens(fen_set_from_games)\n",
    "fens_to_insert = [simplify_fen_and_extract_counters_for_insert(x) for x in new_fens]"
   ]
  },
  {
   "cell_type": "code",
   "execution_count": null,
   "id": "a73dcbbe-3172-4a25-a6b3-6638e63a1b23",
   "metadata": {},
   "outputs": [],
   "source": [
    "insert_fens(fens_to_insert)"
   ]
  },
  {
   "cell_type": "code",
   "execution_count": null,
   "id": "0353f314-49ae-480b-a0d8-24b7644cfbf9",
   "metadata": {},
   "outputs": [],
   "source": [
    "async def update_main_fen_stats(simplified_fen: str, moves_counter_str: str) -> dict:\n",
    "    \"\"\"\n",
    "    Checks if a simplified FEN exists in the 'main_fen' table.\n",
    "    If it exists, increments its 'n_games' count.\n",
    "    If it does not exist, creates a new entry with 'n_games' set to 1.\n",
    "    Also updates the 'moves_counter' for the FEN.\n",
    "\n",
    "    Args:\n",
    "        simplified_fen (str): The FEN string without halfmove clock and fullmove number.\n",
    "        moves_counter_str (str): A string representing the halfmove clock and fullmove number (e.g., '0#18').\n",
    "\n",
    "    Returns:\n",
    "        dict: The updated or newly created MainFen record as a dictionary.\n",
    "    \"\"\"\n",
    "    main_fen_interface = DBInterface(MainFen)\n",
    "    \n",
    "    try:\n",
    "        # 1. Try to read the FEN to see if it already exists\n",
    "        existing_fen = main_fen_interface.read_fen(simplified_fen)\n",
    "\n",
    "        if existing_fen:\n",
    "            # 2. If FEN exists, update n_games and moves_counter\n",
    "            new_n_games = existing_fen['n_games'] + 1\n",
    "            update_data = {\n",
    "                \"n_games\": new_n_games,\n",
    "                \"moves_counter\": moves_counter_str # Always update with the latest counter if needed\n",
    "            }\n",
    "            updated_fen = main_fen_interface.update(simplified_fen, update_data)\n",
    "            print(f\"Updated FEN '{simplified_fen}': n_games={new_n_games}\")\n",
    "            return updated_fen\n",
    "        else:\n",
    "            # 3. If FEN does not exist, create a new entry\n",
    "            create_data = {\n",
    "                \"fen\": simplified_fen,\n",
    "                \"n_games\": 1,\n",
    "                \"moves_counter\": moves_counter_str\n",
    "            }\n",
    "            # Assuming MainFenCreateData is used for Pydantic validation if applicable\n",
    "            # For direct DBInterface.create, a dict is sufficient.\n",
    "            # If you want Pydantic validation before DB write:\n",
    "            # new_main_fen_data = MainFenCreateData(**create_data).model_dump()\n",
    "            new_fen = main_fen_interface.create(create_data)\n",
    "            print(f\"Created new FEN '{simplified_fen}': n_games=1\")\n",
    "            return new_fen\n",
    "\n",
    "    except Exception as e:\n",
    "        print(f\"Error during MainFen upsert for FEN '{simplified_fen}': {e}\")\n",
    "        raise # Re-raise to propagate the error\n",
    "\n",
    "# --- Example Usage (assuming this function is integrated and open_request is available) ---\n",
    "async def demo_main_fen_update():\n",
    "    print(\"--- Demonstrating MainFen Update Logic ---\")\n",
    "\n",
    "    # Example 1: First time a FEN appears\n",
    "    simplified_fen_1 = 'rnbqkbnr/pppppppp/8/8/8/8/PPPPPPPP/RNBQKBNR w KQkq -'\n",
    "    counters_1 = '0#1'\n",
    "    await update_main_fen_stats(simplified_fen_1, counters_1)\n",
    "\n",
    "    # Example 2: Same FEN appears again\n",
    "    await update_main_fen_stats(simplified_fen_1, '1#2') # Counters might change, but FEN is the same\n",
    "\n",
    "    # Example 3: A different FEN appears\n",
    "    simplified_fen_2 = 'rnbqkbnr/pppppppp/8/8/4P3/8/PPPP1PPP/RNBQKBNR b KQkq -'\n",
    "    counters_2 = '1#1'\n",
    "    await update_main_fen_stats(simplified_fen_2, counters_2)\n",
    "\n",
    "    # Example 4: The different FEN appears again\n",
    "    await update_main_fen_stats(simplified_fen_2, '0#3')"
   ]
  },
  {
   "cell_type": "code",
   "execution_count": null,
   "id": "7853b6da-7717-4700-9b65-011bc7c0f6ea",
   "metadata": {},
   "outputs": [],
   "source": []
  },
  {
   "cell_type": "code",
   "execution_count": null,
   "id": "01c8e9e6-5ed8-4c3e-bfd9-c78b83d339d2",
   "metadata": {},
   "outputs": [],
   "source": []
  },
  {
   "cell_type": "code",
   "execution_count": null,
   "id": "1687bc0a-ad1e-42c9-9317-385d7d7269e9",
   "metadata": {},
   "outputs": [],
   "source": [
    "# --- Example Usage ---\n",
    "# Example 1: Full FEN string\n",
    "full_fen_example_1 = 'rnbqkbnr/pppppppp/8/8/8/8/PPPPPPPP/RNBQKBNR w KQkq - 0 1'\n",
    "simplified_fen_1, counters_1 = simplify_fen_and_extract_counters(full_fen_example_1)\n",
    "print(f\"Original FEN: {full_fen_example_1}\")\n",
    "print(f\"Simplified FEN: {simplified_fen_1}\")\n",
    "print(f\"Extracted Counters: {counters_1}\\n\")\n"
   ]
  },
  {
   "cell_type": "code",
   "execution_count": null,
   "id": "c4bfc320-54b2-419a-8635-8427241de475",
   "metadata": {},
   "outputs": [],
   "source": [
    "\n",
    "# Example 2: FEN string with more moves\n",
    "full_fen_example_2 = 'r1r3k1/pp2ppbp/2np2p1/6N1/3PP1n1/P1N4Q/1PBB1q2/R3R1K1 w - - 0 18'\n",
    "simplified_fen_2, counters_2 = simplify_fen_and_extract_counters(full_fen_example_2)\n",
    "print(f\"Original FEN: {full_fen_example_2}\")\n",
    "print(f\"Simplified FEN: {simplified_fen_2}\")\n",
    "print(f\"Extracted Counters: {counters_2}\\n\")\n",
    "\n",
    "# Example 3: FEN that might be missing the last two fields (as discussed previously)\n",
    "# The function will still return the first 4 parts and an empty string for counters\n",
    "fen_without_counters = 'r1r3k1/pp2ppbp/2np2p1/6N1/3PP1n1/P1N4Q/1PBB1q2/R3R1K1 w - -'\n",
    "simplified_fen_3, counters_3 = simplify_fen_and_extract_counters(fen_without_counters)\n",
    "print(f\"Original FEN: {fen_without_counters}\")\n",
    "print(f\"Simplified FEN: {simplified_fen_3}\")\n",
    "print(f\"Extracted Counters: {counters_3}\\n\")\n",
    "\n",
    "# Example 4: Malformed FEN (too short)\n",
    "malformed_fen = 'rnbqkbnr/pppppppp/8/8/8/8/PPPPPPPP/RNBQKBNR w'\n",
    "simplified_fen_4, counters_4 = simplify_fen_and_extract_counters(malformed_fen)\n",
    "print(f\"Original FEN: {malformed_fen}\")\n",
    "print(f\"Simplified FEN: {simplified_fen_4}\")\n",
    "print(f\"Extracted Counters: {counters_4}\\n\")\n"
   ]
  },
  {
   "cell_type": "code",
   "execution_count": null,
   "id": "64490f04-2dc0-4983-af42-11aa64c7c1e2",
   "metadata": {},
   "outputs": [],
   "source": []
  },
  {
   "cell_type": "code",
   "execution_count": null,
   "id": "c476d4f1-c12e-4ce5-9ac8-c36ba6197435",
   "metadata": {},
   "outputs": [],
   "source": []
  },
  {
   "cell_type": "code",
   "execution_count": null,
   "id": "4ccda4ff-ab79-4b5e-9bf1-821b7618ab6c",
   "metadata": {},
   "outputs": [],
   "source": []
  },
  {
   "cell_type": "code",
   "execution_count": null,
   "id": "abd923e9-2bf5-4b4a-8d1b-c8de20d642fb",
   "metadata": {},
   "outputs": [],
   "source": []
  },
  {
   "cell_type": "code",
   "execution_count": null,
   "id": "eaff2ea7-6f88-4d17-8fb1-2bbd775700ab",
   "metadata": {},
   "outputs": [],
   "source": []
  },
  {
   "cell_type": "code",
   "execution_count": null,
   "id": "5ef11dc6-3e47-48dd-88a6-88079bd7dcb8",
   "metadata": {},
   "outputs": [],
   "source": []
  },
  {
   "cell_type": "code",
   "execution_count": null,
   "id": "01c71f05-b3f2-449e-af41-23e702047210",
   "metadata": {},
   "outputs": [],
   "source": [
    "results[0]"
   ]
  },
  {
   "cell_type": "code",
   "execution_count": null,
   "id": "c7d84896-7df7-4849-8db8-c28296b8b5ba",
   "metadata": {},
   "outputs": [],
   "source": []
  },
  {
   "cell_type": "code",
   "execution_count": null,
   "id": "8fae76f4-ab90-4d2c-a89d-08ba7861241a",
   "metadata": {},
   "outputs": [],
   "source": [
    "await open_async_request(\"select * from fen limit(10)\")"
   ]
  },
  {
   "cell_type": "code",
   "execution_count": null,
   "id": "8b923c03-ae0e-4d2f-9921-fab3500fbb92",
   "metadata": {},
   "outputs": [],
   "source": [
    "open_request(\"select link from knownfens limit(5)\")"
   ]
  },
  {
   "cell_type": "code",
   "execution_count": null,
   "id": "5c6bbcef-2be9-4100-9bd6-f892190a59c5",
   "metadata": {},
   "outputs": [],
   "source": [
    "open_request(\"select fen from rawfen\")"
   ]
  },
  {
   "cell_type": "code",
   "execution_count": null,
   "id": "c68efd43-832f-4765-aeae-83cff2e14f6a",
   "metadata": {},
   "outputs": [],
   "source": [
    "moves = get_all_moves_for_links_batch(['108823827815'])"
   ]
  },
  {
   "cell_type": "code",
   "execution_count": null,
   "id": "47e8b580-bbe3-4ffd-9db4-d9a0c51336db",
   "metadata": {},
   "outputs": [],
   "source": [
    "moves"
   ]
  },
  {
   "cell_type": "code",
   "execution_count": null,
   "id": "d4ab826e-e5b7-49b1-a29d-cd789c1dc092",
   "metadata": {},
   "outputs": [],
   "source": [
    "game_fens = get_fens_from_games_optimized([('108823827815')])"
   ]
  },
  {
   "cell_type": "code",
   "execution_count": null,
   "id": "c45f75e5-d53f-45c2-b752-94c13f9477e4",
   "metadata": {},
   "outputs": [],
   "source": [
    "game_fens"
   ]
  },
  {
   "cell_type": "code",
   "execution_count": null,
   "id": "e8fac8d0-55b8-46a6-9fb7-ae2ce6cbe539",
   "metadata": {},
   "outputs": [],
   "source": []
  },
  {
   "cell_type": "code",
   "execution_count": null,
   "id": "0b7ebe62-b6fb-4763-b088-1ec682ab3879",
   "metadata": {},
   "outputs": [],
   "source": [
    "game_fens = generate_fens_for_single_game_moves(moves['108823827815'])"
   ]
  },
  {
   "cell_type": "code",
   "execution_count": null,
   "id": "cad1da9d-a5bc-48cf-8c0f-3cb3758ccd78",
   "metadata": {},
   "outputs": [],
   "source": [
    "game_fens"
   ]
  },
  {
   "cell_type": "code",
   "execution_count": null,
   "id": "4646c010-2c47-488d-b45f-815c9c9eaaca",
   "metadata": {},
   "outputs": [],
   "source": [
    "#delete_all_leela_tables()"
   ]
  },
  {
   "cell_type": "code",
   "execution_count": null,
   "id": "2b534527-bee5-4412-96fe-8781eb0db8f6",
   "metadata": {},
   "outputs": [],
   "source": []
  },
  {
   "cell_type": "code",
   "execution_count": null,
   "id": "8848ef39-0c4b-4d47-994f-f1d545d82674",
   "metadata": {},
   "outputs": [],
   "source": []
  },
  {
   "cell_type": "code",
   "execution_count": null,
   "id": "510f4a45-1757-4fdc-8792-eff2dcaac1ca",
   "metadata": {},
   "outputs": [],
   "source": [
    "#delete_all_leela_tables()"
   ]
  },
  {
   "cell_type": "code",
   "execution_count": null,
   "id": "bed7165d-8666-4eb0-873d-7d7c4b4d4ad8",
   "metadata": {},
   "outputs": [],
   "source": []
  },
  {
   "cell_type": "code",
   "execution_count": null,
   "id": "a853a41b-ca70-4efe-8037-256029957811",
   "metadata": {},
   "outputs": [],
   "source": []
  },
  {
   "cell_type": "code",
   "execution_count": null,
   "id": "0d140b8d-1982-46cc-afd8-247533f884bb",
   "metadata": {},
   "outputs": [],
   "source": []
  },
  {
   "cell_type": "code",
   "execution_count": null,
   "id": "230d5917-d4c7-41f2-96c8-5c06d5676fa3",
   "metadata": {},
   "outputs": [],
   "source": []
  },
  {
   "cell_type": "code",
   "execution_count": null,
   "id": "d90f8e52-7c8f-4952-914a-c31a5aa6ca6b",
   "metadata": {},
   "outputs": [],
   "source": []
  },
  {
   "cell_type": "code",
   "execution_count": null,
   "id": "d0640111-578b-4453-94f7-94fca2032ace",
   "metadata": {},
   "outputs": [],
   "source": []
  },
  {
   "cell_type": "code",
   "execution_count": null,
   "id": "df2bb584-fb65-46ce-977e-7d0a9c08fd58",
   "metadata": {},
   "outputs": [],
   "source": []
  },
  {
   "cell_type": "code",
   "execution_count": null,
   "id": "5f5b9793-3c40-49cc-8177-c13290ef3b8a",
   "metadata": {},
   "outputs": [],
   "source": [
    "open_request('select * from fen')"
   ]
  },
  {
   "cell_type": "code",
   "execution_count": null,
   "id": "f2a208a5-7ad0-40f6-a437-9a089b2b118c",
   "metadata": {},
   "outputs": [],
   "source": [
    "get_all_tables()"
   ]
  },
  {
   "cell_type": "code",
   "execution_count": null,
   "id": "94c4234c-5783-4faf-9d6e-53ef57ae58fb",
   "metadata": {},
   "outputs": [],
   "source": [
    "delete_all_leela_tables()"
   ]
  },
  {
   "cell_type": "code",
   "execution_count": null,
   "id": "3aebaf8b-340d-4d94-b2a8-40af305a2bda",
   "metadata": {},
   "outputs": [],
   "source": []
  },
  {
   "cell_type": "code",
   "execution_count": null,
   "id": "0b61a863-5336-4914-bbf4-a05ed2091758",
   "metadata": {},
   "outputs": [],
   "source": []
  },
  {
   "cell_type": "code",
   "execution_count": null,
   "id": "d1044380-5eeb-47d3-93a1-ecd7132a7eaa",
   "metadata": {},
   "outputs": [],
   "source": []
  },
  {
   "cell_type": "code",
   "execution_count": null,
   "id": "45c9f099-16e8-44de-a848-a1cf6c7861c7",
   "metadata": {},
   "outputs": [],
   "source": [
    "nest_asyncio.apply()\n",
    "LC0_PATH = \"/home/jon/workshop/leela_zero/leela_engine_python/Lc0/lc0.exe\"\n",
    "lc0_directory = os.path.dirname(LC0_PATH)\n",
    "LC0_WEIGHTS_FILE = \"791556.pb.gz\" "
   ]
  },
  {
   "cell_type": "code",
   "execution_count": null,
   "id": "ea049dee-8ceb-4d6b-a4f4-858ccf28a1ca",
   "metadata": {},
   "outputs": [],
   "source": [
    "async def initialize_lc0_engine() -> chess.engine.UciProtocol:\n",
    "    engine_uci = None\n",
    "    try:\n",
    "        print(\"...Starting Leela engine...\")\n",
    "        transport, engine_uci = await chess.engine.popen_uci(LC0_PATH, cwd=lc0_directory)\n",
    "        await engine_uci.configure({\n",
    "                                    \"WeightsFile\": LC0_WEIGHTS_FILE,\n",
    "                                    \"Backend\": \"cuda-fp16\", \n",
    "                                    \"Threads\": 1,\n",
    "                                    \"MinibatchSize\": 1024 \n",
    "                                })\n",
    "        print(\"...Leela engine ready...\")\n",
    "        return engine_uci\n",
    "    except Exception as e:\n",
    "        print(f\"Error initializing Lc0 engine: {e}\")\n",
    "        if engine_uci:\n",
    "            await engine_uci.quit()\n",
    "        raise"
   ]
  },
  {
   "cell_type": "code",
   "execution_count": null,
   "id": "fee5843a-2885-4154-a1b6-575d90af0660",
   "metadata": {},
   "outputs": [],
   "source": [
    "engine = await initialize_lc0_engine()"
   ]
  },
  {
   "cell_type": "code",
   "execution_count": null,
   "id": "9d5bbdc0-778b-406a-8df3-f27c3d035eba",
   "metadata": {},
   "outputs": [],
   "source": [
    "async def analyse(engine: chess.engine.UciProtocol,fens: list) -> dict():\n",
    "    result = {}\n",
    "    for fen in fens:\n",
    "        board = chess.Board(fen)\n",
    "        limit = chess.engine.Limit(nodes=50000)\n",
    "        info = await engine.analyse(board, limit=limit)\n",
    "        result[fen] = info\n",
    "        result[fen]['score'] = info[\"score\"].white().score(mate_score=10000) / 100\n",
    "        result[fen]['pv'] = [move.uci() for move in result[fen]['pv']]\n",
    "    return result"
   ]
  },
  {
   "cell_type": "code",
   "execution_count": null,
   "id": "0e57b2aa-5619-4d55-9f80-cf4450b87a28",
   "metadata": {},
   "outputs": [],
   "source": [
    "positions_to_analyze = [\n",
    "        \"rnbqkbnr/pppppppp/8/8/8/8/PPPPPPPP/RNBQKBNR w KQkq - 0 1\", # Starting position\n",
    "        \"r1bqkbnr/pppp1ppp/2n5/4p3/4P3/5N2/PPPP1PPP/RNBQKB1R w KQkq - 2 3\", # Ruy Lopez opening\n",
    "        \"8/8/6P1/4R3/8/6k1/2r5/6K1 b - - 0 1\", # Complex endgame\n",
    "        # Add hundreds more FEN strings here as needed\n",
    "        # \"r3k2r/p1qnp1b1/2p2npp/4p3/1pP1P3/3P1N2/PP1NB1PP/R1BQ1RK1 w kq - 0 1\", # Example additional FEN\n",
    "        # \"q3r1k1/pp3p1p/4b1p1/8/8/P3PQ2/1P3PPP/R4RK1 b - - 0 1\", # Another example\n",
    "    ]"
   ]
  },
  {
   "cell_type": "code",
   "execution_count": null,
   "id": "93bd5859-44d8-4310-9ef5-556782f2385a",
   "metadata": {},
   "outputs": [],
   "source": []
  },
  {
   "cell_type": "code",
   "execution_count": null,
   "id": "4192478c-1f1e-404d-9a72-3cb5e403fe39",
   "metadata": {},
   "outputs": [],
   "source": [
    "res = await analyse(engine, positions_to_analyze)"
   ]
  },
  {
   "cell_type": "code",
   "execution_count": null,
   "id": "5210ccfd-27d8-4632-8f21-f3451bf7c7ce",
   "metadata": {},
   "outputs": [],
   "source": [
    "res['rnbqkbnr/pppppppp/8/8/8/8/PPPPPPPP/RNBQKBNR w KQkq - 0 1']"
   ]
  },
  {
   "cell_type": "code",
   "execution_count": null,
   "id": "b8ffae35-11af-4435-876e-3996504c5849",
   "metadata": {},
   "outputs": [],
   "source": []
  },
  {
   "cell_type": "code",
   "execution_count": null,
   "id": "bc10035a-62ac-4c57-8379-eea27580edd0",
   "metadata": {},
   "outputs": [],
   "source": [
    "import os\n",
    "import nest_asyncio\n",
    "import chess\n",
    "import chess.engine\n",
    "import asyncio\n",
    "\n",
    "# Apply nest_asyncio for Jupyter/IPython environments\n",
    "nest_asyncio.apply()\n",
    "\n",
    "# --- Configuration ---\n",
    "# Set the absolute path to your Lc0 executable within WSL\n",
    "LC0_PATH = [\"/home/jon/workshop/leela_zero/leela_engine_python/Lc0/lc0.exe\"]\n",
    "\n",
    "# Derive the directory from the executable path for Lc0's working directory\n",
    "lc0_directory = os.path.dirname(LC0_PATH[0])\n",
    "\n",
    "# Define the path to your Lc0 network weights file\n",
    "# Assuming it's in the same directory as lc0.exe\n",
    "LC0_WEIGHTS_FILE = \"791556.pb.gz\" \n",
    "# --- End Configuration ---\n",
    "\n",
    "\n",
    "async def initialize_lc0_engine() -> chess.engine.UciProtocol:\n",
    "    \"\"\"\n",
    "    Launches and configures the Leela Chess Zero (Lc0) engine once.\n",
    "\n",
    "    Returns:\n",
    "        An initialized Lc0 engine instance (chess.engine.UciProtocol).\n",
    "\n",
    "    Raises:\n",
    "        Exception: If the engine fails to launch or configure.\n",
    "    \"\"\"\n",
    "    engine_uci = None\n",
    "    try:\n",
    "        print(\"Launching Lc0 engine...\")\n",
    "        # Launch Lc0 engine\n",
    "        transport, engine_uci = await chess.engine.popen_uci(\n",
    "            LC0_PATH, \n",
    "            cwd=lc0_directory\n",
    "        )\n",
    "        \n",
    "        # Configure Lc0 options\n",
    "        await engine_uci.configure({\n",
    "            \"WeightsFile\": LC0_WEIGHTS_FILE,\n",
    "            \"Backend\": \"cuda-fp16\", # Use cuda-fp16 for optimal performance on RTX 4060\n",
    "            \"Threads\": 1,\n",
    "            \"MinibatchSize\": 1024   # Max allowed for your Lc0 build\n",
    "        })\n",
    "        print(\"Lc0 engine successfully launched and configured.\")\n",
    "        return engine_uci\n",
    "    except Exception as e:\n",
    "        print(f\"Error initializing Lc0 engine: {e}\")\n",
    "        # Ensure engine is quit even if configuration fails\n",
    "        if engine_uci:\n",
    "            await engine_uci.quit()\n",
    "        raise # Re-raise the exception to propagate the error\n",
    "\n",
    "\n",
    "async def analyze_single_position(engine_uci: chess.engine.UciProtocol, fen: str, nodes_limit: int = 50000) -> dict:\n",
    "    \"\"\"\n",
    "    Analyzes a single chess position using an already initialized Leela Chess Zero (Lc0) engine\n",
    "    and returns its centipawn score and principal variation.\n",
    "\n",
    "    Args:\n",
    "        engine_uci: An already initialized Lc0 engine instance.\n",
    "        fen: The FEN string of the position to analyze.\n",
    "        nodes_limit: The maximum number of nodes Lc0 should explore (playouts).\n",
    "\n",
    "    Returns:\n",
    "        A dictionary containing the FEN, centipawn score, and principal variation (PV).\n",
    "        Includes an 'error' key if analysis fails.\n",
    "    \"\"\"\n",
    "    board = chess.Board(fen)\n",
    "\n",
    "    try:\n",
    "        # Set the search limit (nodes in this case)\n",
    "        limit = chess.engine.Limit(nodes=nodes_limit)\n",
    "\n",
    "        # Perform the analysis using the provided engine instance\n",
    "        info = await engine_uci.analyse(board, limit=limit)\n",
    "\n",
    "        # Extract the score (centipawns from White's perspective)\n",
    "        # mate_score is used to give a high/low value for checkmates\n",
    "        score = info[\"score\"].white().score(mate_score=10000) \n",
    "        \n",
    "        # Extract the principal variation (PV)\n",
    "        pv = [move.uci() for move in info[\"pv\"]]\n",
    "\n",
    "        return {\"fen\": fen, \"score\": score, \"pv\": pv}\n",
    "\n",
    "    except Exception as e:\n",
    "        print(f\"An error occurred during Lc0 analysis for FEN {fen}: {e}\")\n",
    "        return {\"fen\": fen, \"error\": str(e)}\n",
    "\n",
    "\n",
    "async def analyze_fens_batch(engine_uci: chess.engine.UciProtocol, fens: list[str], nodes_limit: int = 50000) -> dict:\n",
    "    \"\"\"\n",
    "    Analyzes a list of FEN positions using a single Lc0 engine instance.\n",
    "\n",
    "    Args:\n",
    "        engine_uci: An already initialized Lc0 engine instance.\n",
    "        fens: A list of FEN strings to analyze.\n",
    "        nodes_limit: The maximum number of nodes Lc0 should explore for each position.\n",
    "\n",
    "    Returns:\n",
    "        A dictionary where keys are FEN strings and values are the centipawn scores (int)\n",
    "        or an error string if analysis failed for that FEN.\n",
    "    \"\"\"\n",
    "    analysis_results_dict = {}\n",
    "\n",
    "    print(\"\\nStarting batch analysis...\")\n",
    "\n",
    "    for i, fen in enumerate(fens):\n",
    "        print(f\"[{i+1}/{len(fens)}] Analyzing FEN: {fen}...\")\n",
    "        result = await analyze_single_position(engine_uci, fen, nodes_limit=nodes_limit) \n",
    "        \n",
    "        if \"error\" in result:\n",
    "            print(f\"Failed to analyze {result['fen']}: {result['error']}\")\n",
    "            analysis_results_dict[result['fen']] = \"Error: \" + result['error']\n",
    "        else:\n",
    "            analysis_results_dict[result['fen']] = result['score']\n",
    "            # Only print first move of PV for brevity in batch analysis progress\n",
    "            print(f\"  Score: {result['score']} cp, PV: {result['pv'][0]}...\")\n",
    "    \n",
    "    return analysis_results_dict\n",
    "\n",
    "\n",
    "async def main():\n",
    "    \"\"\"\n",
    "    Main function to initialize the Lc0 engine, analyze multiple chess positions,\n",
    "    and print the results.\n",
    "    \"\"\"\n",
    "    positions_to_analyze = [\n",
    "        \"rnbqkbnr/pppppppp/8/8/8/8/PPPPPPPP/RNBQKBNR w KQkq - 0 1\", # Starting position\n",
    "        \"r1bqkbnr/pppp1ppp/2n5/4p3/4P3/5N2/PPPP1PPP/RNBQKB1R w KQkq - 2 3\", # Ruy Lopez opening\n",
    "        \"8/8/6P1/4R3/8/6k1/2r5/6K1 b - - 0 1\", # Complex endgame\n",
    "        # Add hundreds more FEN strings here as needed\n",
    "        # \"r3k2r/p1qnp1b1/2p2npp/4p3/1pP1P3/3P1N2/PP1NB1PP/R1BQ1RK1 w kq - 0 1\", # Example additional FEN\n",
    "        # \"q3r1k1/pp3p1p/4b1p1/8/8/P3PQ2/1P3PPP/R4RK1 b - - 0 1\", # Another example\n",
    "    ]\n",
    "\n",
    "    # Dictionary to store final results\n",
    "    final_analysis_results = {}\n",
    "    engine_uci = None # Initialize engine_uci for outer finally block\n",
    "\n",
    "    try:\n",
    "        # Step 1: Initialize the Lc0 engine\n",
    "        engine_uci = await initialize_lc0_engine()\n",
    "        \n",
    "        # Step 2: Analyze the FENs using the initialized engine\n",
    "        final_analysis_results = await analyze_fens_batch(engine_uci, positions_to_analyze, nodes_limit=50000)\n",
    "\n",
    "    except Exception as e:\n",
    "        print(f\"An unrecoverable error occurred in the main analysis flow: {e}\")\n",
    "    finally:\n",
    "        # Ensure the engine is quit after all analyses are done, or if an error occurs\n",
    "        if engine_uci:\n",
    "            print(\"\\nQuitting Lc0 engine...\")\n",
    "            await engine_uci.quit()\n",
    "            print(\"Lc0 engine quit successfully.\")\n",
    "\n",
    "    print(\"\\n--- Overall Analysis Complete ---\")\n",
    "    print(\"All Centipawn Scores:\")\n",
    "    for fen, score in final_analysis_results.items():\n",
    "        print(f\"FEN: {fen}\")\n",
    "        print(f\"  Score: {score} cp\")\n",
    "    \n",
    "    print(\"\\nFull Results Dictionary:\")\n",
    "    print(final_analysis_results)\n",
    "\n",
    "\n",
    "# Run the main asynchronous function\n",
    "await main()\n"
   ]
  },
  {
   "cell_type": "code",
   "execution_count": null,
   "id": "cd9e481e-ec6f-4fea-8efc-67e151bbc78b",
   "metadata": {},
   "outputs": [],
   "source": []
  },
  {
   "cell_type": "code",
   "execution_count": null,
   "id": "81228d3c-5b06-4d2d-9385-e4f0e3b78014",
   "metadata": {},
   "outputs": [],
   "source": []
  },
  {
   "cell_type": "code",
   "execution_count": null,
   "id": "5f5a26c5-6c41-4668-afff-83299f39eb89",
   "metadata": {},
   "outputs": [],
   "source": []
  },
  {
   "cell_type": "code",
   "execution_count": null,
   "id": "e7374004-ca48-4582-a3a2-19482baa6d9b",
   "metadata": {},
   "outputs": [],
   "source": [
    "async def analyze_position_with_lc0(engine_uci: chess.engine.UciProtocol, fen: str, nodes_limit: int = 50000) -> dict:\n",
    "    \"\"\"\n",
    "    Analyzes a single chess position using an already initialized Leela Chess Zero (Lc0) engine\n",
    "    and returns its centipawn score and principal variation.\n",
    "\n",
    "    Args:\n",
    "        engine_uci: An already initialized Lc0 engine instance.\n",
    "        fen: The FEN string of the position to analyze.\n",
    "        nodes_limit: The maximum number of nodes Lc0 should explore (playouts).\n",
    "\n",
    "    Returns:\n",
    "        A dictionary containing the FEN, centipawn score, and principal variation (PV).\n",
    "        Includes an 'error' key if analysis fails.\n",
    "    \"\"\"\n",
    "    board = chess.Board(fen)\n",
    "\n",
    "    try:\n",
    "        # Set the search limit (nodes in this case)\n",
    "        limit = chess.engine.Limit(nodes=nodes_limit)\n",
    "\n",
    "        # Perform the analysis using the provided engine instance\n",
    "        info = await engine_uci.analyse(board, limit=limit)\n",
    "\n",
    "        # Extract the score (centipawns from White's perspective)\n",
    "        # mate_score is used to give a high/low value for checkmates\n",
    "        score = info[\"score\"].white().score(mate_score=10000) \n",
    "        \n",
    "        # Extract the principal variation (PV)\n",
    "        pv = [move.uci() for move in info[\"pv\"]]\n",
    "\n",
    "        return {\"fen\": fen, \"score\": score, \"pv\": pv}\n",
    "\n",
    "    except Exception as e:\n",
    "        print(f\"An error occurred during Lc0 analysis for FEN {fen}: {e}\")\n",
    "        return {\"fen\": fen, \"error\": str(e)}\n",
    "    # Removed the finally block from here, engine will be quit in main()"
   ]
  },
  {
   "cell_type": "code",
   "execution_count": null,
   "id": "3b7c5904-2a72-46dd-8406-cd54a59cd443",
   "metadata": {},
   "outputs": [],
   "source": []
  },
  {
   "cell_type": "code",
   "execution_count": null,
   "id": "490c31e8-4c77-4266-93b2-e7c57d4817f0",
   "metadata": {},
   "outputs": [],
   "source": []
  },
  {
   "cell_type": "code",
   "execution_count": null,
   "id": "e1c3d142-71c6-4e11-9771-c5bfe1c3320d",
   "metadata": {},
   "outputs": [],
   "source": []
  },
  {
   "cell_type": "code",
   "execution_count": null,
   "id": "309fb8d9-05e9-4eed-b74b-3a1a1fc22fce",
   "metadata": {},
   "outputs": [],
   "source": []
  },
  {
   "cell_type": "code",
   "execution_count": null,
   "id": "99aaec7c-b6c2-47d3-a81d-402704ca462f",
   "metadata": {},
   "outputs": [],
   "source": []
  },
  {
   "cell_type": "code",
   "execution_count": null,
   "id": "30e96e07-52f0-4f1b-afbf-17cc24e6f245",
   "metadata": {},
   "outputs": [],
   "source": [
    "import os\n",
    "import nest_asyncio\n",
    "import chess\n",
    "import chess.engine\n",
    "import asyncio\n",
    "\n",
    "# Apply nest_asyncio for Jupyter/IPython environments\n",
    "nest_asyncio.apply()\n",
    "\n",
    "# --- Configuration ---\n",
    "# Set the absolute path to your Lc0 executable within WSL\n",
    "LC0_PATH = [\"/home/jon/workshop/leela_zero/leela_engine_python/Lc0/lc0.exe\"]\n",
    "\n",
    "# Derive the directory from the executable path for Lc0's working directory\n",
    "lc0_directory = os.path.dirname(LC0_PATH[0])\n",
    "\n",
    "# Define the path to your Lc0 network weights file\n",
    "# Assuming it's in the same directory as lc0.exe\n",
    "LC0_WEIGHTS_FILE = \"791556.pb.gz\" \n",
    "# --- End Configuration ---\n",
    "\n",
    "\n",
    "async def analyze_position_with_lc0(engine_uci: chess.engine.UciProtocol, fen: str, nodes_limit: int = 50000) -> dict:\n",
    "    \"\"\"\n",
    "    Analyzes a single chess position using an already initialized Leela Chess Zero (Lc0) engine\n",
    "    and returns its centipawn score and principal variation.\n",
    "\n",
    "    Args:\n",
    "        engine_uci: An already initialized Lc0 engine instance.\n",
    "        fen: The FEN string of the position to analyze.\n",
    "        nodes_limit: The maximum number of nodes Lc0 should explore (playouts).\n",
    "\n",
    "    Returns:\n",
    "        A dictionary containing the FEN, centipawn score, and principal variation (PV).\n",
    "        Includes an 'error' key if analysis fails.\n",
    "    \"\"\"\n",
    "    board = chess.Board(fen)\n",
    "\n",
    "    try:\n",
    "        # Set the search limit (nodes in this case)\n",
    "        limit = chess.engine.Limit(nodes=nodes_limit)\n",
    "\n",
    "        # Perform the analysis using the provided engine instance\n",
    "        info = await engine_uci.analyse(board, limit=limit)\n",
    "\n",
    "        # Extract the score (centipawns from White's perspective)\n",
    "        # mate_score is used to give a high/low value for checkmates\n",
    "        score = info[\"score\"].white().score(mate_score=10000) \n",
    "        \n",
    "        # Extract the principal variation (PV)\n",
    "        pv = [move.uci() for move in info[\"pv\"]]\n",
    "\n",
    "        return {\"fen\": fen, \"score\": score, \"pv\": pv}\n",
    "\n",
    "    except Exception as e:\n",
    "        print(f\"An error occurred during Lc0 analysis for FEN {fen}: {e}\")\n",
    "        return {\"fen\": fen, \"error\": str(e)}\n",
    "    # Removed the finally block from here, engine will be quit in main()\n",
    "\n",
    "\n",
    "async def main():\n",
    "    \"\"\"\n",
    "    Main function to analyze multiple chess positions and store results.\n",
    "    Initializes the Lc0 engine once and reuses it for all analyses.\n",
    "    \"\"\"\n",
    "    positions_to_analyze = [\n",
    "        \"rnbqkbnr/pppppppp/8/8/8/8/PPPPPPPP/RNBQKBNR w KQkq - 0 1\", # Starting position\n",
    "        \"r1bqkbnr/pppp1ppp/2n5/4p3/4P3/5N2/PPPP1PPP/RNBQKB1R w KQkq - 2 3\", # Ruy Lopez opening\n",
    "        \"8/8/6P1/4R3/8/6k1/2r5/6K1 b - - 0 1\", # Complex endgame\n",
    "        # Add hundreds more FEN strings here as needed\n",
    "        # \"r3k2r/p1qnp1b1/2p2npp/4p3/1pP1P3/3P1N2/PP1NB1PP/R1BQ1RK1 w kq - 0 1\", # Example additional FEN\n",
    "        # \"q3r1k1/pp3p1p/4b1p1/8/8/P3PQ2/1P3PPP/R4RK1 b - - 0 1\", # Another example\n",
    "    ]\n",
    "\n",
    "    # Dictionary to store results: {fen_string: centipawn_score}\n",
    "    analysis_results_dict = {}\n",
    "\n",
    "    print(\"Starting Lc0 analysis for multiple FENs...\")\n",
    "\n",
    "    engine_uci = None # Initialize engine_uci for outer finally block\n",
    "    try:\n",
    "        print(\"Launching Lc0 engine...\")\n",
    "        # Launch Lc0 engine once\n",
    "        transport, engine_uci = await chess.engine.popen_uci(\n",
    "            LC0_PATH, \n",
    "            cwd=lc0_directory\n",
    "        )\n",
    "        \n",
    "        # Configure Lc0 options once\n",
    "        await engine_uci.configure({\n",
    "            \"WeightsFile\": LC0_WEIGHTS_FILE,\n",
    "            \"Backend\": \"cuda-fp16\", # Use cuda-fp16 for optimal performance on RTX 4060\n",
    "            \"Threads\": 1,\n",
    "            \"MinibatchSize\": 1024   # Max allowed for your Lc0 build\n",
    "        })\n",
    "        print(\"Lc0 engine successfully launched and configured.\")\n",
    "\n",
    "        # Analyze positions one by one using the same engine instance\n",
    "        for i, fen in enumerate(positions_to_analyze):\n",
    "            print(f\"[{i+1}/{len(positions_to_analyze)}] Analyzing FEN: {fen}...\")\n",
    "            # Pass the already created engine_uci object\n",
    "            result = await analyze_position_with_lc0(engine_uci, fen, nodes_limit=50000) \n",
    "            \n",
    "            if \"error\" in result:\n",
    "                print(f\"Failed to analyze {result['fen']}: {result['error']}\")\n",
    "                analysis_results_dict[result['fen']] = \"Error: \" + result['error']\n",
    "            else:\n",
    "                analysis_results_dict[result['fen']] = result['score']\n",
    "                print(f\"  Score: {result['score']} cp, PV: {result['pv'][0]}...\")\n",
    "\n",
    "    except Exception as e:\n",
    "        print(f\"An error occurred in main analysis loop: {e}\")\n",
    "    finally:\n",
    "        # Ensure the engine is quit after all analyses are done, or if an error occurs\n",
    "        if engine_uci:\n",
    "            print(\"\\nQuitting Lc0 engine...\")\n",
    "            await engine_uci.quit()\n",
    "            print(\"Lc0 engine quit successfully.\")\n",
    "\n",
    "    print(\"\\n--- Analysis Complete ---\")\n",
    "    print(\"All Centipawn Scores:\")\n",
    "    for fen, score in analysis_results_dict.items():\n",
    "        print(f\"FEN: {fen}\")\n",
    "        print(f\"  Score: {score} cp\")\n",
    "    \n",
    "    print(\"\\nFull Results Dictionary:\")\n",
    "    print(analysis_results_dict)\n",
    "\n",
    "\n",
    "# Run the main asynchronous function\n",
    "await main()"
   ]
  },
  {
   "cell_type": "code",
   "execution_count": null,
   "id": "6ff50bfa-f5bd-4c82-abbf-4232f2856635",
   "metadata": {},
   "outputs": [],
   "source": []
  },
  {
   "cell_type": "code",
   "execution_count": null,
   "id": "211b4dda-d114-4770-9410-ffd1a6727ad5",
   "metadata": {},
   "outputs": [],
   "source": []
  },
  {
   "cell_type": "code",
   "execution_count": null,
   "id": "5189cda3-268c-4e3a-85a0-8c079ed30b29",
   "metadata": {},
   "outputs": [],
   "source": []
  },
  {
   "cell_type": "code",
   "execution_count": null,
   "id": "d75d9107-205a-4912-a66d-2d9c38b73e7d",
   "metadata": {},
   "outputs": [],
   "source": []
  },
  {
   "cell_type": "code",
   "execution_count": null,
   "id": "3be97f35-5ccd-49c8-8810-a2fc456b64f4",
   "metadata": {},
   "outputs": [],
   "source": []
  },
  {
   "cell_type": "code",
   "execution_count": null,
   "id": "d0f7eb60-ddaf-4906-96f6-18003db84317",
   "metadata": {},
   "outputs": [],
   "source": []
  },
  {
   "cell_type": "code",
   "execution_count": null,
   "id": "0ddb44ea-943b-4430-9f62-4674f2752145",
   "metadata": {},
   "outputs": [],
   "source": []
  },
  {
   "cell_type": "code",
   "execution_count": null,
   "id": "43908fc2-d2bf-421f-9452-c62db8391fc9",
   "metadata": {},
   "outputs": [],
   "source": []
  },
  {
   "cell_type": "code",
   "execution_count": null,
   "id": "9171ba26-87a7-4892-af84-9e22d254ee25",
   "metadata": {},
   "outputs": [],
   "source": []
  },
  {
   "cell_type": "code",
   "execution_count": null,
   "id": "48ea74b2-f2e4-4248-b452-00c680c8cd3c",
   "metadata": {},
   "outputs": [],
   "source": []
  },
  {
   "cell_type": "code",
   "execution_count": null,
   "id": "7d63b8d5-5f21-4601-a858-660b621512f5",
   "metadata": {},
   "outputs": [],
   "source": [
    "nest_asyncio.apply()\n",
    "LC0_PATH = [\"/home/jon/workshop/leela_zero/leela_engine_python/Lc0/lc0.exe\"]\n",
    "lc0_directory = os.path.dirname(LC0_PATH[0])\n",
    "LC0_WEIGHTS_FILE = \"791556.pb.gz\" "
   ]
  },
  {
   "cell_type": "code",
   "execution_count": null,
   "id": "f2776b7e-32f6-403e-9711-261bca6af3c9",
   "metadata": {},
   "outputs": [],
   "source": [
    "fen = \"8/8/6P1/4R3/8/6k1/2r5/6K1 b - - 0 1\""
   ]
  },
  {
   "cell_type": "code",
   "execution_count": null,
   "id": "339ac853-9068-4a3a-aa63-e4ddc48acd46",
   "metadata": {},
   "outputs": [],
   "source": [
    "async def get_engine( nodes_limit: int = 50000):\n",
    "    "
   ]
  },
  {
   "cell_type": "code",
   "execution_count": null,
   "id": "f0ebf695-478d-4344-b70c-7ac663cc8223",
   "metadata": {},
   "outputs": [],
   "source": []
  },
  {
   "cell_type": "code",
   "execution_count": null,
   "id": "fa19a922-2d7d-4474-b6f8-840a8f759319",
   "metadata": {},
   "outputs": [],
   "source": []
  },
  {
   "cell_type": "code",
   "execution_count": null,
   "id": "799c3ede-7db7-470f-b7d9-f88a6b5f2ec9",
   "metadata": {},
   "outputs": [],
   "source": [
    "import os\n",
    "import nest_asyncio\n",
    "import chess\n",
    "import chess.engine\n",
    "import asyncio\n",
    "\n",
    "# Apply nest_asyncio for Jupyter/IPython environments\n",
    "nest_asyncio.apply()\n",
    "\n",
    "# --- Configuration ---\n",
    "# Set the absolute path to your Lc0 executable within WSL\n",
    "LC0_PATH = [\"/home/jon/workshop/leela_zero/leela_engine_python/Lc0/lc0.exe\"]\n",
    "\n",
    "# Derive the directory from the executable path for Lc0's working directory\n",
    "lc0_directory = os.path.dirname(LC0_PATH[0])\n",
    "\n",
    "# Define the path to your Lc0 network weights file\n",
    "# Assuming it's in the same directory as lc0.exe\n",
    "LC0_WEIGHTS_FILE = \"791556.pb.gz\" \n",
    "# --- End Configuration ---\n",
    "\n",
    "\n",
    "async def analyze_position_with_lc0(fen: str, nodes_limit: int = 50000) -> dict:\n",
    "    \"\"\"\n",
    "    Analyzes a single chess position using Leela Chess Zero (Lc0)\n",
    "    and returns its centipawn score and principal variation.\n",
    "\n",
    "    Args:\n",
    "        fen: The FEN string of the position to analyze.\n",
    "        nodes_limit: The maximum number of nodes Lc0 should explore (playouts).\n",
    "\n",
    "    Returns:\n",
    "        A dictionary containing the FEN, centipawn score, and principal variation (PV).\n",
    "        Includes an 'error' key if analysis fails.\n",
    "    \"\"\"\n",
    "    board = chess.Board(fen)\n",
    "    engine_uci = None # Initialize to None for the finally block\n",
    "\n",
    "    try:\n",
    "        # Launch Lc0 engine, specifying its working directory for weights file\n",
    "        # The 'engine_uci' variable now holds the actual engine object\n",
    "        transport, engine_uci = await chess.engine.popen_uci(\n",
    "            LC0_PATH, \n",
    "            cwd=lc0_directory\n",
    "        )\n",
    "        \n",
    "        # Configure Lc0 options for GPU performance\n",
    "        await engine_uci.configure({\n",
    "            \"WeightsFile\": LC0_WEIGHTS_FILE,\n",
    "            \"Backend\": \"cuda-fp16\", # Use cuda-fp16 for optimal performance on RTX 4060\n",
    "            \"Threads\": 1,\n",
    "            \"MinibatchSize\": 1024   # Max allowed for your Lc0 build\n",
    "        })\n",
    "\n",
    "        # Set the search limit (nodes in this case)\n",
    "        limit = chess.engine.Limit(nodes=nodes_limit)\n",
    "\n",
    "        # Perform the analysis\n",
    "        info = await engine_uci.analyse(board, limit=limit)\n",
    "\n",
    "        # Extract the score (centipawns from White's perspective)\n",
    "        # mate_score is used to give a high/low value for checkmates\n",
    "        score = info[\"score\"].white().score(mate_score=10000) \n",
    "        \n",
    "        # Extract the principal variation (PV)\n",
    "        pv = [move.uci() for move in info[\"pv\"]]\n",
    "\n",
    "        return {\"fen\": fen, \"score\": score, \"pv\": pv}\n",
    "\n",
    "    except Exception as e:\n",
    "        print(f\"An error occurred during Lc0 analysis for FEN {fen}: {e}\")\n",
    "        return {\"fen\": fen, \"error\": str(e)}\n",
    "    finally:\n",
    "        # Always quit the engine process to free up resources\n",
    "        if engine_uci:\n",
    "            await engine_uci.quit()\n",
    "\n",
    "\n",
    "async def main():\n",
    "    \"\"\"\n",
    "    Main function to analyze multiple chess positions and store results.\n",
    "    \"\"\"\n",
    "    positions_to_analyze = [\n",
    "        \"rnbqkbnr/pppppppp/8/8/8/8/PPPPPPPP/RNBQKBNR w KQkq - 0 1\", # Starting position\n",
    "        \"r1bqkbnr/pppp1ppp/2n5/4p3/4P3/5N2/PPPP1PPP/RNBQKB1R w KQkq - 2 3\", # Ruy Lopez opening\n",
    "        \"8/8/6P1/4R3/8/6k1/2r5/6K1 b - - 0 1\", # Complex endgame\n",
    "        # Add hundreds more FEN strings here as needed\n",
    "        # \"r3k2r/p1qnp1b1/2p2npp/4p3/1pP1P3/3P1N2/PP1NB1PP/R1BQ1RK1 w kq - 0 1\", # Example additional FEN\n",
    "        # \"q3r1k1/pp3p1p/4b1p1/8/8/P3PQ2/1P3PPP/R4RK1 b - - 0 1\", # Another example\n",
    "    ]\n",
    "\n",
    "    # Dictionary to store results: {fen_string: centipawn_score}\n",
    "    analysis_results_dict = {}\n",
    "\n",
    "    print(\"Starting Lc0 analysis for multiple FENs...\")\n",
    "\n",
    "    # Analyze positions one by one\n",
    "    for i, fen in enumerate(positions_to_analyze):\n",
    "        print(f\"[{i+1}/{len(positions_to_analyze)}] Analyzing FEN: {fen}...\")\n",
    "        result = await analyze_position_with_lc0(fen, nodes_limit=50000) \n",
    "        \n",
    "        if \"error\" in result:\n",
    "            print(f\"Failed to analyze {result['fen']}: {result['error']}\")\n",
    "            analysis_results_dict[result['fen']] = \"Error: \" + result['error']\n",
    "        else:\n",
    "            analysis_results_dict[result['fen']] = result['score']\n",
    "            print(f\"  Score: {result['score']} cp, PV: {result['pv'][0]}...\") # Print only first move of PV for brevity\n",
    "\n",
    "    print(\"\\n--- Analysis Complete ---\")\n",
    "    print(\"All Centipawn Scores:\")\n",
    "    for fen, score in analysis_results_dict.items():\n",
    "        print(f\"FEN: {fen}\")\n",
    "        print(f\"  Score: {score} cp\")\n",
    "    \n",
    "    print(\"\\nFull Results Dictionary:\")\n",
    "    print(analysis_results_dict)\n",
    "    return analysis_results_dict\n",
    "\n",
    "# Run the main asynchronous function\n",
    "await main()\n"
   ]
  },
  {
   "cell_type": "code",
   "execution_count": null,
   "id": "0e1bfdc4-5ace-4b1b-98b2-249ac33e924e",
   "metadata": {},
   "outputs": [],
   "source": []
  },
  {
   "cell_type": "code",
   "execution_count": null,
   "id": "af6c226f-7336-48f0-8f86-672d1e12ac22",
   "metadata": {},
   "outputs": [],
   "source": []
  },
  {
   "cell_type": "code",
   "execution_count": null,
   "id": "d493579c-10e7-468b-bf9d-cd76dd79fe05",
   "metadata": {},
   "outputs": [],
   "source": []
  },
  {
   "cell_type": "code",
   "execution_count": null,
   "id": "255c93af-524e-46e3-95b9-e007946cf1e7",
   "metadata": {},
   "outputs": [],
   "source": []
  },
  {
   "cell_type": "code",
   "execution_count": null,
   "id": "bca3415e-76c2-48cc-ad1d-7503b4790ace",
   "metadata": {},
   "outputs": [],
   "source": []
  },
  {
   "cell_type": "code",
   "execution_count": null,
   "id": "1a2781f7-b6a8-4035-8078-2a4896227b53",
   "metadata": {},
   "outputs": [],
   "source": [
    "import os\n",
    "import nest_asyncio\n",
    "nest_asyncio.apply()\n",
    "import chess\n",
    "import chess.engine\n",
    "import asyncio\n",
    "import subprocess\n",
    "\n",
    "# LC0_PATH and lc0_directory definitions (assuming they are now correctly set for WSL)\n",
    "LC0_PATH = [\"/home/jon/workshop/leela_zero/leela_engine_python/Lc0/lc0.exe\"]\n",
    "lc0_directory = os.path.dirname(LC0_PATH[0])\n",
    "\n",
    "# Define network_files (assuming it's in the same directory as lc0.exe in WSL)\n",
    "network_files = [os.path.join(lc0_directory, \"791556.pb.gz\")] # Adjust if your weights file is different\n",
    "\n",
    "async def analyze_position_with_lc0(fen: str, nodes_limit: int = 10000, time_limit: float = None):\n",
    "    \"\"\"\n",
    "    Analyzes a single chess position using Leela Chess Zero (Lc0).\n",
    "    \"\"\"\n",
    "    board = chess.Board(fen)\n",
    "\n",
    "    # --- DEBUGGING PRINTS ---\n",
    "    print(f\"DEBUG: LC0_PATH being used: {LC0_PATH}\")\n",
    "    print(f\"DEBUG: lc0_directory being used: {lc0_directory}\")\n",
    "    \n",
    "    executable_path_str = LC0_PATH[0]\n",
    "    print(f\"DEBUG: Does executable file exist at '{executable_path_str}'? {os.path.exists(executable_path_str)}\")\n",
    "    # --- END DEBUGGING PRINTS ---\n",
    "\n",
    "    # --- Direct subprocess.Popen test (no shell=True) ---\n",
    "    print(\"\\n--- Starting direct subprocess.Popen test (no shell=True) ---\") \n",
    "    direct_test_successful = False\n",
    "    process = None # Initialize process outside try for finally block\n",
    "    try:\n",
    "        process = subprocess.Popen(LC0_PATH, cwd=lc0_directory, \n",
    "                                   stdin=subprocess.PIPE, stdout=subprocess.PIPE, stderr=subprocess.PIPE,\n",
    "                                   text=True)\n",
    "        \n",
    "        stdout, stderr = process.communicate(input=\"uci\\nisready\\nquit\\n\", timeout=10) \n",
    "        print(f\"DEBUG: Direct subprocess stdout:\\n{stdout}\")\n",
    "        print(f\"DEBUG: Direct subprocess stderr:\\n{stderr}\")\n",
    "        \n",
    "        if \"id name Lc0\" in stdout: \n",
    "            print(\"DEBUG: Direct subprocess test: Lc0 responded to 'uci' command (Success!).\")\n",
    "            direct_test_successful = True\n",
    "        else:\n",
    "            print(\"DEBUG: Direct subprocess test: Lc0 did not respond to 'uci' command as expected.\")\n",
    "\n",
    "    except FileNotFoundError as fnfe:\n",
    "        print(f\"DEBUG: DIRECT SUBPROCESS POPEN FAILED with FileNotFoundError: {fnfe}\")\n",
    "        return {\"fen\": fen, \"error\": f\"Direct subprocess test failed: {fnfe}\"}\n",
    "    except subprocess.TimeoutExpired:\n",
    "        print(\"DEBUG: Direct subprocess.Popen timed out. Lc0 likely started but didn't respond to 'uci' in time.\")\n",
    "        if process:\n",
    "            process.kill()\n",
    "        return {\"fen\": fen, \"error\": \"Direct subprocess test timed out.\"}\n",
    "    except Exception as e_direct_subprocess:\n",
    "        print(f\"DEBUG: Error during direct subprocess.Popen test: {e_direct_subprocess}\")\n",
    "        return {\"fen\": fen, \"error\": f\"Direct subprocess test encountered an unexpected error: {e_direct_subprocess}\"}\n",
    "    finally:\n",
    "        if process and process.poll() is None: # Check if process is still running\n",
    "            process.terminate()\n",
    "            try:\n",
    "                process.wait(timeout=1) # Give it a moment to terminate\n",
    "            except subprocess.TimeoutExpired:\n",
    "                process.kill()\n",
    "        print(f\"--- Direct subprocess.Popen test ended (return code: {process.returncode if process else 'N/A'}) ---\\n\")\n",
    "    \n",
    "    if not direct_test_successful:\n",
    "        return {\"fen\": fen, \"error\": \"Direct Lc0 subprocess test failed, cannot proceed with analysis.\"}\n",
    "\n",
    "\n",
    "    # Proceed with chess.engine.popen_uci\n",
    "    # --- KEY CHANGE HERE: Unpack the tuple returned by popen_uci ---\n",
    "    transport = None # Initialize transport and engine_uci for finally block\n",
    "    engine_uci = None\n",
    "    try:\n",
    "        transport, engine_uci = await chess.engine.popen_uci(\n",
    "            LC0_PATH, \n",
    "            cwd=lc0_directory\n",
    "        )\n",
    "        # 'engine_uci' is the actual engine object we need to work with\n",
    "        \n",
    "        # Lc0 specific options\n",
    "        await engine_uci.configure({ # <--- USE engine_uci here\n",
    "            \"WeightsFile\": network_files[0] if network_files else \"\", \n",
    "            \"Backend\": \"cuda-fp16\", # This is often the most performant if you have a CUDA GPU\n",
    "            \"Threads\": 1,\n",
    "            \"MinibatchSize\": 1024\n",
    "        })\n",
    "\n",
    "        limit = chess.engine.Limit(nodes=nodes_limit)\n",
    "        if time_limit:\n",
    "            limit = chess.engine.Limit(time=time_limit)\n",
    "\n",
    "        print(f\"Analyzing FEN: {fen} with Lc0 (Nodes: {nodes_limit}, Time: {time_limit}s)...\")\n",
    "        info = await engine_uci.analyse(board, limit=limit) # <--- USE engine_uci here\n",
    "\n",
    "        score = info[\"score\"].white().score(mate_score=10000)\n",
    "        pv = [move.uci() for move in info[\"pv\"]]\n",
    "\n",
    "        return {\"fen\": fen, \"score\": score, \"pv\": pv}\n",
    "\n",
    "    except Exception as e:\n",
    "        print(f\"An error occurred during Lc0 analysis with chess.engine: {e}\")\n",
    "        return {\"fen\": fen, \"error\": str(e)}\n",
    "    finally:\n",
    "        # --- KEY CHANGE HERE: Quit the engine_uci object ---\n",
    "        if engine_uci: # Ensure engine_uci was successfully created\n",
    "            await engine_uci.quit() # Always quit the engine process\n",
    "\n",
    "# The main() function and the call to await main() remain the same.\n",
    "\n",
    "import asyncio\n",
    "\n",
    "async def main():\n",
    "    positions_to_analyze = [\n",
    "        \"rnbqkbnr/pppppppp/8/8/8/8/PPPPPPPP/RNBQKBNR w KQkq - 0 1\", # Starting position\n",
    "        \"r1bqkbnr/pppp1ppp/2n5/4p3/4P3/5N2/PPPP1PPP/RNBQKB1R w KQkq - 2 3\", # Ruy Lopez opening\n",
    "        \"8/8/6P1/4R3/8/6k1/2r5/6K1 b - - 0 1\", # Complex endgame\n",
    "    ]\n",
    "\n",
    "    # Analyze positions one by one\n",
    "    for fen in positions_to_analyze:\n",
    "        result = await analyze_position_with_lc0(fen, nodes_limit=50000) # Aim for more nodes with Lc0\n",
    "        if \"error\" in result:\n",
    "            print(f\"Failed to analyze {result['fen']}: {result['error']}\")\n",
    "        else:\n",
    "            print(f\"\\nFEN: {result['fen']}\")\n",
    "            print(f\"  Score (cp from White's perspective): {result['score']}\")\n",
    "            print(f\"  Principal Variation (PV): {result['pv']}\")\n",
    "            print(\"-\" * 40)\n",
    "\n",
    "await main()"
   ]
  },
  {
   "cell_type": "code",
   "execution_count": null,
   "id": "4c9593a6-ac58-43cf-a7ec-569bfef9cb3a",
   "metadata": {},
   "outputs": [],
   "source": [
    "kokok"
   ]
  },
  {
   "cell_type": "code",
   "execution_count": null,
   "id": "7f889f3f-f83f-4512-9175-a088df20fca0",
   "metadata": {},
   "outputs": [],
   "source": [
    "uciok\n",
    "readyok\n",
    "\n",
    "DEBUG: Direct subprocess stderr:\n",
    "       _\n",
    "|   _ | |\n",
    "|_ |_ |_| v0.31.2 built Oct 20 2024\n",
    "\n",
    "DEBUG: Direct subprocess test: Lc0 responded to 'uci' command (Success!).\n",
    "--- Direct subprocess.Popen test ended (return code: 0) ---\n",
    "\n",
    "<UciProtocol (pid=47980)>: stderr >>        _\n",
    "<UciProtocol (pid=47980)>: stderr >> |   _ | |\n",
    "<UciProtocol (pid=47980)>: stderr >> |_ |_ |_| v0.31.2 built Oct 20 2024\n",
    "\n",
    "An error occurred during Lc0 analysis with chess.engine: expected value for option 'MinibatchSize' to be at most 1024, got: 2048\n",
    "Failed to analyze r1bqkbnr/pppp1ppp/2n5/4p3/4P3/5N2/PPPP1PPP/RNBQKB1R w KQkq - 2 3: expected value for option 'MinibatchSize' to be at most 1024, got: 2048\n",
    "DEBUG: LC0_PATH being used: ['/home/jon/workshop/leela_zero/leela_engine_python/Lc0/lc0.exe']\n",
    "DEBUG: lc0_directory being used: /home/jon/workshop/leela_zero/leela_engine_python/Lc0\n",
    "DEBUG: Does executable file exist at '/home/jon/workshop/leela_zero/leela_engine_python/Lc0/lc0.exe'? True"
   ]
  },
  {
   "cell_type": "code",
   "execution_count": null,
   "id": "64ef0a74-2d3f-4b30-bc08-95e2561faa26",
   "metadata": {},
   "outputs": [],
   "source": []
  },
  {
   "cell_type": "code",
   "execution_count": null,
   "id": "90ef2b0a-637b-431e-a9d4-ed0473436241",
   "metadata": {},
   "outputs": [],
   "source": []
  },
  {
   "cell_type": "code",
   "execution_count": null,
   "id": "e40fbf07-cf58-420a-9936-297a1ad9c592",
   "metadata": {},
   "outputs": [],
   "source": []
  },
  {
   "cell_type": "code",
   "execution_count": null,
   "id": "bf091a01-26fb-4616-b0d6-a7695e46971b",
   "metadata": {},
   "outputs": [],
   "source": [
    "import os\n",
    "\n",
    "#LC0_PATH = r\"\\\\wsl.localhost\\Ubuntu-24.04\\home\\jon\\workshop\\leela_zero\\leela_engine_python\\Lc0\\lc0.exe\"\n",
    "#LC0_PATH =r\"Lc0/lc0.exe\"\n",
    "\n",
    "# Change LC0_PATH to be a list containing the executable path\n",
    "LC0_PATH = [r\"\\\\wsl.localhost\\Ubuntu-24.04\\home\\jon\\workshop\\leela_zero\\leela_engine_python\\Lc0\\lc0.exe\"]\n",
    "\n",
    "# Extract the directory from the string inside the list\n",
    "lc0_directory = os.path.dirname(LC0_PATH[0]) # Use LC0_PATH[0] to access the string\n",
    "\n",
    "# Extract the directory of lc0.exe for the cwd argument\n",
    "# lc0_directory = os.path.dirname(LC0_PATH) # This line is critical!\n",
    "\n",
    "import nest_asyncio\n",
    "nest_asyncio.apply()\n",
    "import chess\n",
    "import chess.engine\n",
    "\n",
    "async def analyze_position_with_lc0(fen: str, nodes_limit: int = 10000, time_limit: float = None):\n",
    "    \"\"\"\n",
    "    Analyzes a single chess position using Leela Chess Zero (Lc0).\n",
    "\n",
    "    Args:\n",
    "        fen: The FEN string of the position to analyze.\n",
    "        nodes_limit: The maximum number of nodes Lc0 should explore (playouts).\n",
    "                     Lc0 typically uses 'nodes' instead of 'depth' for its search limit.\n",
    "        time_limit: The maximum time in seconds Lc0 should spend on analysis.\n",
    "\n",
    "    Returns:\n",
    "        A dictionary containing the analysis results (score, principal variation).\n",
    "    \"\"\"\n",
    "    board = chess.Board(fen)\n",
    "    #engine = await chess.engine.popen_uci(LC0_PATH)\n",
    "    #engine = await chess.engine.popen_uci(LC0_PATH, cwd=lc0_directory) # <--- THIS IS THE FIX\n",
    "    engine = await chess.engine.popen_uci(LC0_PATH, cwd=lc0_directory) # <--- UPDATED THIS LINE\n",
    "    try:\n",
    "        # Lc0 specific options (these are common and good starting points)\n",
    "        # Check Lc0's documentation for all available options\n",
    "        await engine.configure({\n",
    "            \"Backend\": \"cuda\",  # Use CUDA with half-precision for speed (requires cuDNN)\n",
    "                                     # Other options: \"cuda\", \"cpu\", \"opencl\"\n",
    "            \"WeightsFile\": network_files[0] if network_files else \"\", # Lc0 usually picks newest, but explicit is good\n",
    "            \"Threads\": 1,            # Lc0 itself is heavily GPU-parallel; 1 thread is often fine for MCTS.\n",
    "                                     # More threads might be useful if you're doing heavy CPU preprocessing\n",
    "                                     # or if your Lc0 build benefits from it for specific backends.\n",
    "            \"MinibatchSize\": 2048    # Adjust based on your GPU's VRAM. Larger can be faster.\n",
    "        })\n",
    "\n",
    "        limit = chess.engine.Limit(nodes=nodes_limit)\n",
    "        if time_limit:\n",
    "            limit = chess.engine.Limit(time=time_limit)\n",
    "\n",
    "        print(f\"Analyzing FEN: {fen} with Lc0 (Nodes: {nodes_limit}, Time: {time_limit}s)...\")\n",
    "        info = await engine.analyse(board, limit=limit)\n",
    "\n",
    "        # Lc0 returns score as \"cp\" (centipawns) or \"mate\"\n",
    "        score = info[\"score\"].white().score(mate_score=10000) # Use a large value for mate scores\n",
    "        pv = [move.uci() for move in info[\"pv\"]]\n",
    "\n",
    "        return {\"fen\": fen, \"score\": score, \"pv\": pv}\n",
    "\n",
    "    except Exception as e:\n",
    "        print(f\"An error occurred during Lc0 analysis: {e}\")\n",
    "        return {\"fen\": fen, \"error\": str(e)}\n",
    "    finally:\n",
    "        await engine.quit() # Always quit the engine process\n",
    "\n",
    "import asyncio\n",
    "\n",
    "async def main():\n",
    "    positions_to_analyze = [\n",
    "        \"rnbqkbnr/pppppppp/8/8/8/8/PPPPPPPP/RNBQKBNR w KQkq - 0 1\", # Starting position\n",
    "        \"r1bqkbnr/pppp1ppp/2n5/4p3/4P3/5N2/PPPP1PPP/RNBQKB1R w KQkq - 2 3\", # Ruy Lopez opening\n",
    "        \"8/8/6P1/4R3/8/6k1/2r5/6K1 b - - 0 1\", # Complex endgame\n",
    "    ]\n",
    "\n",
    "    # Analyze positions one by one\n",
    "    for fen in positions_to_analyze:\n",
    "        result = await analyze_position_with_lc0(fen, nodes_limit=50000) # Aim for more nodes with Lc0\n",
    "        if \"error\" in result:\n",
    "            print(f\"Failed to analyze {result['fen']}: {result['error']}\")\n",
    "        else:\n",
    "            print(f\"\\nFEN: {result['fen']}\")\n",
    "            print(f\"  Score (cp from White's perspective): {result['score']}\")\n",
    "            print(f\"  Principal Variation (PV): {result['pv']}\")\n",
    "            print(\"-\" * 40)\n",
    "\n",
    "await main()"
   ]
  },
  {
   "cell_type": "code",
   "execution_count": null,
   "id": "081fc3ba-d8f0-421b-ba8c-37e787d4081d",
   "metadata": {},
   "outputs": [],
   "source": [
    "\n",
    "if __name__ == \"__main__\":\n",
    "    # Ensure your NVIDIA drivers and CUDA are correctly installed\n",
    "    # PyTorch can be used to quickly verify CUDA setup:\n",
    "    try:\n",
    "        import torch\n",
    "        if torch.cuda.is_available():\n",
    "            print(f\"PyTorch reports CUDA is available. GPU: {torch.cuda.get_device_name(0)}\")\n",
    "        else:\n",
    "            print(\"PyTorch reports CUDA is NOT available. Lc0 might run on CPU, but slower.\")\n",
    "    except ImportError:\n",
    "        print(\"PyTorch not installed. Cannot verify CUDA availability via PyTorch.\")\n",
    "\n",
    "    asyncio.run(main())"
   ]
  }
 ],
 "metadata": {
  "kernelspec": {
   "display_name": "chessism_gpu",
   "language": "python",
   "name": "chessism_gpu"
  },
  "language_info": {
   "codemirror_mode": {
    "name": "ipython",
    "version": 3
   },
   "file_extension": ".py",
   "mimetype": "text/x-python",
   "name": "python",
   "nbconvert_exporter": "python",
   "pygments_lexer": "ipython3",
   "version": "3.12.9"
  }
 },
 "nbformat": 4,
 "nbformat_minor": 5
}
