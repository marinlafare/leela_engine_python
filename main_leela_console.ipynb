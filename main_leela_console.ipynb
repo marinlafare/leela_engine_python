{
 "cells": [
  {
   "cell_type": "code",
   "execution_count": 1,
   "id": "1593885e-6a3c-40b0-9c3c-0f5c71e42260",
   "metadata": {},
   "outputs": [
    {
     "name": "stderr",
     "output_type": "stream",
     "text": [
      "/home/jon/anaconda3/envs/chessism_gpu/lib/python3.12/site-packages/requests/__init__.py:86: RequestsDependencyWarning: Unable to find acceptable character detection dependency (chardet or charset_normalizer).\n",
      "  warnings.warn(\n"
     ]
    }
   ],
   "source": [
    "from database.database.engine import init_db\n",
    "from constants import CONN_STRING\n",
    "from database.database.ask_db import *\n",
    "from database.operations.fen import *"
   ]
  },
  {
   "cell_type": "markdown",
   "id": "2f7d2445-19d9-45b5-8078-27710f222967",
   "metadata": {},
   "source": [
    "# Connection to the DB"
   ]
  },
  {
   "cell_type": "code",
   "execution_count": 2,
   "id": "a86ba95c-e7ed-434e-bb0d-53de30e688c1",
   "metadata": {},
   "outputs": [
    {
     "name": "stdout",
     "output_type": "stream",
     "text": [
      "Database 'chessism' already exists.\n",
      "Ensuring database tables exist...\n",
      "Database tables checked/created.\n",
      "Asynchronous database initialization complete.\n"
     ]
    }
   ],
   "source": [
    "await init_db(CONN_STRING)"
   ]
  },
  {
   "cell_type": "markdown",
   "id": "abaa1bd9-2b2e-4da6-a5cd-e07325070c30",
   "metadata": {},
   "source": [
    "# In cas you need to erase all tables\n",
    "it will only erase tables from this API: 'fen','game_fen_association'"
   ]
  },
  {
   "cell_type": "code",
   "execution_count": 3,
   "id": "2d9b60ed-5a79-4532-9607-8083102657af",
   "metadata": {},
   "outputs": [],
   "source": [
    "#await delete_all_leela_tables()"
   ]
  },
  {
   "cell_type": "markdown",
   "id": "ee026953-f809-49ae-a614-69b5c0cc01ef",
   "metadata": {},
   "source": [
    "# In case you need reset every game.fens_done to False"
   ]
  },
  {
   "cell_type": "code",
   "execution_count": 4,
   "id": "74fd3ee2-0d11-4d7d-91c6-5ee9c0bf719a",
   "metadata": {},
   "outputs": [],
   "source": [
    "#await reset_all_game_fens_done_to_false()"
   ]
  },
  {
   "cell_type": "markdown",
   "id": "e5845e7e-56f6-4857-bd05-530719c32ba9",
   "metadata": {},
   "source": [
    "### In case you want to set:  \n",
    "every game.fens_done to False but just for one player:"
   ]
  },
  {
   "cell_type": "code",
   "execution_count": 5,
   "id": "dfb2c1bc-c574-4265-80e5-f65fb4256c0a",
   "metadata": {},
   "outputs": [],
   "source": [
    "#await reset_player_game_fens_done_to_false('vi_pranav')"
   ]
  },
  {
   "cell_type": "markdown",
   "id": "38883fe1-9b3e-4344-b91b-a0878c6ff6f3",
   "metadata": {},
   "source": [
    "### Pipeline to analyze fens that are repeated more_than int times"
   ]
  },
  {
   "cell_type": "code",
   "execution_count": 6,
   "id": "87a3a9e3-c224-45e5-98c6-2f518a0977f3",
   "metadata": {},
   "outputs": [],
   "source": [
    "start = time.time()"
   ]
  },
  {
   "cell_type": "code",
   "execution_count": 7,
   "id": "aac93105-cabf-4385-80de-cfc59dfb86c9",
   "metadata": {},
   "outputs": [
    {
     "name": "stdout",
     "output_type": "stream",
     "text": [
      "...Starting Leela engine...\n"
     ]
    },
    {
     "name": "stderr",
     "output_type": "stream",
     "text": [
      "<UciProtocol (pid=72119)>: stderr >>        _\n",
      "<UciProtocol (pid=72119)>: stderr >> |   _ | |\n",
      "<UciProtocol (pid=72119)>: stderr >> |_ |_ |_| v0.31.2 built Oct 20 2024\n"
     ]
    },
    {
     "name": "stdout",
     "output_type": "stream",
     "text": [
      "...Leela engine ready...\n"
     ]
    },
    {
     "name": "stderr",
     "output_type": "stream",
     "text": [
      "<UciProtocol (pid=72119)>: stderr >> Loading weights file from: 791556.pb.gz\n",
      "<UciProtocol (pid=72119)>: stderr >> Creating backend [cuda-fp16]...\n",
      "<UciProtocol (pid=72119)>: stderr >> CUDA Runtime version: 11.1.0\n",
      "<UciProtocol (pid=72119)>: stderr >> Latest version of CUDA supported by the driver: 12.9.0\n",
      "<UciProtocol (pid=72119)>: stderr >> GPU: NVIDIA GeForce RTX 4060\n",
      "<UciProtocol (pid=72119)>: stderr >> GPU memory: 7.99548 Gb\n",
      "<UciProtocol (pid=72119)>: stderr >> GPU clock frequency: 2490 MHz\n",
      "<UciProtocol (pid=72119)>: stderr >> GPU compute capability: 8.9\n",
      "<UciProtocol (pid=72119)>: stderr >> L2 cache capacity: 25165824\n"
     ]
    },
    {
     "name": "stdout",
     "output_type": "stream",
     "text": [
      "\n",
      "--- Analysis Complete ---\n",
      "Successfully updated 10 FEN records with analysis data.\n"
     ]
    },
    {
     "data": {
      "text/plain": [
       "10"
      ]
     },
     "execution_count": 7,
     "metadata": {},
     "output_type": "execute_result"
    }
   ],
   "source": [
    "analize_results = await analize_most_repeated_fens(between = (5,20), limit= 10)\n",
    "to_insert = await format_leela_results(analize_results)\n",
    "await DBInterface(Fen).update_fen_analysis_data(to_insert)"
   ]
  },
  {
   "cell_type": "code",
   "execution_count": 8,
   "id": "7cb296a8-aa7e-4bc7-b5d9-30c23572b328",
   "metadata": {},
   "outputs": [
    {
     "name": "stdout",
     "output_type": "stream",
     "text": [
      "enden in  19.370742082595825\n"
     ]
    }
   ],
   "source": [
    "end = time.time()\n",
    "print('enden in ',end-start)"
   ]
  },
  {
   "cell_type": "markdown",
   "id": "6fc93e4a-a7f7-4f6d-b170-0c14edf3206b",
   "metadata": {},
   "source": [
    "### Doing the pipeline in a loop\n",
    "So the 3d card can lower the temp."
   ]
  },
  {
   "cell_type": "code",
   "execution_count": 9,
   "id": "3e78a29e-a85b-4050-831a-19e24e4242e6",
   "metadata": {},
   "outputs": [],
   "source": [
    "start_analysis_loop = time.time() \n",
    "n_repetitions = 3\n",
    "between = (2,4)\n",
    "limit = 10\n",
    "min_wait_time_seconds = 20\n",
    "max_wait_time = 1/4 #quarter of the time it take to run one loop\n",
    "verbose_each = 100\n",
    "analyse_time_limit = 1.5\n",
    "nodes_limit = 100_000"
   ]
  },
  {
   "cell_type": "code",
   "execution_count": 10,
   "id": "5d81c608-9268-4f8a-aba4-335a7d386bba",
   "metadata": {},
   "outputs": [
    {
     "name": "stdout",
     "output_type": "stream",
     "text": [
      "0 out of 3\n",
      "...Starting Leela engine...\n"
     ]
    },
    {
     "name": "stderr",
     "output_type": "stream",
     "text": [
      "<UciProtocol (pid=74415)>: stderr >>        _\n",
      "<UciProtocol (pid=74415)>: stderr >> |   _ | |\n",
      "<UciProtocol (pid=74415)>: stderr >> |_ |_ |_| v0.31.2 built Oct 20 2024\n"
     ]
    },
    {
     "name": "stdout",
     "output_type": "stream",
     "text": [
      "...Leela engine ready...\n"
     ]
    },
    {
     "name": "stderr",
     "output_type": "stream",
     "text": [
      "<UciProtocol (pid=74415)>: stderr >> Loading weights file from: 791556.pb.gz\n",
      "<UciProtocol (pid=74415)>: stderr >> Creating backend [cuda-fp16]...\n",
      "<UciProtocol (pid=74415)>: stderr >> CUDA Runtime version: 11.1.0\n",
      "<UciProtocol (pid=74415)>: stderr >> Latest version of CUDA supported by the driver: 12.9.0\n",
      "<UciProtocol (pid=74415)>: stderr >> GPU: NVIDIA GeForce RTX 4060\n",
      "<UciProtocol (pid=74415)>: stderr >> GPU memory: 7.99548 Gb\n",
      "<UciProtocol (pid=74415)>: stderr >> GPU clock frequency: 2490 MHz\n",
      "<UciProtocol (pid=74415)>: stderr >> GPU compute capability: 8.9\n",
      "<UciProtocol (pid=74415)>: stderr >> L2 cache capacity: 25165824\n"
     ]
    },
    {
     "name": "stdout",
     "output_type": "stream",
     "text": [
      "\n",
      "--- Analysis Complete ---\n",
      "Successfully updated 10 FEN records with analysis data.\n",
      "0 batch done in:  15.112958908081055\n",
      "#####\n",
      "... Cool of waiting ...\n",
      "#####\n",
      "... sleeping for 20 seconds\n",
      "#####\n",
      "... End of waiting Cool ...\n",
      "#####\n",
      "1 out of 3\n",
      "...Starting Leela engine...\n"
     ]
    },
    {
     "name": "stderr",
     "output_type": "stream",
     "text": [
      "<UciProtocol (pid=76711)>: stderr >>        _\n",
      "<UciProtocol (pid=76711)>: stderr >> |   _ | |\n",
      "<UciProtocol (pid=76711)>: stderr >> |_ |_ |_| v0.31.2 built Oct 20 2024\n"
     ]
    },
    {
     "name": "stdout",
     "output_type": "stream",
     "text": [
      "...Leela engine ready...\n"
     ]
    },
    {
     "name": "stderr",
     "output_type": "stream",
     "text": [
      "<UciProtocol (pid=76711)>: stderr >> Loading weights file from: 791556.pb.gz\n",
      "<UciProtocol (pid=76711)>: stderr >> Creating backend [cuda-fp16]...\n",
      "<UciProtocol (pid=76711)>: stderr >> CUDA Runtime version: 11.1.0\n",
      "<UciProtocol (pid=76711)>: stderr >> Latest version of CUDA supported by the driver: 12.9.0\n",
      "<UciProtocol (pid=76711)>: stderr >> GPU: NVIDIA GeForce RTX 4060\n",
      "<UciProtocol (pid=76711)>: stderr >> GPU memory: 7.99548 Gb\n",
      "<UciProtocol (pid=76711)>: stderr >> GPU clock frequency: 2490 MHz\n",
      "<UciProtocol (pid=76711)>: stderr >> GPU compute capability: 8.9\n",
      "<UciProtocol (pid=76711)>: stderr >> L2 cache capacity: 25165824\n"
     ]
    },
    {
     "name": "stdout",
     "output_type": "stream",
     "text": [
      "\n",
      "--- Analysis Complete ---\n",
      "Successfully updated 10 FEN records with analysis data.\n",
      "1 batch done in:  13.772090911865234\n",
      "#####\n",
      "... Cool of waiting ...\n",
      "#####\n",
      "... sleeping for 20 seconds\n",
      "#####\n",
      "... End of waiting Cool ...\n",
      "#####\n",
      "2 out of 3\n"
     ]
    },
    {
     "name": "stderr",
     "output_type": "stream",
     "text": [
      "<UciProtocol (pid=79010)>: stderr >>        _\n",
      "<UciProtocol (pid=79010)>: stderr >> |   _ | |\n",
      "<UciProtocol (pid=79010)>: stderr >> |_ |_ |_| v0.31.2 built Oct 20 2024\n"
     ]
    },
    {
     "name": "stdout",
     "output_type": "stream",
     "text": [
      "...Starting Leela engine...\n",
      "...Leela engine ready...\n"
     ]
    },
    {
     "name": "stderr",
     "output_type": "stream",
     "text": [
      "<UciProtocol (pid=79010)>: stderr >> Loading weights file from: 791556.pb.gz\n",
      "<UciProtocol (pid=79010)>: stderr >> Creating backend [cuda-fp16]...\n",
      "<UciProtocol (pid=79010)>: stderr >> CUDA Runtime version: 11.1.0\n",
      "<UciProtocol (pid=79010)>: stderr >> Latest version of CUDA supported by the driver: 12.9.0\n",
      "<UciProtocol (pid=79010)>: stderr >> GPU: NVIDIA GeForce RTX 4060\n",
      "<UciProtocol (pid=79010)>: stderr >> GPU memory: 7.99548 Gb\n",
      "<UciProtocol (pid=79010)>: stderr >> GPU clock frequency: 2490 MHz\n",
      "<UciProtocol (pid=79010)>: stderr >> GPU compute capability: 8.9\n",
      "<UciProtocol (pid=79010)>: stderr >> L2 cache capacity: 25165824\n"
     ]
    },
    {
     "name": "stdout",
     "output_type": "stream",
     "text": [
      "\n",
      "--- Analysis Complete ---\n",
      "Successfully updated 10 FEN records with analysis data.\n",
      "2 batch done in:  10.08233904838562\n",
      "#####\n",
      "... Cool of waiting ...\n",
      "#####\n",
      "Done everything in:  103.94300556182861\n"
     ]
    }
   ],
   "source": [
    "for ind, batches in enumerate(range(n_repetitions)):\n",
    "    start_batch = time.time()\n",
    "    print(f'{batches} out of {n_repetitions}')\n",
    "    last_loop = list(range(n_repetitions))[-1]\n",
    "    \n",
    "    analize_results = await analize_most_repeated_fens(between = between,\n",
    "                                                       limit= limit,\n",
    "                                                      verbose_each = verbose_each,\n",
    "                                                      analyse_time_limit = analyse_time_limit,\n",
    "                                                      nodes_limit = nodes_limit)\n",
    "    to_insert = await format_leela_results(analize_results)\n",
    "    await DBInterface(Fen).update_fen_analysis_data(to_insert)\n",
    "\n",
    "    print(f'{ind} batch done in: ', time.time()-start_batch)\n",
    "    print('#####')\n",
    "    print('... Cool of waiting ...')\n",
    "    print('#####')\n",
    "    if batches == last_loop:\n",
    "        print('Done everything in: ', time.time()-start)\n",
    "        break\n",
    "    sleep_for = max(min_wait_time_seconds, (time.time()-start_batch) * max_wait_time)\n",
    "    print(f'... sleeping for {sleep_for} seconds')\n",
    "    time.sleep(sleep_for)\n",
    "    print('#####')\n",
    "    print('... End of waiting Cool ...')\n",
    "    print('#####')"
   ]
  },
  {
   "cell_type": "code",
   "execution_count": null,
   "id": "d1538d64-8f4b-47d5-a6a1-fbd248155a3a",
   "metadata": {},
   "outputs": [],
   "source": []
  },
  {
   "cell_type": "code",
   "execution_count": null,
   "id": "e90cbb80-c544-42a1-8c61-22a434e1f2db",
   "metadata": {},
   "outputs": [],
   "source": []
  },
  {
   "cell_type": "code",
   "execution_count": null,
   "id": "822fe308-dd90-4952-a2b9-fa40ee7ddc80",
   "metadata": {},
   "outputs": [],
   "source": []
  },
  {
   "cell_type": "code",
   "execution_count": null,
   "id": "69733acc-8f59-47d1-8650-acce22ca6a1c",
   "metadata": {},
   "outputs": [],
   "source": []
  },
  {
   "cell_type": "code",
   "execution_count": null,
   "id": "8ea78937-3fe1-4d38-acd8-7da418cdb932",
   "metadata": {},
   "outputs": [],
   "source": []
  },
  {
   "cell_type": "code",
   "execution_count": null,
   "id": "f679e318-1d49-4c87-9d51-740769c69ae4",
   "metadata": {},
   "outputs": [],
   "source": []
  },
  {
   "cell_type": "code",
   "execution_count": null,
   "id": "85eb7e83-d701-4c2b-8bfd-9a0b1a43e6d9",
   "metadata": {
    "scrolled": true
   },
   "outputs": [],
   "source": []
  },
  {
   "cell_type": "code",
   "execution_count": 18,
   "id": "b13f34ea-fac3-4e56-8397-c7770a4238ed",
   "metadata": {},
   "outputs": [
    {
     "name": "stdout",
     "output_type": "stream",
     "text": [
      "enden in  22585.197417020798\n"
     ]
    }
   ],
   "source": [
    "end = time.time()\n",
    "print('enden in ',end-start)"
   ]
  },
  {
   "cell_type": "code",
   "execution_count": 19,
   "id": "341a149e-b06b-46c9-9e49-a26fff353ac6",
   "metadata": {},
   "outputs": [
    {
     "name": "stdout",
     "output_type": "stream",
     "text": [
      "1752028448.9136944\n"
     ]
    }
   ],
   "source": [
    "print(end)"
   ]
  },
  {
   "cell_type": "code",
   "execution_count": 7,
   "id": "d619a4bc-68a3-4507-ab6d-bdc796868bff",
   "metadata": {},
   "outputs": [],
   "source": []
  },
  {
   "cell_type": "code",
   "execution_count": 8,
   "id": "fa69f20f-70f2-4093-9485-52381240f386",
   "metadata": {},
   "outputs": [],
   "source": [
    "done, lack = await get_fen_score_counts()"
   ]
  },
  {
   "cell_type": "code",
   "execution_count": 9,
   "id": "8ea264e9-d5a9-47e5-8295-53048e7f452c",
   "metadata": {},
   "outputs": [
    {
     "name": "stdout",
     "output_type": "stream",
     "text": [
      "done: 166,854\n",
      "still: 119,635\n"
     ]
    }
   ],
   "source": [
    "print(f'done: {done:,}')\n",
    "print(f'still: {lack:,}')"
   ]
  },
  {
   "cell_type": "code",
   "execution_count": null,
   "id": "76530259-04de-4dab-8686-22cd7294d384",
   "metadata": {},
   "outputs": [],
   "source": []
  },
  {
   "cell_type": "code",
   "execution_count": null,
   "id": "1e462581-8acc-44c0-aaa5-8fd3bde0de91",
   "metadata": {},
   "outputs": [],
   "source": []
  },
  {
   "cell_type": "code",
   "execution_count": null,
   "id": "a6f0f7a3-042c-42e8-9255-3e1bb868cd31",
   "metadata": {},
   "outputs": [],
   "source": []
  },
  {
   "cell_type": "code",
   "execution_count": null,
   "id": "24c06a33-915f-41b5-ab3a-b33fd4327c7d",
   "metadata": {},
   "outputs": [],
   "source": []
  },
  {
   "cell_type": "code",
   "execution_count": 64,
   "id": "141454f9-4e28-41a7-a2e1-54c563bacf57",
   "metadata": {},
   "outputs": [
    {
     "name": "stdout",
     "output_type": "stream",
     "text": [
      "done: 70,844\n",
      "still: 157,434\n"
     ]
    }
   ],
   "source": [
    "print(f'done: {done:,}')\n",
    "print(f'still: {lack:,}')"
   ]
  },
  {
   "cell_type": "code",
   "execution_count": null,
   "id": "a6a2f509-5e21-4b46-8ca0-adfa796b71a9",
   "metadata": {},
   "outputs": [],
   "source": []
  },
  {
   "cell_type": "code",
   "execution_count": null,
   "id": "17ad510c-fcdd-4e48-a145-c82306438dec",
   "metadata": {},
   "outputs": [],
   "source": [
    "# more than 10"
   ]
  },
  {
   "cell_type": "code",
   "execution_count": 61,
   "id": "46911712-af09-424a-9fb3-ab32ff43fa93",
   "metadata": {},
   "outputs": [
    {
     "name": "stdout",
     "output_type": "stream",
     "text": [
      "done: 61,814\n",
      "still: 49,714\n"
     ]
    }
   ],
   "source": [
    "print(f'done: {done:,}')\n",
    "print(f'still: {lack:,}')"
   ]
  },
  {
   "cell_type": "code",
   "execution_count": null,
   "id": "053774e3-29d7-4a1e-ba57-a7b9804091dc",
   "metadata": {},
   "outputs": [],
   "source": []
  },
  {
   "cell_type": "code",
   "execution_count": null,
   "id": "9b98bf3e-b40d-4928-b54c-0b975a7b5c73",
   "metadata": {},
   "outputs": [],
   "source": [
    "45623/65905"
   ]
  },
  {
   "cell_type": "code",
   "execution_count": null,
   "id": "3640f28f-005b-4282-a841-2379794f5889",
   "metadata": {},
   "outputs": [],
   "source": []
  },
  {
   "cell_type": "code",
   "execution_count": null,
   "id": "164f401a-16d5-47d9-8c4c-2dd91e75e796",
   "metadata": {},
   "outputs": [],
   "source": [
    "sql_null = \"SELECT COUNT(fen) FROM fen WHERE score IS NULL AND n_games > 20;\"\n",
    "result_null = await open_async_request(sql_null)"
   ]
  },
  {
   "cell_type": "code",
   "execution_count": null,
   "id": "dfa46466-443b-44ff-9281-d6680f40eb6e",
   "metadata": {},
   "outputs": [],
   "source": [
    "result_null"
   ]
  },
  {
   "cell_type": "code",
   "execution_count": null,
   "id": "811a8d71-81b3-46df-b910-e4af2fe9aacd",
   "metadata": {},
   "outputs": [],
   "source": []
  },
  {
   "cell_type": "code",
   "execution_count": null,
   "id": "35d72c85-5100-4a3e-bfcc-5d1c12587a77",
   "metadata": {},
   "outputs": [],
   "source": []
  },
  {
   "cell_type": "code",
   "execution_count": null,
   "id": "a7a7fd48-3251-4fcd-bf40-ef9a9f5fc4d3",
   "metadata": {},
   "outputs": [],
   "source": []
  },
  {
   "cell_type": "code",
   "execution_count": null,
   "id": "ed73e1c5-e840-4e8e-bf40-1e82e0e50336",
   "metadata": {},
   "outputs": [],
   "source": [
    "18180/49627184"
   ]
  },
  {
   "cell_type": "code",
   "execution_count": null,
   "id": "52e8140f-b320-406e-9607-b4cb86cdbef8",
   "metadata": {},
   "outputs": [],
   "source": []
  },
  {
   "cell_type": "code",
   "execution_count": null,
   "id": "34e05165-e769-4f6f-8068-45fec3e388c3",
   "metadata": {},
   "outputs": [],
   "source": []
  },
  {
   "cell_type": "code",
   "execution_count": null,
   "id": "de8b0af2-5be3-400f-ba2d-b93f29a15c2b",
   "metadata": {},
   "outputs": [],
   "source": [
    "#######   lksdghfkldghfjksdghf"
   ]
  },
  {
   "cell_type": "code",
   "execution_count": null,
   "id": "cb2c2c28-21f9-4931-af48-17846a64b9d9",
   "metadata": {},
   "outputs": [],
   "source": [
    "await get_fen_score_counts()"
   ]
  },
  {
   "cell_type": "code",
   "execution_count": null,
   "id": "ecd60378-e65a-496b-9891-12ad80e82438",
   "metadata": {},
   "outputs": [],
   "source": [
    "await get_fen_score_counts()"
   ]
  },
  {
   "cell_type": "code",
   "execution_count": null,
   "id": "fbd9411e-bcd6-43db-82e1-9a4e0f5f2653",
   "metadata": {},
   "outputs": [],
   "source": []
  },
  {
   "cell_type": "code",
   "execution_count": null,
   "id": "edf68d35-bc75-4ba8-b225-2b191295611a",
   "metadata": {},
   "outputs": [],
   "source": [
    "await get_fen_score_counts()"
   ]
  },
  {
   "cell_type": "code",
   "execution_count": null,
   "id": "839a12b9-073f-49b5-959f-276db853ece9",
   "metadata": {},
   "outputs": [],
   "source": [
    "20190/34929"
   ]
  },
  {
   "cell_type": "code",
   "execution_count": null,
   "id": "bbc94b0c-8a3f-4199-9fec-6f64bf22effa",
   "metadata": {},
   "outputs": [],
   "source": []
  },
  {
   "cell_type": "code",
   "execution_count": null,
   "id": "958f8081-d0f4-4c7c-9313-ce7086ffcf7c",
   "metadata": {},
   "outputs": [],
   "source": []
  },
  {
   "cell_type": "code",
   "execution_count": null,
   "id": "8b0fd3d2-68be-405e-a6f9-d1459e9c4194",
   "metadata": {},
   "outputs": [],
   "source": [
    "'gkdfkkdk'"
   ]
  },
  {
   "cell_type": "code",
   "execution_count": null,
   "id": "3fe59f18-51dc-4cfa-bffc-497bce8eb591",
   "metadata": {},
   "outputs": [],
   "source": [
    "'DDDDDDDDDDDDDDDDDDDDDDOOOOOOOOOOOOOOOOONENENENEN'"
   ]
  },
  {
   "cell_type": "code",
   "execution_count": null,
   "id": "0d21f5e6-8e57-46eb-903c-1c565311a701",
   "metadata": {},
   "outputs": [],
   "source": [
    "'DDDDDDDDDDDDDDDDDDDDDDOOOOOOOOOOOOOOOOONENENENEN'"
   ]
  },
  {
   "cell_type": "code",
   "execution_count": null,
   "id": "88d5618e-3fdb-4ff8-bfdb-f65740debc56",
   "metadata": {},
   "outputs": [],
   "source": [
    "'DDDDDDDDDDDDDDDDDDDDDDssjkk sksksk'"
   ]
  },
  {
   "cell_type": "code",
   "execution_count": null,
   "id": "44b236dc-1218-4231-aa0d-9ce27b9abecf",
   "metadata": {},
   "outputs": [],
   "source": []
  },
  {
   "cell_type": "code",
   "execution_count": null,
   "id": "6d20d25a-5d16-4afc-b6f9-84575c1b1766",
   "metadata": {},
   "outputs": [],
   "source": []
  },
  {
   "cell_type": "code",
   "execution_count": null,
   "id": "93d57eb5-588e-4f69-b43e-3f42ba781c4b",
   "metadata": {},
   "outputs": [],
   "source": []
  },
  {
   "cell_type": "code",
   "execution_count": null,
   "id": "c15076df-59c5-4786-ac56-ae882041cbba",
   "metadata": {},
   "outputs": [],
   "source": []
  },
  {
   "cell_type": "code",
   "execution_count": null,
   "id": "079e9967-3447-45f8-ad44-26cd378a6a8a",
   "metadata": {},
   "outputs": [],
   "source": []
  },
  {
   "cell_type": "code",
   "execution_count": null,
   "id": "a4b7d9f6-ce12-46d7-841c-b09be9ba0226",
   "metadata": {},
   "outputs": [],
   "source": []
  },
  {
   "cell_type": "code",
   "execution_count": null,
   "id": "d7b77521-9b41-4102-94fa-d3709ddd6f91",
   "metadata": {},
   "outputs": [],
   "source": []
  },
  {
   "cell_type": "code",
   "execution_count": null,
   "id": "c3587e6a-ad67-43c5-92f8-361899d8a7e8",
   "metadata": {},
   "outputs": [],
   "source": [
    "\n",
    "#await insert_every_main_character(limit_to_n_players = False)"
   ]
  },
  {
   "cell_type": "code",
   "execution_count": null,
   "id": "838ec586-5fed-44b1-93fe-c9ccde68e354",
   "metadata": {},
   "outputs": [],
   "source": []
  },
  {
   "cell_type": "code",
   "execution_count": null,
   "id": "5e7b653e-050b-46a4-a07f-df1ae61eecea",
   "metadata": {},
   "outputs": [],
   "source": []
  },
  {
   "cell_type": "code",
   "execution_count": null,
   "id": "4a3203c5-eeb5-4485-a1af-ec1f3d7b54c9",
   "metadata": {},
   "outputs": [],
   "source": []
  },
  {
   "cell_type": "code",
   "execution_count": null,
   "id": "89cdf647-e185-4a45-aa1d-e8d04bb2ff18",
   "metadata": {},
   "outputs": [],
   "source": []
  },
  {
   "cell_type": "code",
   "execution_count": null,
   "id": "8b886aca-b51b-463a-84da-005378e33580",
   "metadata": {},
   "outputs": [],
   "source": [
    "some_foo_process()\n",
    "sound_alarm()"
   ]
  },
  {
   "cell_type": "code",
   "execution_count": null,
   "id": "cd8c66ed-c2f0-4416-9dfe-8fa0ca178287",
   "metadata": {},
   "outputs": [],
   "source": []
  },
  {
   "cell_type": "code",
   "execution_count": null,
   "id": "363da33f-d178-4dc5-890d-a3d0ac8524eb",
   "metadata": {},
   "outputs": [],
   "source": []
  },
  {
   "cell_type": "code",
   "execution_count": null,
   "id": "54c6aa63-b00a-4fec-aa54-f79b4b37979e",
   "metadata": {},
   "outputs": [],
   "source": []
  },
  {
   "cell_type": "code",
   "execution_count": null,
   "id": "0b196b73-1f15-4a78-bc4a-041d55522237",
   "metadata": {},
   "outputs": [],
   "source": []
  },
  {
   "cell_type": "code",
   "execution_count": null,
   "id": "c9cf027e-06ff-454e-a1b4-81048dc1dcc0",
   "metadata": {},
   "outputs": [],
   "source": []
  },
  {
   "cell_type": "code",
   "execution_count": null,
   "id": "320991d3-ad1d-4833-b8ff-1d5fb3c7488d",
   "metadata": {},
   "outputs": [],
   "source": []
  },
  {
   "cell_type": "code",
   "execution_count": null,
   "id": "cd9e481e-ec6f-4fea-8efc-67e151bbc78b",
   "metadata": {},
   "outputs": [],
   "source": []
  },
  {
   "cell_type": "code",
   "execution_count": null,
   "id": "81228d3c-5b06-4d2d-9385-e4f0e3b78014",
   "metadata": {},
   "outputs": [],
   "source": []
  },
  {
   "cell_type": "code",
   "execution_count": null,
   "id": "5f5a26c5-6c41-4668-afff-83299f39eb89",
   "metadata": {},
   "outputs": [],
   "source": []
  }
 ],
 "metadata": {
  "kernelspec": {
   "display_name": "chessism_gpu",
   "language": "python",
   "name": "chessism_gpu"
  },
  "language_info": {
   "codemirror_mode": {
    "name": "ipython",
    "version": 3
   },
   "file_extension": ".py",
   "mimetype": "text/x-python",
   "name": "python",
   "nbconvert_exporter": "python",
   "pygments_lexer": "ipython3",
   "version": "3.12.9"
  }
 },
 "nbformat": 4,
 "nbformat_minor": 5
}
