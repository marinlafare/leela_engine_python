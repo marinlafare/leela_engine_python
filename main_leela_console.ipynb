{
 "cells": [
  {
   "cell_type": "code",
   "execution_count": 1,
   "id": "1593885e-6a3c-40b0-9c3c-0f5c71e42260",
   "metadata": {},
   "outputs": [
    {
     "name": "stderr",
     "output_type": "stream",
     "text": [
      "/home/jon/anaconda3/envs/chessism_gpu/lib/python3.12/site-packages/requests/__init__.py:86: RequestsDependencyWarning: Unable to find acceptable character detection dependency (chardet or charset_normalizer).\n",
      "  warnings.warn(\n"
     ]
    },
    {
     "name": "stdout",
     "output_type": "stream",
     "text": [
      "Database 'chessism' already exists.\n",
      "Ensuring database tables exist...\n",
      "Database tables checked/created.\n",
      "Asynchronous database initialization complete.\n"
     ]
    }
   ],
   "source": [
    "import os\n",
    "import nest_asyncio\n",
    "import chess\n",
    "import chess.engine\n",
    "import asyncio\n",
    "import re\n",
    "from database.database.engine import init_db\n",
    "from constants import CONN_STRING\n",
    "from database.database.ask_db import delete_all_leela_tables\n",
    "\n",
    "from sqlalchemy.orm import Session # Ensure this is also imported\n",
    "from database.database.engine import AsyncDBSession # <--- ADD THIS LINE\n",
    "from database.operations.collect_fens import *\n",
    "from database.operations.fen import analyze_fens_from_main_fen_batch,analyze_user_games_fens\n",
    "await init_db(CONN_STRING)"
   ]
  },
  {
   "cell_type": "code",
   "execution_count": 2,
   "id": "662ebff7-1ed7-41ed-9c69-eac04fcc4062",
   "metadata": {},
   "outputs": [],
   "source": [
    "#await delete_all_leela_tables()"
   ]
  },
  {
   "cell_type": "code",
   "execution_count": 3,
   "id": "eab4beea-75e7-4079-92ef-cc1aea389357",
   "metadata": {},
   "outputs": [],
   "source": [
    "#n_games = 10000"
   ]
  },
  {
   "cell_type": "code",
   "execution_count": 4,
   "id": "74a27627-677c-464b-b392-13bfb541a0bb",
   "metadata": {},
   "outputs": [],
   "source": [
    "username = 'lafareto'\n",
    "n_games = 20"
   ]
  },
  {
   "cell_type": "code",
   "execution_count": 5,
   "id": "2a676aef-7572-43c8-b399-186ed34cfd90",
   "metadata": {},
   "outputs": [],
   "source": [
    "new_games = await get_game_links_by_username(username, n_games)"
   ]
  },
  {
   "cell_type": "code",
   "execution_count": 6,
   "id": "a08f14b5-52b7-4f5a-ad63-27765b5997a8",
   "metadata": {},
   "outputs": [
    {
     "data": {
      "text/plain": [
       "[108885029249, 108825602949, 108825002887]"
      ]
     },
     "execution_count": 6,
     "metadata": {},
     "output_type": "execute_result"
    }
   ],
   "source": [
    "new_games[:3]"
   ]
  },
  {
   "cell_type": "code",
   "execution_count": 7,
   "id": "51fd9512-6426-4d0d-8d9e-51b13f8b3984",
   "metadata": {},
   "outputs": [],
   "source": [
    "moves_data_batch = await get_all_moves_for_links_batch(new_games)"
   ]
  },
  {
   "cell_type": "code",
   "execution_count": 8,
   "id": "b4e98df5-09c7-4353-b464-be37acb5bb78",
   "metadata": {},
   "outputs": [
    {
     "ename": "AttributeError",
     "evalue": "'list' object has no attribute 'get'",
     "output_type": "error",
     "traceback": [
      "\u001b[31m---------------------------------------------------------------------------\u001b[39m",
      "\u001b[31mAttributeError\u001b[39m                            Traceback (most recent call last)",
      "\u001b[36mCell\u001b[39m\u001b[36m \u001b[39m\u001b[32mIn[8]\u001b[39m\u001b[32m, line 1\u001b[39m\n\u001b[32m----> \u001b[39m\u001b[32m1\u001b[39m moves_data_batch = generate_fens_for_single_game_moves(moves_data_batch)\n",
      "\u001b[36mFile \u001b[39m\u001b[32m~/workshop/leela_zero/leela_engine_python/database/operations/collect_fens.py:153\u001b[39m, in \u001b[36mgenerate_fens_for_single_game_moves\u001b[39m\u001b[34m(moves)\u001b[39m\n\u001b[32m    151\u001b[39m move = moves[key]\n\u001b[32m    152\u001b[39m expected_move_num = ind + \u001b[32m1\u001b[39m\n\u001b[32m--> \u001b[39m\u001b[32m153\u001b[39m current_move_num = move.get(\u001b[33m'\u001b[39m\u001b[33mn_move\u001b[39m\u001b[33m'\u001b[39m)\n\u001b[32m    154\u001b[39m \u001b[38;5;66;03m# Robustness checks for move data integrity\u001b[39;00m\n\u001b[32m    155\u001b[39m \u001b[38;5;28;01mif\u001b[39;00m current_move_num \u001b[38;5;129;01mis\u001b[39;00m \u001b[38;5;28;01mNone\u001b[39;00m:\n",
      "\u001b[31mAttributeError\u001b[39m: 'list' object has no attribute 'get'"
     ]
    }
   ],
   "source": [
    "moves_data_batch = generate_fens_for_single_game_moves(moves_data_batch)"
   ]
  },
  {
   "cell_type": "code",
   "execution_count": null,
   "id": "7875c43c-53b6-4fc8-b438-4706a75c8799",
   "metadata": {},
   "outputs": [],
   "source": []
  },
  {
   "cell_type": "code",
   "execution_count": null,
   "id": "771949c7-6ca1-4bba-98f4-3a545c7f31dd",
   "metadata": {},
   "outputs": [],
   "source": []
  },
  {
   "cell_type": "code",
   "execution_count": 12,
   "id": "9f7280bd-f0a8-4489-805e-611f2ba5fac3",
   "metadata": {},
   "outputs": [
    {
     "ename": "AttributeError",
     "evalue": "'int' object has no attribute 'get'",
     "output_type": "error",
     "traceback": [
      "\u001b[31m---------------------------------------------------------------------------\u001b[39m",
      "\u001b[31mAttributeError\u001b[39m                            Traceback (most recent call last)",
      "\u001b[36mCell\u001b[39m\u001b[36m \u001b[39m\u001b[32mIn[12]\u001b[39m\u001b[32m, line 1\u001b[39m\n\u001b[32m----> \u001b[39m\u001b[32m1\u001b[39m generate_fens_for_single_game_moves(moves_data_batch)\n",
      "\u001b[36mFile \u001b[39m\u001b[32m~/workshop/leela_zero/leela_engine_python/database/operations/collect_fens.py:152\u001b[39m, in \u001b[36mgenerate_fens_for_single_game_moves\u001b[39m\u001b[34m(moves)\u001b[39m\n\u001b[32m    150\u001b[39m \u001b[38;5;28;01mfor\u001b[39;00m ind, move \u001b[38;5;129;01min\u001b[39;00m \u001b[38;5;28menumerate\u001b[39m(moves):\n\u001b[32m    151\u001b[39m     expected_move_num = ind + \u001b[32m1\u001b[39m\n\u001b[32m--> \u001b[39m\u001b[32m152\u001b[39m     current_move_num = move.get(\u001b[33m'\u001b[39m\u001b[33mn_move\u001b[39m\u001b[33m'\u001b[39m)\n\u001b[32m    153\u001b[39m     \u001b[38;5;66;03m# Robustness checks for move data integrity\u001b[39;00m\n\u001b[32m    154\u001b[39m     \u001b[38;5;28;01mif\u001b[39;00m current_move_num \u001b[38;5;129;01mis\u001b[39;00m \u001b[38;5;28;01mNone\u001b[39;00m:\n",
      "\u001b[31mAttributeError\u001b[39m: 'int' object has no attribute 'get'"
     ]
    }
   ],
   "source": [
    "generate_fens_for_single_game_moves(moves_data_batch)"
   ]
  },
  {
   "cell_type": "code",
   "execution_count": null,
   "id": "dc42b321-7a88-46f3-b371-dc78bb808509",
   "metadata": {},
   "outputs": [],
   "source": []
  },
  {
   "cell_type": "code",
   "execution_count": null,
   "id": "1391911e-58a2-4209-8567-4df1461499ca",
   "metadata": {},
   "outputs": [],
   "source": []
  },
  {
   "cell_type": "code",
   "execution_count": null,
   "id": "01926d93-203b-496e-aff0-eb6c42788778",
   "metadata": {},
   "outputs": [],
   "source": []
  },
  {
   "cell_type": "code",
   "execution_count": 8,
   "id": "58e3c8d6-72a1-4050-ac49-220bfc34cedc",
   "metadata": {},
   "outputs": [
    {
     "data": {
      "text/plain": [
       "{108885029249: [{'n_move': 34, 'white_move': 'Qh5+', 'black_move': '--'}],\n",
       " 108825602949: [{'n_move': 32, 'white_move': 'Qxg7#', 'black_move': '--'}],\n",
       " 108825002887: [{'n_move': 15, 'white_move': 'Rfd1', 'black_move': 'Be6'}],\n",
       " 108824459401: [{'n_move': 14, 'white_move': 'Nxc7+', 'black_move': '--'}],\n",
       " 108884420745: [{'n_move': 27, 'white_move': 'Qd2', 'black_move': '--'}],\n",
       " 108886171147: [{'n_move': 19, 'white_move': 'Bc6', 'black_move': '--'}],\n",
       " 108824483853: [{'n_move': 25, 'white_move': 'Qb6', 'black_move': 'cxb6'}],\n",
       " 108824413329: [{'n_move': 23, 'white_move': 'Kh2', 'black_move': '--'}],\n",
       " 108826158353: [{'n_move': 33, 'white_move': 'Rc8+', 'black_move': '--'}],\n",
       " 108826332563: [{'n_move': 38, 'white_move': 'Qf1', 'black_move': '--'}],\n",
       " 108827474579: [{'n_move': 44, 'white_move': 'Nd4', 'black_move': '--'}],\n",
       " 108885064215: [{'n_move': 30, 'white_move': 'Ka2', 'black_move': 'Qb2#'}],\n",
       " 108827422363: [{'n_move': 36, 'white_move': 'fxg5+', 'black_move': 'Rhxg5+'}],\n",
       " 108886788383: [{'n_move': 25, 'white_move': 'Qh4', 'black_move': 'Bxg3'}],\n",
       " 108885610657: [{'n_move': 31, 'white_move': 'Nd5', 'black_move': 'Kh7'}],\n",
       " 108825700005: [{'n_move': 21, 'white_move': 'Qc5+', 'black_move': '--'}],\n",
       " 108886224169: [{'n_move': 26, 'white_move': 'Rfg1', 'black_move': 'Rae8'}],\n",
       " 108826264109: [{'n_move': 45, 'white_move': 'Ra8', 'black_move': '--'}],\n",
       " 108823878715: [{'n_move': 14, 'white_move': 'Qxd8+', 'black_move': '--'}],\n",
       " 108826808513: [{'n_move': 25, 'white_move': 'Rb7', 'black_move': '--'}]}"
      ]
     },
     "execution_count": 8,
     "metadata": {},
     "output_type": "execute_result"
    }
   ],
   "source": [
    "moves_data_batch"
   ]
  },
  {
   "cell_type": "code",
   "execution_count": null,
   "id": "991d29e8-0a1b-420c-8664-a2b4a6de5fc1",
   "metadata": {},
   "outputs": [],
   "source": []
  },
  {
   "cell_type": "code",
   "execution_count": null,
   "id": "da511925-d85a-4d57-a909-922ce9490b2f",
   "metadata": {},
   "outputs": [],
   "source": []
  },
  {
   "cell_type": "code",
   "execution_count": null,
   "id": "4ba27536-b1c8-416c-8506-b72f004eba01",
   "metadata": {},
   "outputs": [],
   "source": [
    "for game_link, moves in moves_data_batch.items():\n",
    "    if not moves:\n",
    "        print(game_link)\n",
    "        continue\n",
    "    \n",
    "    game_fens_with_counters = generate_fens_for_single_game_moves(moves)\n",
    "    if game_fens_with_counters:\n",
    "        all_fens_with_counters.extend(game_fens_with_counters)\n",
    "    else:\n",
    "        print('kasjghdklasd')"
   ]
  },
  {
   "cell_type": "code",
   "execution_count": null,
   "id": "7c7caf2d-86ab-498e-914e-115be236ec89",
   "metadata": {},
   "outputs": [],
   "source": []
  },
  {
   "cell_type": "code",
   "execution_count": null,
   "id": "b585f084-74d6-449a-8173-b205a7a42fab",
   "metadata": {},
   "outputs": [],
   "source": []
  },
  {
   "cell_type": "code",
   "execution_count": null,
   "id": "0102790a-f0c1-493f-954f-138df89ac7d7",
   "metadata": {},
   "outputs": [],
   "source": []
  },
  {
   "cell_type": "code",
   "execution_count": null,
   "id": "8996bbfd-ebb6-481d-8a00-3a855a021b33",
   "metadata": {},
   "outputs": [],
   "source": []
  },
  {
   "cell_type": "code",
   "execution_count": null,
   "id": "b60a49fc-25c8-46a9-a6ca-ceda1ca00f37",
   "metadata": {},
   "outputs": [],
   "source": []
  },
  {
   "cell_type": "code",
   "execution_count": null,
   "id": "b73d9d72-f287-45a0-a8f1-72d475d723e7",
   "metadata": {},
   "outputs": [],
   "source": []
  },
  {
   "cell_type": "code",
   "execution_count": null,
   "id": "b6c17847-2704-4b61-8d60-e21f7ceb2cc9",
   "metadata": {},
   "outputs": [],
   "source": []
  },
  {
   "cell_type": "code",
   "execution_count": null,
   "id": "beca3644-a7a8-4983-8ba6-8131c6de97e9",
   "metadata": {},
   "outputs": [],
   "source": []
  },
  {
   "cell_type": "code",
   "execution_count": null,
   "id": "67cb4c87-c31b-47e6-bae3-85dfc2fe7f1d",
   "metadata": {},
   "outputs": [],
   "source": [
    "logger.info(f\"Retrieved moves for {len(moves_data_batch)} games.\")\n",
    "\n",
    "# 2. Generate FENs for each game in the batch\n",
    "for game_link, moves in moves_data_batch.items():\n",
    "    if not moves:\n",
    "        logger.warning(f\"Skipping FEN generation for {game_link} as no moves were found.\")\n",
    "        continue\n",
    "    \n",
    "    game_fens_with_counters = generate_fens_for_single_game_moves(moves)\n",
    "    if game_fens_with_counters:\n",
    "        all_fens_with_counters.extend(game_fens_with_counters)\n",
    "    else:\n",
    "        logger.warning(f\"No valid FENs generated for game {game_link} due to invalid moves or FENs (check debug logs).\")"
   ]
  },
  {
   "cell_type": "code",
   "execution_count": null,
   "id": "a3b09af8-3471-44c5-b611-7a0b207ec651",
   "metadata": {},
   "outputs": [],
   "source": []
  },
  {
   "cell_type": "code",
   "execution_count": 3,
   "id": "f3d03476-2e25-4214-a6d8-63996ddf3035",
   "metadata": {},
   "outputs": [
    {
     "name": "stdout",
     "output_type": "stream",
     "text": [
      "RAW 211,117\n",
      "ANALYZED 217\n"
     ]
    }
   ],
   "source": [
    "async def all_main_fens() -> str:\n",
    "    \"\"\"\n",
    "    Fetches the count of FENs in 'main_fen' table where 'n_games' is not equal to 1,\n",
    "    formatted with commas.\n",
    "    \"\"\"\n",
    "    sql_query = \"SELECT COUNT(fen) FROM main_fen;\"\n",
    "    result = await open_async_request(sql_query)\n",
    "    count = result[0][0] if result else 0\n",
    "    return f\"RAW {count:,}\"\n",
    "async def all_fens() -> str:\n",
    "    sql_query = \"SELECT COUNT(fen) FROM fen;\"\n",
    "    result = await open_async_request(sql_query)\n",
    "    count = result[0][0] if result else 0\n",
    "    return f\"ANALYZED {count:,}\"\n",
    "print(await all_main_fens())\n",
    "print(await all_fens())"
   ]
  },
  {
   "cell_type": "code",
   "execution_count": null,
   "id": "f7ab7df8-3561-49cd-acad-a451c35c35d7",
   "metadata": {},
   "outputs": [],
   "source": []
  },
  {
   "cell_type": "code",
   "execution_count": null,
   "id": "d6713346-b0e4-4031-a188-62ce44c98886",
   "metadata": {},
   "outputs": [],
   "source": [
    "#results = await analyze_fens_from_main_fen_batch(batch_size = 100, nodes_limit = 50000)"
   ]
  },
  {
   "cell_type": "code",
   "execution_count": 4,
   "id": "ed1fd7e7-c6f6-4a58-8485-8c1561b50177",
   "metadata": {},
   "outputs": [
    {
     "name": "stdout",
     "output_type": "stream",
     "text": [
      "--- Starting FEN Analysis for User: lafareto ---\n",
      "Time to fetch 10 NEW game links for user 'lafareto': 0.0052 seconds\n",
      "Found 10 new games for 'lafareto'.\n",
      "Fetching moves for 10 games...\n",
      "Successfully fetched moves for 10 games.\n",
      "Generating FENs from games...\n"
     ]
    },
    {
     "ename": "ValueError",
     "evalue": "too many values to unpack (expected 2)",
     "output_type": "error",
     "traceback": [
      "\u001b[31m---------------------------------------------------------------------------\u001b[39m",
      "\u001b[31mValueError\u001b[39m                                Traceback (most recent call last)",
      "\u001b[36mCell\u001b[39m\u001b[36m \u001b[39m\u001b[32mIn[4]\u001b[39m\u001b[32m, line 1\u001b[39m\n\u001b[32m----> \u001b[39m\u001b[32m1\u001b[39m \u001b[38;5;28;01mawait\u001b[39;00m analyze_user_games_fens(username = \u001b[33m'\u001b[39m\u001b[33mlafareto\u001b[39m\u001b[33m'\u001b[39m,\n\u001b[32m      2\u001b[39m                               n_games_to_process= \u001b[32m10\u001b[39m,\n\u001b[32m      3\u001b[39m                               batch_size_fens= \u001b[32m100\u001b[39m,\n\u001b[32m      4\u001b[39m                               analysis_time_limit = \u001b[32m3.0\u001b[39m,\n\u001b[32m      5\u001b[39m                               n_nodes_limit = \u001b[32m50_000\u001b[39m)\n",
      "\u001b[36mFile \u001b[39m\u001b[32m~/workshop/leela_zero/leela_engine_python/database/operations/fen.py:368\u001b[39m, in \u001b[36manalyze_user_games_fens\u001b[39m\u001b[34m(username, n_games_to_process, analysis_time_limit, batch_size_fens, n_nodes_limit)\u001b[39m\n\u001b[32m    365\u001b[39m     \u001b[38;5;28;01mcontinue\u001b[39;00m\n\u001b[32m    367\u001b[39m game_fens_with_counters = generate_fens_for_single_game_moves(moves_data)\n\u001b[32m--> \u001b[39m\u001b[32m368\u001b[39m \u001b[38;5;28;01mfor\u001b[39;00m fen_str, counters_dict \u001b[38;5;129;01min\u001b[39;00m game_fens_with_counters:\n\u001b[32m    369\u001b[39m     simplified_fen_data = simplify_fen_and_extract_counters_for_insert(fen_str, counters_dict)\n\u001b[32m    370\u001b[39m     all_new_main_fens_data.append(simplified_fen_data)\n",
      "\u001b[31mValueError\u001b[39m: too many values to unpack (expected 2)"
     ]
    }
   ],
   "source": [
    "await analyze_user_games_fens(username = 'lafareto',\n",
    "                              n_games_to_process= 10,\n",
    "                              batch_size_fens= 100,\n",
    "                              analysis_time_limit = 3.0,\n",
    "                              n_nodes_limit = 50_000)\n",
    "#await analyze_user_games_fens(username = 'lafareto', batch_size = 100, nodes_limit = 50000)"
   ]
  },
  {
   "cell_type": "code",
   "execution_count": 16,
   "id": "1e67f364-d815-4e28-a629-98bbd7ba8b9e",
   "metadata": {},
   "outputs": [
    {
     "name": "stdout",
     "output_type": "stream",
     "text": [
      "RAW 84,715\n",
      "ANALYZED FENS 213\n",
      "GAMES THAT WE KNOW THE FENS OF 2,005\n"
     ]
    }
   ],
   "source": [
    "async def all_main_fens() -> str:\n",
    "    \"\"\"\n",
    "    Fetches the count of FENs in 'main_fen' table where 'n_games' is not equal to 1,\n",
    "    formatted with commas.\n",
    "    \"\"\"\n",
    "    sql_query = \"SELECT COUNT(fen) FROM main_fen;\"\n",
    "    result = await open_async_request(sql_query)\n",
    "    count = result[0][0] if result else 0\n",
    "    return f\"RAW {count:,}\"\n",
    "async def all_fens() -> str:\n",
    "    sql_query = \"SELECT COUNT(fen) FROM fen;\"\n",
    "    result = await open_async_request(sql_query)\n",
    "    count = result[0][0] if result else 0\n",
    "    return f\"ANALYZED FENS {count:,}\"\n",
    "async def all_processed_games() -> str:\n",
    "    sql_query = \"SELECT COUNT(link) FROM processed_game;\"\n",
    "    result = await open_async_request(sql_query)\n",
    "    count = result[0][0] if result else 0\n",
    "    return f\"GAMES THAT WE KNOW THE FENS OF {count:,}\"\n",
    "print(await all_main_fens())\n",
    "print(await all_fens())\n",
    "print(await all_processed_games())"
   ]
  },
  {
   "cell_type": "code",
   "execution_count": null,
   "id": "6b7e023a-fa07-4444-b406-f3b6dc1f7ec0",
   "metadata": {},
   "outputs": [],
   "source": []
  },
  {
   "cell_type": "code",
   "execution_count": null,
   "id": "09b0f935-695e-4c8b-a969-49772ae9c799",
   "metadata": {},
   "outputs": [],
   "source": []
  },
  {
   "cell_type": "code",
   "execution_count": null,
   "id": "fe5b1040-7f45-4de9-94d2-71289b0abeda",
   "metadata": {},
   "outputs": [],
   "source": []
  },
  {
   "cell_type": "code",
   "execution_count": null,
   "id": "7b2e5401-4a71-4ccf-8f0d-dd2a54b82ca2",
   "metadata": {},
   "outputs": [],
   "source": []
  },
  {
   "cell_type": "code",
   "execution_count": null,
   "id": "d475d753-8b55-4209-b2a2-86449cf0f1c9",
   "metadata": {},
   "outputs": [],
   "source": []
  },
  {
   "cell_type": "code",
   "execution_count": null,
   "id": "d15c41e0-c0b9-43db-8df8-7059c98a4b1f",
   "metadata": {},
   "outputs": [],
   "source": []
  },
  {
   "cell_type": "code",
   "execution_count": null,
   "id": "03c28e16-bda4-4ffa-8c4d-27eb61da01d4",
   "metadata": {},
   "outputs": [],
   "source": []
  },
  {
   "cell_type": "code",
   "execution_count": 5,
   "id": "f531df7b-e1a2-4d5d-8878-656ff31387a2",
   "metadata": {},
   "outputs": [],
   "source": [
    "async def all_fens() -> str:\n",
    "    \"\"\"\n",
    "    Fetches the count of FENs in 'main_fen' table where 'n_games' is not equal to 1,\n",
    "    formatted with commas.\n",
    "    \"\"\"\n",
    "    sql_query = \"SELECT COUNT(fen) FROM fen;\"\n",
    "    result = await open_async_request(sql_query)\n",
    "    count = result[0][0] if result else 0\n",
    "    return f\"{count:,}\""
   ]
  },
  {
   "cell_type": "code",
   "execution_count": 6,
   "id": "574abfd5-9878-4742-aaed-4d1f02506f0c",
   "metadata": {},
   "outputs": [
    {
     "data": {
      "text/plain": [
       "'0'"
      ]
     },
     "execution_count": 6,
     "metadata": {},
     "output_type": "execute_result"
    }
   ],
   "source": [
    "await all_fens()"
   ]
  },
  {
   "cell_type": "code",
   "execution_count": 7,
   "id": "965d6385-946f-48be-9a73-79beadeaaae4",
   "metadata": {},
   "outputs": [
    {
     "data": {
      "text/plain": [
       "'0'"
      ]
     },
     "execution_count": 7,
     "metadata": {},
     "output_type": "execute_result"
    }
   ],
   "source": [
    "await all_fens()"
   ]
  },
  {
   "cell_type": "code",
   "execution_count": null,
   "id": "2ec0a50a-8248-4912-81ef-8a0a2bf2a8c5",
   "metadata": {},
   "outputs": [],
   "source": []
  },
  {
   "cell_type": "code",
   "execution_count": null,
   "id": "69f2b827-7c07-4263-81d8-8776e80c9671",
   "metadata": {},
   "outputs": [],
   "source": []
  },
  {
   "cell_type": "code",
   "execution_count": null,
   "id": "eac54c4f-c88d-4147-b4b4-28d23e64b386",
   "metadata": {},
   "outputs": [],
   "source": []
  },
  {
   "cell_type": "code",
   "execution_count": 17,
   "id": "9af0d44a-06b2-4d28-9337-f092933055ee",
   "metadata": {},
   "outputs": [],
   "source": [
    "async def get_main_fen_non_single_game_count() -> str:\n",
    "    \"\"\"\n",
    "    Fetches the count of FENs in 'main_fen' table where 'n_games' is not equal to 1,\n",
    "    formatted with commas.\n",
    "    \"\"\"\n",
    "    sql_query = \"SELECT COUNT(fen) FROM main_fen WHERE n_games != 1;\"\n",
    "    result = await open_async_request(sql_query)\n",
    "    count = result[0][0] if result else 0\n",
    "    return f\"{count:,}\"\n",
    "async def get_main_fen_non_single_game_objects() -> List[Dict[str, Any]]:\n",
    "    \"\"\"\n",
    "    Fetches FEN objects from 'main_fen' table where 'n_games' is not equal to 1.\n",
    "    Returns:\n",
    "        List[Dict[str, Any]]: A list of dictionaries, where each dictionary represents\n",
    "                              a FEN object with 'fen', 'n_games', and 'moves_counter'.\n",
    "    \"\"\"\n",
    "    sql_query = \"SELECT fen, n_games, moves_counter FROM main_fen WHERE n_games != 1;\"\n",
    "    # Use fetch_as_dict=True to get results as dictionaries directly\n",
    "    result = await open_async_request(sql_query, fetch_as_dict=True)\n",
    "    return result\n",
    "\n"
   ]
  },
  {
   "cell_type": "code",
   "execution_count": 18,
   "id": "42e75989-6d90-4e8e-902b-739a9d79442f",
   "metadata": {},
   "outputs": [],
   "source": [
    "e = await get_main_fen_non_single_game_objects()"
   ]
  },
  {
   "cell_type": "code",
   "execution_count": 21,
   "id": "92341b4b-34ec-40ba-ba0d-52e274d55cc2",
   "metadata": {},
   "outputs": [
    {
     "data": {
      "text/plain": [
       "[{'fen': '2rqr1k1/pb2bp1p/1pp1nnp1/3p4/3P4/2NBPP1P/PPQ1NBP1/3R1RK1 w - -', 'n_games': 2, 'moves_counter': '1#16'},\n",
       " {'fen': '4rrk1/pp3ppp/3q2n1/1b6/3P4/4PQ2/PPN1N1PP/R1B1R1K1 b - -', 'n_games': 2, 'moves_counter': '#7#20#_#3#18'},\n",
       " {'fen': '8/8/6p1/P4kP1/5P2/bP3K2/8/8 b - -', 'n_games': 2, 'moves_counter': '#0#42#_'},\n",
       " {'fen': '3r2k1/p5p1/2p5/3P2p1/1pP2p2/1P1PbRP1/P6P/3K4 w - -', 'n_games': 2, 'moves_counter': '#0#28#_'},\n",
       " {'fen': '2r2rk1/pn4pp/6p1/1p1P4/1Kp2B2/5PP1/2PR3P/4R3 w - -', 'n_games': 2, 'moves_counter': '#3#28#_'},\n",
       " {'fen': '3r2k1/p1p3p1/8/3P2p1/1pP2p2/1P1PbR2/P5PP/3K4 w - -', 'n_games': 2, 'moves_counter': '#6#27#_'},\n",
       " {'fen': '3r2k1/pn1P1rpp/6p1/1p6/1Kp2B2/5PP1/2PR3P/4R3 w - -', 'n_games': 2, 'moves_counter': '#1#30#_'},\n",
       " {'fen': '6k1/p5p1/8/6P1/1pp2P2/1P1rbR2/P3K3/8 b - -', 'n_games': 2, 'moves_counter': '#1#31#_'},\n",
       " {'fen': 'Q7/8/1K3Pp1/6k1/8/8/8/8 w - -', 'n_games': 2, 'moves_counter': '#0#59#_'},\n",
       " {'fen': 'r2qkb1r/pppb1ppp/2np1n2/1B2p3/4P3/2NP1N2/PPP2PPP/R1BQ1RK1 b kq -', 'n_games': 2, 'moves_counter': '#0#6#_'},\n",
       " {'fen': 'r1bqr1k1/pp3ppp/6n1/b1ppn3/8/1NP1P1B1/PP1NBPPP/R2Q1RK1 b - -', 'n_games': 2, 'moves_counter': '#1#12#_'},\n",
       " {'fen': 'r4rk1/1pp2pp1/p1npq2p/4p3/P3P3/3P1N2/1PP2PPP/R2Q1RK1 w - -', 'n_games': 2, 'moves_counter': '#0#14#_'},\n",
       " {'fen': 'r2q1rk1/1pp4p/2n3pP/p2pP1P1/3P1p2/PQ3N2/1P3P2/2KR3R w - -', 'n_games': 2, 'moves_counter': '#0#21#_'},\n",
       " {'fen': 'r1bqkbnr/pp3ppp/2n1p3/2p5/4p3/2PB1N2/PP1P1PPP/RNBQ1RK1 w kq -', 'n_games': 2, 'moves_counter': '#0#6#_'},\n",
       " {'fen': '4rr2/1pp5/p2p2kp/4p1p1/P1PnN3/3PRP2/5RPP/6K1 w - -', 'n_games': 2, 'moves_counter': '#2#25#_'},\n",
       " {'fen': 'r5k1/p1p3p1/7p/2bPpr2/1pPn4/1P6/P2P1PPP/R1B2RK1 w - -', 'n_games': 2, 'moves_counter': '#0#17#_'},\n",
       " {'fen': 'r1bq1rk1/pp2bppp/2n1pn2/8/3P4/5N2/PPB2PPP/RNBQR1K1 b - -', 'n_games': 2, 'moves_counter': '#0#10#_'},\n",
       " {'fen': '8/Qp1k1ppp/5n2/8/2P3P1/8/PP1r1P1P/6K1 b - -', 'n_games': 2, 'moves_counter': '#0#29#_'},\n",
       " {'fen': 'r1bqkb1r/p1p2pp1/5n1p/1p1Pp1N1/3n4/3B4/PPPP1PPP/RNBQ1RK1 w kq -', 'n_games': 2, 'moves_counter': '#0#8#_'},\n",
       " {'fen': '1k1r1bnr/pp1q1ppp/8/3N4/2PQ4/8/PP3PPP/R1B1K2R w KQ -', 'n_games': 2, 'moves_counter': '#1#12#_'}]"
      ]
     },
     "execution_count": 21,
     "metadata": {},
     "output_type": "execute_result"
    }
   ],
   "source": [
    "e[:20]"
   ]
  },
  {
   "cell_type": "code",
   "execution_count": 22,
   "id": "840da9ac-faa4-42a9-948a-0f5367e5b288",
   "metadata": {},
   "outputs": [],
   "source": [
    "async def get_main_fen_non_single_game_objects() -> List[Dict[str, Any]]:\n",
    "    \"\"\"\n",
    "    Fetches FEN objects from 'main_fen' table where 'n_games' is not equal to 1.\n",
    "    Returns:\n",
    "        List[Dict[str, Any]]: A list of dictionaries, where each dictionary represents\n",
    "                              a FEN object with 'fen', 'n_games', and 'moves_counter'.\n",
    "    \"\"\"\n",
    "    sql_query = \"SELECT fen, n_games, moves_counter FROM main_fen WHERE n_games > 2;\" # Changed condition\n",
    "    # Use fetch_as_dict=True to get results as dictionaries directly\n",
    "    result = await open_async_request(sql_query, fetch_as_dict=True)\n",
    "    return result\n"
   ]
  },
  {
   "cell_type": "code",
   "execution_count": 24,
   "id": "17877ea1-d9dd-46a3-8922-7f8c6c390eaf",
   "metadata": {},
   "outputs": [],
   "source": [
    "e = await get_main_fen_non_single_game_objects()"
   ]
  },
  {
   "cell_type": "code",
   "execution_count": 25,
   "id": "189d475b-8fc4-47ea-a934-8c9c78d7e505",
   "metadata": {},
   "outputs": [
    {
     "data": {
      "text/plain": [
       "[{'fen': '1k1r1b1r/ppNq1ppp/5n2/8/2PQ1B2/8/PP3PPP/R4RK1 w - -', 'n_games': 4, 'moves_counter': '#7#15#_#11#17'},\n",
       " {'fen': 'k2r1b1r/ppNq1ppp/5n2/8/2PQ1B2/8/PP3PPP/R4RK1 b - -', 'n_games': 4, 'moves_counter': '#6#14#_#10#16'},\n",
       " {'fen': '8/8/3p1b2/p2P2p1/P4pPp/2pK1k1P/8/4BB2 w - -', 'n_games': 3, 'moves_counter': '#35#76#_#19#68#43#80'},\n",
       " {'fen': '8/8/5k2/p2Bp1p1/P3K3/1P3P1P/8/4b3 w - -', 'n_games': 3, 'moves_counter': '23#57#27#59#19#55'},\n",
       " {'fen': '2r5/3k4/8/1b1Pp3/1p2Np1p/1P3P1P/1K1R2P1/8 w - -', 'n_games': 3, 'moves_counter': '#10#50#_#6#48#2#46'},\n",
       " {'fen': '8/6b1/3p4/p2P2p1/P4pPp/2pK1k1P/8/4BB2 b - -', 'n_games': 3, 'moves_counter': '#30#73#_#46#81#18#67'},\n",
       " {'fen': '8/5pk1/6p1/1r6/8/5RP1/5PK1/8 b - -', 'n_games': 3, 'moves_counter': '#12#42#_#8#40#26#49'},\n",
       " {'fen': '8/2bk4/4p3/8/4P3/5K2/5B2/8 w - -', 'n_games': 4, 'moves_counter': '#16#64#_#32#72#20#66#36#74'},\n",
       " {'fen': 'r1q1k1nr/ppp1ppb1/3p2p1/3PP2p/2P2P2/6Pb/PP2Q1BP/RNB2RK1 b kq -', 'n_games': 3, 'moves_counter': '#0#12#_'},\n",
       " {'fen': '1r4k1/6bp/3pp1p1/R2np3/8/1Bn1B2P/5PP1/1R4K1 w - -', 'n_games': 3, 'moves_counter': '#12#39#_#8#37#4#35'}]"
      ]
     },
     "execution_count": 25,
     "metadata": {},
     "output_type": "execute_result"
    }
   ],
   "source": [
    "e[:10]"
   ]
  },
  {
   "cell_type": "code",
   "execution_count": null,
   "id": "70d4e40a-6d4f-4ad9-83ff-bb96df731668",
   "metadata": {},
   "outputs": [],
   "source": []
  },
  {
   "cell_type": "code",
   "execution_count": null,
   "id": "24d7a5f2-ea8a-4c15-abcc-0e10ef42c7e7",
   "metadata": {},
   "outputs": [],
   "source": []
  },
  {
   "cell_type": "code",
   "execution_count": null,
   "id": "aa226ffc-2f5e-4e9a-a89d-a8ac9313d781",
   "metadata": {},
   "outputs": [],
   "source": []
  },
  {
   "cell_type": "code",
   "execution_count": 12,
   "id": "f2fc0d42-aa3b-4251-8498-bc62ffac07c4",
   "metadata": {},
   "outputs": [
    {
     "name": "stdout",
     "output_type": "stream",
     "text": [
      "Time to fetch all game moves from DB (batched): 4.0774 seconds\n",
      "Mean FEN generation time per game (excluding DB fetch): 0.0026 seconds\n"
     ]
    }
   ],
   "source": [
    "from database.database.ask_db import *\n",
    "new_game_links = get_new_games_links(10)\n",
    "fen_set_from_games = get_fens_from_games_optimized(new_game_links)\n",
    "new_fens = get_new_fens(fen_set_from_games)\n",
    "fens_to_insert = [simplify_fen_and_extract_counters_for_insert(x) for x in new_fens]"
   ]
  },
  {
   "cell_type": "code",
   "execution_count": null,
   "id": "a73dcbbe-3172-4a25-a6b3-6638e63a1b23",
   "metadata": {},
   "outputs": [],
   "source": [
    "insert_fens(fens_to_insert)"
   ]
  },
  {
   "cell_type": "code",
   "execution_count": null,
   "id": "0353f314-49ae-480b-a0d8-24b7644cfbf9",
   "metadata": {},
   "outputs": [],
   "source": [
    "async def update_main_fen_stats(simplified_fen: str, moves_counter_str: str) -> dict:\n",
    "    \"\"\"\n",
    "    Checks if a simplified FEN exists in the 'main_fen' table.\n",
    "    If it exists, increments its 'n_games' count.\n",
    "    If it does not exist, creates a new entry with 'n_games' set to 1.\n",
    "    Also updates the 'moves_counter' for the FEN.\n",
    "\n",
    "    Args:\n",
    "        simplified_fen (str): The FEN string without halfmove clock and fullmove number.\n",
    "        moves_counter_str (str): A string representing the halfmove clock and fullmove number (e.g., '0#18').\n",
    "\n",
    "    Returns:\n",
    "        dict: The updated or newly created MainFen record as a dictionary.\n",
    "    \"\"\"\n",
    "    main_fen_interface = DBInterface(MainFen)\n",
    "    \n",
    "    try:\n",
    "        # 1. Try to read the FEN to see if it already exists\n",
    "        existing_fen = main_fen_interface.read_fen(simplified_fen)\n",
    "\n",
    "        if existing_fen:\n",
    "            # 2. If FEN exists, update n_games and moves_counter\n",
    "            new_n_games = existing_fen['n_games'] + 1\n",
    "            update_data = {\n",
    "                \"n_games\": new_n_games,\n",
    "                \"moves_counter\": moves_counter_str # Always update with the latest counter if needed\n",
    "            }\n",
    "            updated_fen = main_fen_interface.update(simplified_fen, update_data)\n",
    "            print(f\"Updated FEN '{simplified_fen}': n_games={new_n_games}\")\n",
    "            return updated_fen\n",
    "        else:\n",
    "            # 3. If FEN does not exist, create a new entry\n",
    "            create_data = {\n",
    "                \"fen\": simplified_fen,\n",
    "                \"n_games\": 1,\n",
    "                \"moves_counter\": moves_counter_str\n",
    "            }\n",
    "            # Assuming MainFenCreateData is used for Pydantic validation if applicable\n",
    "            # For direct DBInterface.create, a dict is sufficient.\n",
    "            # If you want Pydantic validation before DB write:\n",
    "            # new_main_fen_data = MainFenCreateData(**create_data).model_dump()\n",
    "            new_fen = main_fen_interface.create(create_data)\n",
    "            print(f\"Created new FEN '{simplified_fen}': n_games=1\")\n",
    "            return new_fen\n",
    "\n",
    "    except Exception as e:\n",
    "        print(f\"Error during MainFen upsert for FEN '{simplified_fen}': {e}\")\n",
    "        raise # Re-raise to propagate the error\n",
    "\n",
    "# --- Example Usage (assuming this function is integrated and open_request is available) ---\n",
    "async def demo_main_fen_update():\n",
    "    print(\"--- Demonstrating MainFen Update Logic ---\")\n",
    "\n",
    "    # Example 1: First time a FEN appears\n",
    "    simplified_fen_1 = 'rnbqkbnr/pppppppp/8/8/8/8/PPPPPPPP/RNBQKBNR w KQkq -'\n",
    "    counters_1 = '0#1'\n",
    "    await update_main_fen_stats(simplified_fen_1, counters_1)\n",
    "\n",
    "    # Example 2: Same FEN appears again\n",
    "    await update_main_fen_stats(simplified_fen_1, '1#2') # Counters might change, but FEN is the same\n",
    "\n",
    "    # Example 3: A different FEN appears\n",
    "    simplified_fen_2 = 'rnbqkbnr/pppppppp/8/8/4P3/8/PPPP1PPP/RNBQKBNR b KQkq -'\n",
    "    counters_2 = '1#1'\n",
    "    await update_main_fen_stats(simplified_fen_2, counters_2)\n",
    "\n",
    "    # Example 4: The different FEN appears again\n",
    "    await update_main_fen_stats(simplified_fen_2, '0#3')"
   ]
  },
  {
   "cell_type": "code",
   "execution_count": null,
   "id": "7853b6da-7717-4700-9b65-011bc7c0f6ea",
   "metadata": {},
   "outputs": [],
   "source": []
  },
  {
   "cell_type": "code",
   "execution_count": null,
   "id": "01c8e9e6-5ed8-4c3e-bfd9-c78b83d339d2",
   "metadata": {},
   "outputs": [],
   "source": []
  },
  {
   "cell_type": "code",
   "execution_count": 9,
   "id": "1687bc0a-ad1e-42c9-9317-385d7d7269e9",
   "metadata": {},
   "outputs": [
    {
     "name": "stdout",
     "output_type": "stream",
     "text": [
      "Original FEN: rnbqkbnr/pppppppp/8/8/8/8/PPPPPPPP/RNBQKBNR w KQkq - 0 1\n",
      "Simplified FEN: rnbqkbnr/pppppppp/8/8/8/8/PPPPPPPP/RNBQKBNR w KQkq -\n",
      "Extracted Counters: 0#1\n",
      "\n"
     ]
    }
   ],
   "source": [
    "# --- Example Usage ---\n",
    "# Example 1: Full FEN string\n",
    "full_fen_example_1 = 'rnbqkbnr/pppppppp/8/8/8/8/PPPPPPPP/RNBQKBNR w KQkq - 0 1'\n",
    "simplified_fen_1, counters_1 = simplify_fen_and_extract_counters(full_fen_example_1)\n",
    "print(f\"Original FEN: {full_fen_example_1}\")\n",
    "print(f\"Simplified FEN: {simplified_fen_1}\")\n",
    "print(f\"Extracted Counters: {counters_1}\\n\")\n"
   ]
  },
  {
   "cell_type": "code",
   "execution_count": null,
   "id": "c4bfc320-54b2-419a-8635-8427241de475",
   "metadata": {},
   "outputs": [],
   "source": [
    "\n",
    "# Example 2: FEN string with more moves\n",
    "full_fen_example_2 = 'r1r3k1/pp2ppbp/2np2p1/6N1/3PP1n1/P1N4Q/1PBB1q2/R3R1K1 w - - 0 18'\n",
    "simplified_fen_2, counters_2 = simplify_fen_and_extract_counters(full_fen_example_2)\n",
    "print(f\"Original FEN: {full_fen_example_2}\")\n",
    "print(f\"Simplified FEN: {simplified_fen_2}\")\n",
    "print(f\"Extracted Counters: {counters_2}\\n\")\n",
    "\n",
    "# Example 3: FEN that might be missing the last two fields (as discussed previously)\n",
    "# The function will still return the first 4 parts and an empty string for counters\n",
    "fen_without_counters = 'r1r3k1/pp2ppbp/2np2p1/6N1/3PP1n1/P1N4Q/1PBB1q2/R3R1K1 w - -'\n",
    "simplified_fen_3, counters_3 = simplify_fen_and_extract_counters(fen_without_counters)\n",
    "print(f\"Original FEN: {fen_without_counters}\")\n",
    "print(f\"Simplified FEN: {simplified_fen_3}\")\n",
    "print(f\"Extracted Counters: {counters_3}\\n\")\n",
    "\n",
    "# Example 4: Malformed FEN (too short)\n",
    "malformed_fen = 'rnbqkbnr/pppppppp/8/8/8/8/PPPPPPPP/RNBQKBNR w'\n",
    "simplified_fen_4, counters_4 = simplify_fen_and_extract_counters(malformed_fen)\n",
    "print(f\"Original FEN: {malformed_fen}\")\n",
    "print(f\"Simplified FEN: {simplified_fen_4}\")\n",
    "print(f\"Extracted Counters: {counters_4}\\n\")\n"
   ]
  },
  {
   "cell_type": "code",
   "execution_count": null,
   "id": "64490f04-2dc0-4983-af42-11aa64c7c1e2",
   "metadata": {},
   "outputs": [],
   "source": []
  },
  {
   "cell_type": "code",
   "execution_count": null,
   "id": "c476d4f1-c12e-4ce5-9ac8-c36ba6197435",
   "metadata": {},
   "outputs": [],
   "source": []
  },
  {
   "cell_type": "code",
   "execution_count": null,
   "id": "4ccda4ff-ab79-4b5e-9bf1-821b7618ab6c",
   "metadata": {},
   "outputs": [],
   "source": []
  },
  {
   "cell_type": "code",
   "execution_count": null,
   "id": "abd923e9-2bf5-4b4a-8d1b-c8de20d642fb",
   "metadata": {},
   "outputs": [],
   "source": []
  },
  {
   "cell_type": "code",
   "execution_count": null,
   "id": "eaff2ea7-6f88-4d17-8fb1-2bbd775700ab",
   "metadata": {},
   "outputs": [],
   "source": []
  },
  {
   "cell_type": "code",
   "execution_count": null,
   "id": "5ef11dc6-3e47-48dd-88a6-88079bd7dcb8",
   "metadata": {},
   "outputs": [],
   "source": []
  },
  {
   "cell_type": "code",
   "execution_count": 10,
   "id": "01c71f05-b3f2-449e-af41-23e702047210",
   "metadata": {},
   "outputs": [
    {
     "data": {
      "text/plain": [
       "{'depth': 6,\n",
       " 'seldepth': 12,\n",
       " 'time': 1.183,\n",
       " 'nodes': 35655,\n",
       " 'score': -44.98,\n",
       " 'nps': 30923,\n",
       " 'tbhits': 0,\n",
       " 'pv': 'g3f4##d5d3##g2f2##h5h4##f2e2##f5d5##f4f5##h4h3##c4g4##',\n",
       " 'fen': '6k1/5p2/8/p1pr1r1p/2R2p2/1P4P1/P5K1/8 w - -'}"
      ]
     },
     "execution_count": 10,
     "metadata": {},
     "output_type": "execute_result"
    }
   ],
   "source": [
    "results[0]"
   ]
  },
  {
   "cell_type": "code",
   "execution_count": null,
   "id": "c7d84896-7df7-4849-8db8-c28296b8b5ba",
   "metadata": {},
   "outputs": [],
   "source": []
  },
  {
   "cell_type": "code",
   "execution_count": 12,
   "id": "8fae76f4-ab90-4d2c-a89d-08ba7861241a",
   "metadata": {},
   "outputs": [
    {
     "data": {
      "text/plain": [
       "[('r2q1rk1/1bp1n1pp/p3p3/1p1p4/P2Pp3/2P1P1P1/1P2NPBP/R3QRK1 w - -', 1, '#1#17#_'),\n",
       " ('2r2rk1/ppp2ppp/8/1R1Np3/4P3/P4P2/1P3PKP/5R2 b - -', 1, '#0#18#_'),\n",
       " ('r2q1r1k/2pnP1p1/7p/P3pp2/2Q5/2N5/P2P1PPP/R1B1R1K1 b - -', 1, '#0#22#_'),\n",
       " ('r6k/pp4p1/2p3qp/3p4/3P1b2/P1P2NP1/1P3P1P/4R1K1 b - -', 1, '#1#26#_'),\n",
       " ('r2q1rk1/p1pnbpp1/3n3p/3Pp3/Q1P1N3/8/PP1P1PPP/RNB1R1K1 w - -', 1, '#1#15#_'),\n",
       " ('4r3/p1prbk1p/6p1/2p1Rp2/2N3PP/2P2b2/PP6/4R1K1 b - -', 1, '#0#26#_'),\n",
       " ('2r2rk1/ppp2ppp/8/1BbNp3/3nP3/P4P2/1PP2PKP/R4R2 b - -', 1, '#2#15#_'),\n",
       " ('r2q1rk1/pppnbppp/3p1n2/6B1/4P3/2N2N2/PPP2PPP/R2Q1RK1 w - -', 1, '#4#10#_'),\n",
       " ('r3bbk1/ppp2pp1/2nq3p/3p3n/3P4/P1PBBN2/1PQN1PPP/R5K1 w - -', 1, '#3#15#_'),\n",
       " ('r4r1k/P5p1/7p/3n1p2/3Pp3/6B1/4NPPP/R3R1K1 b - -', 1, '#0#33#_')]"
      ]
     },
     "execution_count": 12,
     "metadata": {},
     "output_type": "execute_result"
    }
   ],
   "source": [
    "await open_async_request(\"select * from fen limit(10)\")"
   ]
  },
  {
   "cell_type": "code",
   "execution_count": 4,
   "id": "8b923c03-ae0e-4d2f-9921-fab3500fbb92",
   "metadata": {},
   "outputs": [
    {
     "data": {
      "text/plain": [
       "[]"
      ]
     },
     "execution_count": 4,
     "metadata": {},
     "output_type": "execute_result"
    }
   ],
   "source": [
    "open_request(\"select link from knownfens limit(5)\")"
   ]
  },
  {
   "cell_type": "code",
   "execution_count": 5,
   "id": "5c6bbcef-2be9-4100-9bd6-f892190a59c5",
   "metadata": {},
   "outputs": [
    {
     "data": {
      "text/plain": [
       "[]"
      ]
     },
     "execution_count": 5,
     "metadata": {},
     "output_type": "execute_result"
    }
   ],
   "source": [
    "open_request(\"select fen from rawfen\")"
   ]
  },
  {
   "cell_type": "code",
   "execution_count": 12,
   "id": "c68efd43-832f-4765-aeae-83cff2e14f6a",
   "metadata": {},
   "outputs": [],
   "source": [
    "moves = get_all_moves_for_links_batch(['108823827815'])"
   ]
  },
  {
   "cell_type": "code",
   "execution_count": 19,
   "id": "47e8b580-bbe3-4ffd-9db4-d9a0c51336db",
   "metadata": {},
   "outputs": [
    {
     "data": {
      "text/plain": [
       "defaultdict(list,\n",
       "            {108823827815: [{'n_move': 1,\n",
       "               'white_move': 'e4',\n",
       "               'black_move': 'e5'},\n",
       "              {'n_move': 2, 'white_move': 'Nf3', 'black_move': 'Nc6'},\n",
       "              {'n_move': 3, 'white_move': 'Bb5', 'black_move': 'Nf6'},\n",
       "              {'n_move': 4, 'white_move': 'Nc3', 'black_move': 'd6'},\n",
       "              {'n_move': 5, 'white_move': 'O-O', 'black_move': 'Bd7'},\n",
       "              {'n_move': 6, 'white_move': 'd3', 'black_move': 'Be7'},\n",
       "              {'n_move': 7, 'white_move': 'Bg5', 'black_move': 'O-O'},\n",
       "              {'n_move': 8, 'white_move': 'a4', 'black_move': 'a6'},\n",
       "              {'n_move': 9, 'white_move': 'Bc4', 'black_move': 'Be6'},\n",
       "              {'n_move': 10, 'white_move': 'Nd5', 'black_move': 'h6'},\n",
       "              {'n_move': 11, 'white_move': 'Bxf6', 'black_move': 'Bxf6'},\n",
       "              {'n_move': 12, 'white_move': 'Nxf6+', 'black_move': 'Qxf6'},\n",
       "              {'n_move': 13, 'white_move': 'Bxe6', 'black_move': 'Qxe6'},\n",
       "              {'n_move': 14, 'white_move': 'b3', 'black_move': 'g5'},\n",
       "              {'n_move': 15, 'white_move': 'Nd2', 'black_move': 'Nd4'},\n",
       "              {'n_move': 16, 'white_move': 'Qh5', 'black_move': 'f5'},\n",
       "              {'n_move': 17, 'white_move': 'exf5', 'black_move': 'Nxf5'},\n",
       "              {'n_move': 18, 'white_move': 'Ne4', 'black_move': 'Kg7'},\n",
       "              {'n_move': 19, 'white_move': 'Rae1', 'black_move': 'Qg6'},\n",
       "              {'n_move': 20, 'white_move': 'Qxg6+', 'black_move': 'Kxg6'},\n",
       "              {'n_move': 21, 'white_move': 'c4', 'black_move': 'Rae8'},\n",
       "              {'n_move': 22, 'white_move': 'f3', 'black_move': 'Nd4'},\n",
       "              {'n_move': 23, 'white_move': 'Rf2', 'black_move': 'Nxb3'},\n",
       "              {'n_move': 24, 'white_move': 'Re3', 'black_move': 'Nd4'},\n",
       "              {'n_move': 25, 'white_move': 'Ng3', 'black_move': 'h5'},\n",
       "              {'n_move': 26, 'white_move': 'Ne2', 'black_move': 'Nf5'},\n",
       "              {'n_move': 27, 'white_move': 'd4', 'black_move': 'Nxe3'},\n",
       "              {'n_move': 28, 'white_move': 'dxe5', 'black_move': 'Rxe5'},\n",
       "              {'n_move': 29, 'white_move': 'Nd4', 'black_move': 'Nxc4'}],\n",
       "             0: []})"
      ]
     },
     "execution_count": 19,
     "metadata": {},
     "output_type": "execute_result"
    }
   ],
   "source": [
    "moves"
   ]
  },
  {
   "cell_type": "code",
   "execution_count": 5,
   "id": "d4ab826e-e5b7-49b1-a29d-cd789c1dc092",
   "metadata": {},
   "outputs": [
    {
     "name": "stdout",
     "output_type": "stream",
     "text": [
      "Time to fetch all game moves from DB (batched): 3.9274 seconds\n",
      "No moves found in the database for game link: 1\n"
     ]
    }
   ],
   "source": [
    "game_fens = get_fens_from_games_optimized([('108823827815')])"
   ]
  },
  {
   "cell_type": "code",
   "execution_count": 6,
   "id": "c45f75e5-d53f-45c2-b752-94c13f9477e4",
   "metadata": {},
   "outputs": [
    {
     "data": {
      "text/plain": [
       "[]"
      ]
     },
     "execution_count": 6,
     "metadata": {},
     "output_type": "execute_result"
    }
   ],
   "source": [
    "game_fens"
   ]
  },
  {
   "cell_type": "code",
   "execution_count": null,
   "id": "e8fac8d0-55b8-46a6-9fb7-ae2ce6cbe539",
   "metadata": {},
   "outputs": [],
   "source": []
  },
  {
   "cell_type": "code",
   "execution_count": 20,
   "id": "0b7ebe62-b6fb-4763-b088-1ec682ab3879",
   "metadata": {},
   "outputs": [],
   "source": [
    "game_fens = generate_fens_for_single_game_moves(moves['108823827815'])"
   ]
  },
  {
   "cell_type": "code",
   "execution_count": 21,
   "id": "cad1da9d-a5bc-48cf-8c0f-3cb3758ccd78",
   "metadata": {},
   "outputs": [
    {
     "data": {
      "text/plain": [
       "[]"
      ]
     },
     "execution_count": 21,
     "metadata": {},
     "output_type": "execute_result"
    }
   ],
   "source": [
    "game_fens"
   ]
  },
  {
   "cell_type": "code",
   "execution_count": 6,
   "id": "4646c010-2c47-488d-b45f-815c9c9eaaca",
   "metadata": {},
   "outputs": [
    {
     "name": "stdout",
     "output_type": "stream",
     "text": [
      "Deleting table: fen...\n",
      "Successfully deleted table: fen\n",
      "Database connection closed.\n",
      "Deleting table: known_fens...\n",
      "Successfully deleted table: known_fens\n",
      "Database connection closed.\n",
      "Deleting table: rawfen...\n",
      "Successfully deleted table: rawfen\n",
      "Database connection closed.\n",
      "Deleting table: knownfens...\n",
      "Successfully deleted table: knownfens\n",
      "Database connection closed.\n",
      "Deleting table: fens_ready...\n",
      "Successfully deleted table: fens_ready\n",
      "Database connection closed.\n"
     ]
    }
   ],
   "source": [
    "#delete_all_leela_tables()"
   ]
  },
  {
   "cell_type": "code",
   "execution_count": null,
   "id": "2b534527-bee5-4412-96fe-8781eb0db8f6",
   "metadata": {},
   "outputs": [],
   "source": []
  },
  {
   "cell_type": "code",
   "execution_count": null,
   "id": "8848ef39-0c4b-4d47-994f-f1d545d82674",
   "metadata": {},
   "outputs": [],
   "source": []
  },
  {
   "cell_type": "code",
   "execution_count": 5,
   "id": "510f4a45-1757-4fdc-8792-eff2dcaac1ca",
   "metadata": {},
   "outputs": [],
   "source": [
    "#delete_all_leela_tables()"
   ]
  },
  {
   "cell_type": "code",
   "execution_count": null,
   "id": "bed7165d-8666-4eb0-873d-7d7c4b4d4ad8",
   "metadata": {},
   "outputs": [],
   "source": []
  },
  {
   "cell_type": "code",
   "execution_count": null,
   "id": "a853a41b-ca70-4efe-8037-256029957811",
   "metadata": {},
   "outputs": [],
   "source": []
  },
  {
   "cell_type": "code",
   "execution_count": null,
   "id": "0d140b8d-1982-46cc-afd8-247533f884bb",
   "metadata": {},
   "outputs": [],
   "source": []
  },
  {
   "cell_type": "code",
   "execution_count": null,
   "id": "230d5917-d4c7-41f2-96c8-5c06d5676fa3",
   "metadata": {},
   "outputs": [],
   "source": []
  },
  {
   "cell_type": "code",
   "execution_count": null,
   "id": "d90f8e52-7c8f-4952-914a-c31a5aa6ca6b",
   "metadata": {},
   "outputs": [],
   "source": []
  },
  {
   "cell_type": "code",
   "execution_count": null,
   "id": "d0640111-578b-4453-94f7-94fca2032ace",
   "metadata": {},
   "outputs": [],
   "source": []
  },
  {
   "cell_type": "code",
   "execution_count": null,
   "id": "df2bb584-fb65-46ce-977e-7d0a9c08fd58",
   "metadata": {},
   "outputs": [],
   "source": []
  },
  {
   "cell_type": "code",
   "execution_count": 9,
   "id": "5f5b9793-3c40-49cc-8177-c13290ef3b8a",
   "metadata": {},
   "outputs": [
    {
     "data": {
      "text/plain": [
       "[]"
      ]
     },
     "execution_count": 9,
     "metadata": {},
     "output_type": "execute_result"
    }
   ],
   "source": [
    "open_request('select * from fen')"
   ]
  },
  {
   "cell_type": "code",
   "execution_count": 10,
   "id": "f2a208a5-7ad0-40f6-a437-9a089b2b118c",
   "metadata": {},
   "outputs": [
    {
     "data": {
      "text/plain": [
       "[('player',), ('game',), ('months',), ('moves',)]"
      ]
     },
     "execution_count": 10,
     "metadata": {},
     "output_type": "execute_result"
    }
   ],
   "source": [
    "get_all_tables()"
   ]
  },
  {
   "cell_type": "code",
   "execution_count": 8,
   "id": "94c4234c-5783-4faf-9d6e-53ef57ae58fb",
   "metadata": {},
   "outputs": [
    {
     "name": "stdout",
     "output_type": "stream",
     "text": [
      "Deleting table: fen...\n",
      "Successfully deleted table: fen\n",
      "Database connection closed.\n",
      "Deleting table: known_fens...\n",
      "Successfully deleted table: known_fens\n",
      "Database connection closed.\n",
      "Deleting table: rawfen...\n",
      "Successfully deleted table: rawfen\n",
      "Database connection closed.\n",
      "Deleting table: knownfens...\n",
      "Successfully deleted table: knownfens\n",
      "Database connection closed.\n",
      "Deleting table: fens_ready...\n",
      "Successfully deleted table: fens_ready\n",
      "Database connection closed.\n"
     ]
    }
   ],
   "source": [
    "delete_all_leela_tables()"
   ]
  },
  {
   "cell_type": "code",
   "execution_count": null,
   "id": "3aebaf8b-340d-4d94-b2a8-40af305a2bda",
   "metadata": {},
   "outputs": [],
   "source": []
  },
  {
   "cell_type": "code",
   "execution_count": null,
   "id": "0b61a863-5336-4914-bbf4-a05ed2091758",
   "metadata": {},
   "outputs": [],
   "source": []
  },
  {
   "cell_type": "code",
   "execution_count": null,
   "id": "d1044380-5eeb-47d3-93a1-ecd7132a7eaa",
   "metadata": {},
   "outputs": [],
   "source": []
  },
  {
   "cell_type": "code",
   "execution_count": 2,
   "id": "45c9f099-16e8-44de-a848-a1cf6c7861c7",
   "metadata": {},
   "outputs": [],
   "source": [
    "nest_asyncio.apply()\n",
    "LC0_PATH = \"/home/jon/workshop/leela_zero/leela_engine_python/Lc0/lc0.exe\"\n",
    "lc0_directory = os.path.dirname(LC0_PATH)\n",
    "LC0_WEIGHTS_FILE = \"791556.pb.gz\" "
   ]
  },
  {
   "cell_type": "code",
   "execution_count": 41,
   "id": "ea049dee-8ceb-4d6b-a4f4-858ccf28a1ca",
   "metadata": {},
   "outputs": [],
   "source": [
    "async def initialize_lc0_engine() -> chess.engine.UciProtocol:\n",
    "    engine_uci = None\n",
    "    try:\n",
    "        print(\"...Starting Leela engine...\")\n",
    "        transport, engine_uci = await chess.engine.popen_uci(LC0_PATH, cwd=lc0_directory)\n",
    "        await engine_uci.configure({\n",
    "                                    \"WeightsFile\": LC0_WEIGHTS_FILE,\n",
    "                                    \"Backend\": \"cuda-fp16\", \n",
    "                                    \"Threads\": 1,\n",
    "                                    \"MinibatchSize\": 1024 \n",
    "                                })\n",
    "        print(\"...Leela engine ready...\")\n",
    "        return engine_uci\n",
    "    except Exception as e:\n",
    "        print(f\"Error initializing Lc0 engine: {e}\")\n",
    "        if engine_uci:\n",
    "            await engine_uci.quit()\n",
    "        raise"
   ]
  },
  {
   "cell_type": "code",
   "execution_count": 5,
   "id": "fee5843a-2885-4154-a1b6-575d90af0660",
   "metadata": {},
   "outputs": [
    {
     "name": "stdout",
     "output_type": "stream",
     "text": [
      "Launching Lc0 engine...\n"
     ]
    },
    {
     "name": "stderr",
     "output_type": "stream",
     "text": [
      "<UciProtocol (pid=170013)>: stderr >>        _\n",
      "<UciProtocol (pid=170013)>: stderr >> |   _ | |\n",
      "<UciProtocol (pid=170013)>: stderr >> |_ |_ |_| v0.31.2 built Oct 20 2024\n"
     ]
    },
    {
     "name": "stdout",
     "output_type": "stream",
     "text": [
      "Lc0 engine successfully launched and configured.\n"
     ]
    },
    {
     "name": "stderr",
     "output_type": "stream",
     "text": [
      "<UciProtocol (pid=170013)>: stderr >> Loading weights file from: 791556.pb.gz\n",
      "<UciProtocol (pid=170013)>: stderr >> Creating backend [cuda-fp16]...\n",
      "<UciProtocol (pid=170013)>: stderr >> CUDA Runtime version: 11.1.0\n",
      "<UciProtocol (pid=170013)>: stderr >> Latest version of CUDA supported by the driver: 12.9.0\n",
      "<UciProtocol (pid=170013)>: stderr >> GPU: NVIDIA GeForce RTX 4060\n",
      "<UciProtocol (pid=170013)>: stderr >> GPU memory: 7.99548 Gb\n",
      "<UciProtocol (pid=170013)>: stderr >> GPU clock frequency: 2490 MHz\n",
      "<UciProtocol (pid=170013)>: stderr >> GPU compute capability: 8.9\n",
      "<UciProtocol (pid=170013)>: stderr >> L2 cache capacity: 25165824\n"
     ]
    }
   ],
   "source": [
    "engine = await initialize_lc0_engine()"
   ]
  },
  {
   "cell_type": "code",
   "execution_count": 37,
   "id": "9d5bbdc0-778b-406a-8df3-f27c3d035eba",
   "metadata": {},
   "outputs": [],
   "source": [
    "async def analyse(engine: chess.engine.UciProtocol,fens: list) -> dict():\n",
    "    result = {}\n",
    "    for fen in fens:\n",
    "        board = chess.Board(fen)\n",
    "        limit = chess.engine.Limit(nodes=50000)\n",
    "        info = await engine.analyse(board, limit=limit)\n",
    "        result[fen] = info\n",
    "        result[fen]['score'] = info[\"score\"].white().score(mate_score=10000) / 100\n",
    "        result[fen]['pv'] = [move.uci() for move in result[fen]['pv']]\n",
    "    return result"
   ]
  },
  {
   "cell_type": "code",
   "execution_count": 38,
   "id": "0e57b2aa-5619-4d55-9f80-cf4450b87a28",
   "metadata": {},
   "outputs": [],
   "source": [
    "positions_to_analyze = [\n",
    "        \"rnbqkbnr/pppppppp/8/8/8/8/PPPPPPPP/RNBQKBNR w KQkq - 0 1\", # Starting position\n",
    "        \"r1bqkbnr/pppp1ppp/2n5/4p3/4P3/5N2/PPPP1PPP/RNBQKB1R w KQkq - 2 3\", # Ruy Lopez opening\n",
    "        \"8/8/6P1/4R3/8/6k1/2r5/6K1 b - - 0 1\", # Complex endgame\n",
    "        # Add hundreds more FEN strings here as needed\n",
    "        # \"r3k2r/p1qnp1b1/2p2npp/4p3/1pP1P3/3P1N2/PP1NB1PP/R1BQ1RK1 w kq - 0 1\", # Example additional FEN\n",
    "        # \"q3r1k1/pp3p1p/4b1p1/8/8/P3PQ2/1P3PPP/R4RK1 b - - 0 1\", # Another example\n",
    "    ]"
   ]
  },
  {
   "cell_type": "code",
   "execution_count": null,
   "id": "93bd5859-44d8-4310-9ef5-556782f2385a",
   "metadata": {},
   "outputs": [],
   "source": []
  },
  {
   "cell_type": "code",
   "execution_count": 39,
   "id": "4192478c-1f1e-404d-9a72-3cb5e403fe39",
   "metadata": {},
   "outputs": [],
   "source": [
    "res = await analyse(engine, positions_to_analyze)"
   ]
  },
  {
   "cell_type": "code",
   "execution_count": 40,
   "id": "5210ccfd-27d8-4632-8f21-f3451bf7c7ce",
   "metadata": {},
   "outputs": [
    {
     "data": {
      "text/plain": [
       "{'depth': 11,\n",
       " 'seldepth': 38,\n",
       " 'time': 0.286,\n",
       " 'nodes': 41923,\n",
       " 'score': 0.27,\n",
       " 'tbhits': 0,\n",
       " 'pv': ['e2e4',\n",
       "  'e7e5',\n",
       "  'g1f3',\n",
       "  'g8f6',\n",
       "  'd2d4',\n",
       "  'f6e4',\n",
       "  'f1d3',\n",
       "  'd7d5',\n",
       "  'f3e5',\n",
       "  'b8d7',\n",
       "  'e5d7',\n",
       "  'c8d7',\n",
       "  'e1g1',\n",
       "  'd8h4',\n",
       "  'c2c4',\n",
       "  'e8c8',\n",
       "  'c4c5',\n",
       "  'g7g6',\n",
       "  'b1c3',\n",
       "  'f8g7',\n",
       "  'g2g3',\n",
       "  'h4f6',\n",
       "  'c1e3',\n",
       "  'e4g5',\n",
       "  'f2f4',\n",
       "  'g5h3',\n",
       "  'g1g2',\n",
       "  'd8e8',\n",
       "  'd1d2',\n",
       "  'h7h5',\n",
       "  'a1e1'],\n",
       " 'nps': 155847}"
      ]
     },
     "execution_count": 40,
     "metadata": {},
     "output_type": "execute_result"
    }
   ],
   "source": [
    "res['rnbqkbnr/pppppppp/8/8/8/8/PPPPPPPP/RNBQKBNR w KQkq - 0 1']"
   ]
  },
  {
   "cell_type": "code",
   "execution_count": null,
   "id": "b8ffae35-11af-4435-876e-3996504c5849",
   "metadata": {},
   "outputs": [],
   "source": []
  },
  {
   "cell_type": "code",
   "execution_count": 3,
   "id": "bc10035a-62ac-4c57-8379-eea27580edd0",
   "metadata": {},
   "outputs": [
    {
     "name": "stdout",
     "output_type": "stream",
     "text": [
      "Launching Lc0 engine...\n"
     ]
    },
    {
     "name": "stderr",
     "output_type": "stream",
     "text": [
      "<UciProtocol (pid=159510)>: stderr >>        _\n",
      "<UciProtocol (pid=159510)>: stderr >> |   _ | |\n",
      "<UciProtocol (pid=159510)>: stderr >> |_ |_ |_| v0.31.2 built Oct 20 2024\n",
      "<UciProtocol (pid=159510)>: stderr >> Loading weights file from: 791556.pb.gz\n"
     ]
    },
    {
     "name": "stdout",
     "output_type": "stream",
     "text": [
      "Lc0 engine successfully launched and configured.\n",
      "\n",
      "Starting batch analysis...\n",
      "[1/3] Analyzing FEN: rnbqkbnr/pppppppp/8/8/8/8/PPPPPPPP/RNBQKBNR w KQkq - 0 1...\n"
     ]
    },
    {
     "name": "stderr",
     "output_type": "stream",
     "text": [
      "<UciProtocol (pid=159510)>: stderr >> Creating backend [cuda-fp16]...\n",
      "<UciProtocol (pid=159510)>: stderr >> CUDA Runtime version: 11.1.0\n",
      "<UciProtocol (pid=159510)>: stderr >> Latest version of CUDA supported by the driver: 12.9.0\n",
      "<UciProtocol (pid=159510)>: stderr >> GPU: NVIDIA GeForce RTX 4060\n",
      "<UciProtocol (pid=159510)>: stderr >> GPU memory: 7.99548 Gb\n",
      "<UciProtocol (pid=159510)>: stderr >> GPU clock frequency: 2490 MHz\n",
      "<UciProtocol (pid=159510)>: stderr >> GPU compute capability: 8.9\n",
      "<UciProtocol (pid=159510)>: stderr >> L2 cache capacity: 25165824\n"
     ]
    },
    {
     "name": "stdout",
     "output_type": "stream",
     "text": [
      "  Score: 26 cp, PV: e2e4...\n",
      "[2/3] Analyzing FEN: r1bqkbnr/pppp1ppp/2n5/4p3/4P3/5N2/PPPP1PPP/RNBQKB1R w KQkq - 2 3...\n",
      "  Score: 29 cp, PV: f1b5...\n",
      "[3/3] Analyzing FEN: 8/8/6P1/4R3/8/6k1/2r5/6K1 b - - 0 1...\n",
      "  Score: -9998 cp, PV: c2c1...\n",
      "\n",
      "Quitting Lc0 engine...\n",
      "Lc0 engine quit successfully.\n",
      "\n",
      "--- Overall Analysis Complete ---\n",
      "All Centipawn Scores:\n",
      "FEN: rnbqkbnr/pppppppp/8/8/8/8/PPPPPPPP/RNBQKBNR w KQkq - 0 1\n",
      "  Score: 26 cp\n",
      "FEN: r1bqkbnr/pppp1ppp/2n5/4p3/4P3/5N2/PPPP1PPP/RNBQKB1R w KQkq - 2 3\n",
      "  Score: 29 cp\n",
      "FEN: 8/8/6P1/4R3/8/6k1/2r5/6K1 b - - 0 1\n",
      "  Score: -9998 cp\n",
      "\n",
      "Full Results Dictionary:\n",
      "{'rnbqkbnr/pppppppp/8/8/8/8/PPPPPPPP/RNBQKBNR w KQkq - 0 1': 26, 'r1bqkbnr/pppp1ppp/2n5/4p3/4P3/5N2/PPPP1PPP/RNBQKB1R w KQkq - 2 3': 29, '8/8/6P1/4R3/8/6k1/2r5/6K1 b - - 0 1': -9998}\n"
     ]
    }
   ],
   "source": [
    "import os\n",
    "import nest_asyncio\n",
    "import chess\n",
    "import chess.engine\n",
    "import asyncio\n",
    "\n",
    "# Apply nest_asyncio for Jupyter/IPython environments\n",
    "nest_asyncio.apply()\n",
    "\n",
    "# --- Configuration ---\n",
    "# Set the absolute path to your Lc0 executable within WSL\n",
    "LC0_PATH = [\"/home/jon/workshop/leela_zero/leela_engine_python/Lc0/lc0.exe\"]\n",
    "\n",
    "# Derive the directory from the executable path for Lc0's working directory\n",
    "lc0_directory = os.path.dirname(LC0_PATH[0])\n",
    "\n",
    "# Define the path to your Lc0 network weights file\n",
    "# Assuming it's in the same directory as lc0.exe\n",
    "LC0_WEIGHTS_FILE = \"791556.pb.gz\" \n",
    "# --- End Configuration ---\n",
    "\n",
    "\n",
    "async def initialize_lc0_engine() -> chess.engine.UciProtocol:\n",
    "    \"\"\"\n",
    "    Launches and configures the Leela Chess Zero (Lc0) engine once.\n",
    "\n",
    "    Returns:\n",
    "        An initialized Lc0 engine instance (chess.engine.UciProtocol).\n",
    "\n",
    "    Raises:\n",
    "        Exception: If the engine fails to launch or configure.\n",
    "    \"\"\"\n",
    "    engine_uci = None\n",
    "    try:\n",
    "        print(\"Launching Lc0 engine...\")\n",
    "        # Launch Lc0 engine\n",
    "        transport, engine_uci = await chess.engine.popen_uci(\n",
    "            LC0_PATH, \n",
    "            cwd=lc0_directory\n",
    "        )\n",
    "        \n",
    "        # Configure Lc0 options\n",
    "        await engine_uci.configure({\n",
    "            \"WeightsFile\": LC0_WEIGHTS_FILE,\n",
    "            \"Backend\": \"cuda-fp16\", # Use cuda-fp16 for optimal performance on RTX 4060\n",
    "            \"Threads\": 1,\n",
    "            \"MinibatchSize\": 1024   # Max allowed for your Lc0 build\n",
    "        })\n",
    "        print(\"Lc0 engine successfully launched and configured.\")\n",
    "        return engine_uci\n",
    "    except Exception as e:\n",
    "        print(f\"Error initializing Lc0 engine: {e}\")\n",
    "        # Ensure engine is quit even if configuration fails\n",
    "        if engine_uci:\n",
    "            await engine_uci.quit()\n",
    "        raise # Re-raise the exception to propagate the error\n",
    "\n",
    "\n",
    "async def analyze_single_position(engine_uci: chess.engine.UciProtocol, fen: str, nodes_limit: int = 50000) -> dict:\n",
    "    \"\"\"\n",
    "    Analyzes a single chess position using an already initialized Leela Chess Zero (Lc0) engine\n",
    "    and returns its centipawn score and principal variation.\n",
    "\n",
    "    Args:\n",
    "        engine_uci: An already initialized Lc0 engine instance.\n",
    "        fen: The FEN string of the position to analyze.\n",
    "        nodes_limit: The maximum number of nodes Lc0 should explore (playouts).\n",
    "\n",
    "    Returns:\n",
    "        A dictionary containing the FEN, centipawn score, and principal variation (PV).\n",
    "        Includes an 'error' key if analysis fails.\n",
    "    \"\"\"\n",
    "    board = chess.Board(fen)\n",
    "\n",
    "    try:\n",
    "        # Set the search limit (nodes in this case)\n",
    "        limit = chess.engine.Limit(nodes=nodes_limit)\n",
    "\n",
    "        # Perform the analysis using the provided engine instance\n",
    "        info = await engine_uci.analyse(board, limit=limit)\n",
    "\n",
    "        # Extract the score (centipawns from White's perspective)\n",
    "        # mate_score is used to give a high/low value for checkmates\n",
    "        score = info[\"score\"].white().score(mate_score=10000) \n",
    "        \n",
    "        # Extract the principal variation (PV)\n",
    "        pv = [move.uci() for move in info[\"pv\"]]\n",
    "\n",
    "        return {\"fen\": fen, \"score\": score, \"pv\": pv}\n",
    "\n",
    "    except Exception as e:\n",
    "        print(f\"An error occurred during Lc0 analysis for FEN {fen}: {e}\")\n",
    "        return {\"fen\": fen, \"error\": str(e)}\n",
    "\n",
    "\n",
    "async def analyze_fens_batch(engine_uci: chess.engine.UciProtocol, fens: list[str], nodes_limit: int = 50000) -> dict:\n",
    "    \"\"\"\n",
    "    Analyzes a list of FEN positions using a single Lc0 engine instance.\n",
    "\n",
    "    Args:\n",
    "        engine_uci: An already initialized Lc0 engine instance.\n",
    "        fens: A list of FEN strings to analyze.\n",
    "        nodes_limit: The maximum number of nodes Lc0 should explore for each position.\n",
    "\n",
    "    Returns:\n",
    "        A dictionary where keys are FEN strings and values are the centipawn scores (int)\n",
    "        or an error string if analysis failed for that FEN.\n",
    "    \"\"\"\n",
    "    analysis_results_dict = {}\n",
    "\n",
    "    print(\"\\nStarting batch analysis...\")\n",
    "\n",
    "    for i, fen in enumerate(fens):\n",
    "        print(f\"[{i+1}/{len(fens)}] Analyzing FEN: {fen}...\")\n",
    "        result = await analyze_single_position(engine_uci, fen, nodes_limit=nodes_limit) \n",
    "        \n",
    "        if \"error\" in result:\n",
    "            print(f\"Failed to analyze {result['fen']}: {result['error']}\")\n",
    "            analysis_results_dict[result['fen']] = \"Error: \" + result['error']\n",
    "        else:\n",
    "            analysis_results_dict[result['fen']] = result['score']\n",
    "            # Only print first move of PV for brevity in batch analysis progress\n",
    "            print(f\"  Score: {result['score']} cp, PV: {result['pv'][0]}...\")\n",
    "    \n",
    "    return analysis_results_dict\n",
    "\n",
    "\n",
    "async def main():\n",
    "    \"\"\"\n",
    "    Main function to initialize the Lc0 engine, analyze multiple chess positions,\n",
    "    and print the results.\n",
    "    \"\"\"\n",
    "    positions_to_analyze = [\n",
    "        \"rnbqkbnr/pppppppp/8/8/8/8/PPPPPPPP/RNBQKBNR w KQkq - 0 1\", # Starting position\n",
    "        \"r1bqkbnr/pppp1ppp/2n5/4p3/4P3/5N2/PPPP1PPP/RNBQKB1R w KQkq - 2 3\", # Ruy Lopez opening\n",
    "        \"8/8/6P1/4R3/8/6k1/2r5/6K1 b - - 0 1\", # Complex endgame\n",
    "        # Add hundreds more FEN strings here as needed\n",
    "        # \"r3k2r/p1qnp1b1/2p2npp/4p3/1pP1P3/3P1N2/PP1NB1PP/R1BQ1RK1 w kq - 0 1\", # Example additional FEN\n",
    "        # \"q3r1k1/pp3p1p/4b1p1/8/8/P3PQ2/1P3PPP/R4RK1 b - - 0 1\", # Another example\n",
    "    ]\n",
    "\n",
    "    # Dictionary to store final results\n",
    "    final_analysis_results = {}\n",
    "    engine_uci = None # Initialize engine_uci for outer finally block\n",
    "\n",
    "    try:\n",
    "        # Step 1: Initialize the Lc0 engine\n",
    "        engine_uci = await initialize_lc0_engine()\n",
    "        \n",
    "        # Step 2: Analyze the FENs using the initialized engine\n",
    "        final_analysis_results = await analyze_fens_batch(engine_uci, positions_to_analyze, nodes_limit=50000)\n",
    "\n",
    "    except Exception as e:\n",
    "        print(f\"An unrecoverable error occurred in the main analysis flow: {e}\")\n",
    "    finally:\n",
    "        # Ensure the engine is quit after all analyses are done, or if an error occurs\n",
    "        if engine_uci:\n",
    "            print(\"\\nQuitting Lc0 engine...\")\n",
    "            await engine_uci.quit()\n",
    "            print(\"Lc0 engine quit successfully.\")\n",
    "\n",
    "    print(\"\\n--- Overall Analysis Complete ---\")\n",
    "    print(\"All Centipawn Scores:\")\n",
    "    for fen, score in final_analysis_results.items():\n",
    "        print(f\"FEN: {fen}\")\n",
    "        print(f\"  Score: {score} cp\")\n",
    "    \n",
    "    print(\"\\nFull Results Dictionary:\")\n",
    "    print(final_analysis_results)\n",
    "\n",
    "\n",
    "# Run the main asynchronous function\n",
    "await main()\n"
   ]
  },
  {
   "cell_type": "code",
   "execution_count": null,
   "id": "cd9e481e-ec6f-4fea-8efc-67e151bbc78b",
   "metadata": {},
   "outputs": [],
   "source": []
  },
  {
   "cell_type": "code",
   "execution_count": null,
   "id": "81228d3c-5b06-4d2d-9385-e4f0e3b78014",
   "metadata": {},
   "outputs": [],
   "source": []
  },
  {
   "cell_type": "code",
   "execution_count": null,
   "id": "5f5a26c5-6c41-4668-afff-83299f39eb89",
   "metadata": {},
   "outputs": [],
   "source": []
  },
  {
   "cell_type": "code",
   "execution_count": null,
   "id": "e7374004-ca48-4582-a3a2-19482baa6d9b",
   "metadata": {},
   "outputs": [],
   "source": [
    "async def analyze_position_with_lc0(engine_uci: chess.engine.UciProtocol, fen: str, nodes_limit: int = 50000) -> dict:\n",
    "    \"\"\"\n",
    "    Analyzes a single chess position using an already initialized Leela Chess Zero (Lc0) engine\n",
    "    and returns its centipawn score and principal variation.\n",
    "\n",
    "    Args:\n",
    "        engine_uci: An already initialized Lc0 engine instance.\n",
    "        fen: The FEN string of the position to analyze.\n",
    "        nodes_limit: The maximum number of nodes Lc0 should explore (playouts).\n",
    "\n",
    "    Returns:\n",
    "        A dictionary containing the FEN, centipawn score, and principal variation (PV).\n",
    "        Includes an 'error' key if analysis fails.\n",
    "    \"\"\"\n",
    "    board = chess.Board(fen)\n",
    "\n",
    "    try:\n",
    "        # Set the search limit (nodes in this case)\n",
    "        limit = chess.engine.Limit(nodes=nodes_limit)\n",
    "\n",
    "        # Perform the analysis using the provided engine instance\n",
    "        info = await engine_uci.analyse(board, limit=limit)\n",
    "\n",
    "        # Extract the score (centipawns from White's perspective)\n",
    "        # mate_score is used to give a high/low value for checkmates\n",
    "        score = info[\"score\"].white().score(mate_score=10000) \n",
    "        \n",
    "        # Extract the principal variation (PV)\n",
    "        pv = [move.uci() for move in info[\"pv\"]]\n",
    "\n",
    "        return {\"fen\": fen, \"score\": score, \"pv\": pv}\n",
    "\n",
    "    except Exception as e:\n",
    "        print(f\"An error occurred during Lc0 analysis for FEN {fen}: {e}\")\n",
    "        return {\"fen\": fen, \"error\": str(e)}\n",
    "    # Removed the finally block from here, engine will be quit in main()"
   ]
  },
  {
   "cell_type": "code",
   "execution_count": null,
   "id": "3b7c5904-2a72-46dd-8406-cd54a59cd443",
   "metadata": {},
   "outputs": [],
   "source": []
  },
  {
   "cell_type": "code",
   "execution_count": null,
   "id": "490c31e8-4c77-4266-93b2-e7c57d4817f0",
   "metadata": {},
   "outputs": [],
   "source": []
  },
  {
   "cell_type": "code",
   "execution_count": null,
   "id": "e1c3d142-71c6-4e11-9771-c5bfe1c3320d",
   "metadata": {},
   "outputs": [],
   "source": []
  },
  {
   "cell_type": "code",
   "execution_count": null,
   "id": "309fb8d9-05e9-4eed-b74b-3a1a1fc22fce",
   "metadata": {},
   "outputs": [],
   "source": []
  },
  {
   "cell_type": "code",
   "execution_count": null,
   "id": "99aaec7c-b6c2-47d3-a81d-402704ca462f",
   "metadata": {},
   "outputs": [],
   "source": []
  },
  {
   "cell_type": "code",
   "execution_count": 5,
   "id": "30e96e07-52f0-4f1b-afbf-17cc24e6f245",
   "metadata": {},
   "outputs": [
    {
     "name": "stdout",
     "output_type": "stream",
     "text": [
      "Starting Lc0 analysis for multiple FENs...\n",
      "Launching Lc0 engine...\n"
     ]
    },
    {
     "name": "stderr",
     "output_type": "stream",
     "text": [
      "<UciProtocol (pid=148996)>: stderr >>        _\n",
      "<UciProtocol (pid=148996)>: stderr >> |   _ | |\n",
      "<UciProtocol (pid=148996)>: stderr >> |_ |_ |_| v0.31.2 built Oct 20 2024\n",
      "<UciProtocol (pid=148996)>: stderr >> Loading weights file from: 791556.pb.gz\n"
     ]
    },
    {
     "name": "stdout",
     "output_type": "stream",
     "text": [
      "Lc0 engine successfully launched and configured.\n",
      "[1/3] Analyzing FEN: rnbqkbnr/pppppppp/8/8/8/8/PPPPPPPP/RNBQKBNR w KQkq - 0 1...\n"
     ]
    },
    {
     "name": "stderr",
     "output_type": "stream",
     "text": [
      "<UciProtocol (pid=148996)>: stderr >> Creating backend [cuda-fp16]...\n",
      "<UciProtocol (pid=148996)>: stderr >> CUDA Runtime version: 11.1.0\n",
      "<UciProtocol (pid=148996)>: stderr >> Latest version of CUDA supported by the driver: 12.9.0\n",
      "<UciProtocol (pid=148996)>: stderr >> GPU: NVIDIA GeForce RTX 4060\n",
      "<UciProtocol (pid=148996)>: stderr >> GPU memory: 7.99548 Gb\n",
      "<UciProtocol (pid=148996)>: stderr >> GPU clock frequency: 2490 MHz\n",
      "<UciProtocol (pid=148996)>: stderr >> GPU compute capability: 8.9\n",
      "<UciProtocol (pid=148996)>: stderr >> L2 cache capacity: 25165824\n"
     ]
    },
    {
     "name": "stdout",
     "output_type": "stream",
     "text": [
      "  Score: 26 cp, PV: e2e4...\n",
      "[2/3] Analyzing FEN: r1bqkbnr/pppp1ppp/2n5/4p3/4P3/5N2/PPPP1PPP/RNBQKB1R w KQkq - 2 3...\n",
      "  Score: 30 cp, PV: f1b5...\n",
      "[3/3] Analyzing FEN: 8/8/6P1/4R3/8/6k1/2r5/6K1 b - - 0 1...\n",
      "  Score: -9998 cp, PV: c2c1...\n",
      "\n",
      "Quitting Lc0 engine...\n",
      "Lc0 engine quit successfully.\n",
      "\n",
      "--- Analysis Complete ---\n",
      "All Centipawn Scores:\n",
      "FEN: rnbqkbnr/pppppppp/8/8/8/8/PPPPPPPP/RNBQKBNR w KQkq - 0 1\n",
      "  Score: 26 cp\n",
      "FEN: r1bqkbnr/pppp1ppp/2n5/4p3/4P3/5N2/PPPP1PPP/RNBQKB1R w KQkq - 2 3\n",
      "  Score: 30 cp\n",
      "FEN: 8/8/6P1/4R3/8/6k1/2r5/6K1 b - - 0 1\n",
      "  Score: -9998 cp\n",
      "\n",
      "Full Results Dictionary:\n",
      "{'rnbqkbnr/pppppppp/8/8/8/8/PPPPPPPP/RNBQKBNR w KQkq - 0 1': 26, 'r1bqkbnr/pppp1ppp/2n5/4p3/4P3/5N2/PPPP1PPP/RNBQKB1R w KQkq - 2 3': 30, '8/8/6P1/4R3/8/6k1/2r5/6K1 b - - 0 1': -9998}\n"
     ]
    }
   ],
   "source": [
    "import os\n",
    "import nest_asyncio\n",
    "import chess\n",
    "import chess.engine\n",
    "import asyncio\n",
    "\n",
    "# Apply nest_asyncio for Jupyter/IPython environments\n",
    "nest_asyncio.apply()\n",
    "\n",
    "# --- Configuration ---\n",
    "# Set the absolute path to your Lc0 executable within WSL\n",
    "LC0_PATH = [\"/home/jon/workshop/leela_zero/leela_engine_python/Lc0/lc0.exe\"]\n",
    "\n",
    "# Derive the directory from the executable path for Lc0's working directory\n",
    "lc0_directory = os.path.dirname(LC0_PATH[0])\n",
    "\n",
    "# Define the path to your Lc0 network weights file\n",
    "# Assuming it's in the same directory as lc0.exe\n",
    "LC0_WEIGHTS_FILE = \"791556.pb.gz\" \n",
    "# --- End Configuration ---\n",
    "\n",
    "\n",
    "async def analyze_position_with_lc0(engine_uci: chess.engine.UciProtocol, fen: str, nodes_limit: int = 50000) -> dict:\n",
    "    \"\"\"\n",
    "    Analyzes a single chess position using an already initialized Leela Chess Zero (Lc0) engine\n",
    "    and returns its centipawn score and principal variation.\n",
    "\n",
    "    Args:\n",
    "        engine_uci: An already initialized Lc0 engine instance.\n",
    "        fen: The FEN string of the position to analyze.\n",
    "        nodes_limit: The maximum number of nodes Lc0 should explore (playouts).\n",
    "\n",
    "    Returns:\n",
    "        A dictionary containing the FEN, centipawn score, and principal variation (PV).\n",
    "        Includes an 'error' key if analysis fails.\n",
    "    \"\"\"\n",
    "    board = chess.Board(fen)\n",
    "\n",
    "    try:\n",
    "        # Set the search limit (nodes in this case)\n",
    "        limit = chess.engine.Limit(nodes=nodes_limit)\n",
    "\n",
    "        # Perform the analysis using the provided engine instance\n",
    "        info = await engine_uci.analyse(board, limit=limit)\n",
    "\n",
    "        # Extract the score (centipawns from White's perspective)\n",
    "        # mate_score is used to give a high/low value for checkmates\n",
    "        score = info[\"score\"].white().score(mate_score=10000) \n",
    "        \n",
    "        # Extract the principal variation (PV)\n",
    "        pv = [move.uci() for move in info[\"pv\"]]\n",
    "\n",
    "        return {\"fen\": fen, \"score\": score, \"pv\": pv}\n",
    "\n",
    "    except Exception as e:\n",
    "        print(f\"An error occurred during Lc0 analysis for FEN {fen}: {e}\")\n",
    "        return {\"fen\": fen, \"error\": str(e)}\n",
    "    # Removed the finally block from here, engine will be quit in main()\n",
    "\n",
    "\n",
    "async def main():\n",
    "    \"\"\"\n",
    "    Main function to analyze multiple chess positions and store results.\n",
    "    Initializes the Lc0 engine once and reuses it for all analyses.\n",
    "    \"\"\"\n",
    "    positions_to_analyze = [\n",
    "        \"rnbqkbnr/pppppppp/8/8/8/8/PPPPPPPP/RNBQKBNR w KQkq - 0 1\", # Starting position\n",
    "        \"r1bqkbnr/pppp1ppp/2n5/4p3/4P3/5N2/PPPP1PPP/RNBQKB1R w KQkq - 2 3\", # Ruy Lopez opening\n",
    "        \"8/8/6P1/4R3/8/6k1/2r5/6K1 b - - 0 1\", # Complex endgame\n",
    "        # Add hundreds more FEN strings here as needed\n",
    "        # \"r3k2r/p1qnp1b1/2p2npp/4p3/1pP1P3/3P1N2/PP1NB1PP/R1BQ1RK1 w kq - 0 1\", # Example additional FEN\n",
    "        # \"q3r1k1/pp3p1p/4b1p1/8/8/P3PQ2/1P3PPP/R4RK1 b - - 0 1\", # Another example\n",
    "    ]\n",
    "\n",
    "    # Dictionary to store results: {fen_string: centipawn_score}\n",
    "    analysis_results_dict = {}\n",
    "\n",
    "    print(\"Starting Lc0 analysis for multiple FENs...\")\n",
    "\n",
    "    engine_uci = None # Initialize engine_uci for outer finally block\n",
    "    try:\n",
    "        print(\"Launching Lc0 engine...\")\n",
    "        # Launch Lc0 engine once\n",
    "        transport, engine_uci = await chess.engine.popen_uci(\n",
    "            LC0_PATH, \n",
    "            cwd=lc0_directory\n",
    "        )\n",
    "        \n",
    "        # Configure Lc0 options once\n",
    "        await engine_uci.configure({\n",
    "            \"WeightsFile\": LC0_WEIGHTS_FILE,\n",
    "            \"Backend\": \"cuda-fp16\", # Use cuda-fp16 for optimal performance on RTX 4060\n",
    "            \"Threads\": 1,\n",
    "            \"MinibatchSize\": 1024   # Max allowed for your Lc0 build\n",
    "        })\n",
    "        print(\"Lc0 engine successfully launched and configured.\")\n",
    "\n",
    "        # Analyze positions one by one using the same engine instance\n",
    "        for i, fen in enumerate(positions_to_analyze):\n",
    "            print(f\"[{i+1}/{len(positions_to_analyze)}] Analyzing FEN: {fen}...\")\n",
    "            # Pass the already created engine_uci object\n",
    "            result = await analyze_position_with_lc0(engine_uci, fen, nodes_limit=50000) \n",
    "            \n",
    "            if \"error\" in result:\n",
    "                print(f\"Failed to analyze {result['fen']}: {result['error']}\")\n",
    "                analysis_results_dict[result['fen']] = \"Error: \" + result['error']\n",
    "            else:\n",
    "                analysis_results_dict[result['fen']] = result['score']\n",
    "                print(f\"  Score: {result['score']} cp, PV: {result['pv'][0]}...\")\n",
    "\n",
    "    except Exception as e:\n",
    "        print(f\"An error occurred in main analysis loop: {e}\")\n",
    "    finally:\n",
    "        # Ensure the engine is quit after all analyses are done, or if an error occurs\n",
    "        if engine_uci:\n",
    "            print(\"\\nQuitting Lc0 engine...\")\n",
    "            await engine_uci.quit()\n",
    "            print(\"Lc0 engine quit successfully.\")\n",
    "\n",
    "    print(\"\\n--- Analysis Complete ---\")\n",
    "    print(\"All Centipawn Scores:\")\n",
    "    for fen, score in analysis_results_dict.items():\n",
    "        print(f\"FEN: {fen}\")\n",
    "        print(f\"  Score: {score} cp\")\n",
    "    \n",
    "    print(\"\\nFull Results Dictionary:\")\n",
    "    print(analysis_results_dict)\n",
    "\n",
    "\n",
    "# Run the main asynchronous function\n",
    "await main()"
   ]
  },
  {
   "cell_type": "code",
   "execution_count": null,
   "id": "6ff50bfa-f5bd-4c82-abbf-4232f2856635",
   "metadata": {},
   "outputs": [],
   "source": []
  },
  {
   "cell_type": "code",
   "execution_count": null,
   "id": "211b4dda-d114-4770-9410-ffd1a6727ad5",
   "metadata": {},
   "outputs": [],
   "source": []
  },
  {
   "cell_type": "code",
   "execution_count": null,
   "id": "5189cda3-268c-4e3a-85a0-8c079ed30b29",
   "metadata": {},
   "outputs": [],
   "source": []
  },
  {
   "cell_type": "code",
   "execution_count": null,
   "id": "d75d9107-205a-4912-a66d-2d9c38b73e7d",
   "metadata": {},
   "outputs": [],
   "source": []
  },
  {
   "cell_type": "code",
   "execution_count": null,
   "id": "3be97f35-5ccd-49c8-8810-a2fc456b64f4",
   "metadata": {},
   "outputs": [],
   "source": []
  },
  {
   "cell_type": "code",
   "execution_count": null,
   "id": "d0f7eb60-ddaf-4906-96f6-18003db84317",
   "metadata": {},
   "outputs": [],
   "source": []
  },
  {
   "cell_type": "code",
   "execution_count": null,
   "id": "0ddb44ea-943b-4430-9f62-4674f2752145",
   "metadata": {},
   "outputs": [],
   "source": []
  },
  {
   "cell_type": "code",
   "execution_count": null,
   "id": "43908fc2-d2bf-421f-9452-c62db8391fc9",
   "metadata": {},
   "outputs": [],
   "source": []
  },
  {
   "cell_type": "code",
   "execution_count": null,
   "id": "9171ba26-87a7-4892-af84-9e22d254ee25",
   "metadata": {},
   "outputs": [],
   "source": []
  },
  {
   "cell_type": "code",
   "execution_count": null,
   "id": "48ea74b2-f2e4-4248-b452-00c680c8cd3c",
   "metadata": {},
   "outputs": [],
   "source": []
  },
  {
   "cell_type": "code",
   "execution_count": 3,
   "id": "7d63b8d5-5f21-4601-a858-660b621512f5",
   "metadata": {},
   "outputs": [],
   "source": [
    "nest_asyncio.apply()\n",
    "LC0_PATH = [\"/home/jon/workshop/leela_zero/leela_engine_python/Lc0/lc0.exe\"]\n",
    "lc0_directory = os.path.dirname(LC0_PATH[0])\n",
    "LC0_WEIGHTS_FILE = \"791556.pb.gz\" "
   ]
  },
  {
   "cell_type": "code",
   "execution_count": 4,
   "id": "f2776b7e-32f6-403e-9711-261bca6af3c9",
   "metadata": {},
   "outputs": [],
   "source": [
    "fen = \"8/8/6P1/4R3/8/6k1/2r5/6K1 b - - 0 1\""
   ]
  },
  {
   "cell_type": "code",
   "execution_count": null,
   "id": "339ac853-9068-4a3a-aa63-e4ddc48acd46",
   "metadata": {},
   "outputs": [],
   "source": [
    "async def get_engine( nodes_limit: int = 50000):\n",
    "    "
   ]
  },
  {
   "cell_type": "code",
   "execution_count": null,
   "id": "f0ebf695-478d-4344-b70c-7ac663cc8223",
   "metadata": {},
   "outputs": [],
   "source": []
  },
  {
   "cell_type": "code",
   "execution_count": null,
   "id": "fa19a922-2d7d-4474-b6f8-840a8f759319",
   "metadata": {},
   "outputs": [],
   "source": []
  },
  {
   "cell_type": "code",
   "execution_count": 2,
   "id": "799c3ede-7db7-470f-b7d9-f88a6b5f2ec9",
   "metadata": {},
   "outputs": [
    {
     "name": "stdout",
     "output_type": "stream",
     "text": [
      "Starting Lc0 analysis for multiple FENs...\n",
      "[1/3] Analyzing FEN: rnbqkbnr/pppppppp/8/8/8/8/PPPPPPPP/RNBQKBNR w KQkq - 0 1...\n"
     ]
    },
    {
     "name": "stderr",
     "output_type": "stream",
     "text": [
      "<UciProtocol (pid=117386)>: stderr >>        _\n",
      "<UciProtocol (pid=117386)>: stderr >> |   _ | |\n",
      "<UciProtocol (pid=117386)>: stderr >> |_ |_ |_| v0.31.2 built Oct 20 2024\n",
      "<UciProtocol (pid=117386)>: stderr >> Loading weights file from: 791556.pb.gz\n",
      "<UciProtocol (pid=117386)>: stderr >> Creating backend [cuda-fp16]...\n",
      "<UciProtocol (pid=117386)>: stderr >> CUDA Runtime version: 11.1.0\n",
      "<UciProtocol (pid=117386)>: stderr >> Latest version of CUDA supported by the driver: 12.9.0\n",
      "<UciProtocol (pid=117386)>: stderr >> GPU: NVIDIA GeForce RTX 4060\n",
      "<UciProtocol (pid=117386)>: stderr >> GPU memory: 7.99548 Gb\n",
      "<UciProtocol (pid=117386)>: stderr >> GPU clock frequency: 2490 MHz\n",
      "<UciProtocol (pid=117386)>: stderr >> GPU compute capability: 8.9\n",
      "<UciProtocol (pid=117386)>: stderr >> L2 cache capacity: 25165824\n"
     ]
    },
    {
     "name": "stdout",
     "output_type": "stream",
     "text": [
      "  Score: 26 cp, PV: e2e4...\n",
      "[2/3] Analyzing FEN: r1bqkbnr/pppp1ppp/2n5/4p3/4P3/5N2/PPPP1PPP/RNBQKB1R w KQkq - 2 3...\n"
     ]
    },
    {
     "name": "stderr",
     "output_type": "stream",
     "text": [
      "<UciProtocol (pid=127784)>: stderr >>        _\n",
      "<UciProtocol (pid=127784)>: stderr >> |   _ | |\n",
      "<UciProtocol (pid=127784)>: stderr >> |_ |_ |_| v0.31.2 built Oct 20 2024\n",
      "<UciProtocol (pid=127784)>: stderr >> Loading weights file from: 791556.pb.gz\n",
      "<UciProtocol (pid=127784)>: stderr >> Creating backend [cuda-fp16]...\n",
      "<UciProtocol (pid=127784)>: stderr >> CUDA Runtime version: 11.1.0\n",
      "<UciProtocol (pid=127784)>: stderr >> Latest version of CUDA supported by the driver: 12.9.0\n",
      "<UciProtocol (pid=127784)>: stderr >> GPU: NVIDIA GeForce RTX 4060\n",
      "<UciProtocol (pid=127784)>: stderr >> GPU memory: 7.99548 Gb\n",
      "<UciProtocol (pid=127784)>: stderr >> GPU clock frequency: 2490 MHz\n",
      "<UciProtocol (pid=127784)>: stderr >> GPU compute capability: 8.9\n",
      "<UciProtocol (pid=127784)>: stderr >> L2 cache capacity: 25165824\n"
     ]
    },
    {
     "name": "stdout",
     "output_type": "stream",
     "text": [
      "  Score: 31 cp, PV: f1b5...\n",
      "[3/3] Analyzing FEN: 8/8/6P1/4R3/8/6k1/2r5/6K1 b - - 0 1...\n"
     ]
    },
    {
     "name": "stderr",
     "output_type": "stream",
     "text": [
      "<UciProtocol (pid=138186)>: stderr >>        _\n",
      "<UciProtocol (pid=138186)>: stderr >> |   _ | |\n",
      "<UciProtocol (pid=138186)>: stderr >> |_ |_ |_| v0.31.2 built Oct 20 2024\n",
      "<UciProtocol (pid=138186)>: stderr >> Loading weights file from: 791556.pb.gz\n",
      "<UciProtocol (pid=138186)>: stderr >> Creating backend [cuda-fp16]...\n",
      "<UciProtocol (pid=138186)>: stderr >> CUDA Runtime version: 11.1.0\n",
      "<UciProtocol (pid=138186)>: stderr >> Latest version of CUDA supported by the driver: 12.9.0\n",
      "<UciProtocol (pid=138186)>: stderr >> GPU: NVIDIA GeForce RTX 4060\n",
      "<UciProtocol (pid=138186)>: stderr >> GPU memory: 7.99548 Gb\n",
      "<UciProtocol (pid=138186)>: stderr >> GPU clock frequency: 2490 MHz\n",
      "<UciProtocol (pid=138186)>: stderr >> GPU compute capability: 8.9\n",
      "<UciProtocol (pid=138186)>: stderr >> L2 cache capacity: 25165824\n"
     ]
    },
    {
     "name": "stdout",
     "output_type": "stream",
     "text": [
      "  Score: -9998 cp, PV: c2c1...\n",
      "\n",
      "--- Analysis Complete ---\n",
      "All Centipawn Scores:\n",
      "FEN: rnbqkbnr/pppppppp/8/8/8/8/PPPPPPPP/RNBQKBNR w KQkq - 0 1\n",
      "  Score: 26 cp\n",
      "FEN: r1bqkbnr/pppp1ppp/2n5/4p3/4P3/5N2/PPPP1PPP/RNBQKB1R w KQkq - 2 3\n",
      "  Score: 31 cp\n",
      "FEN: 8/8/6P1/4R3/8/6k1/2r5/6K1 b - - 0 1\n",
      "  Score: -9998 cp\n",
      "\n",
      "Full Results Dictionary:\n",
      "{'rnbqkbnr/pppppppp/8/8/8/8/PPPPPPPP/RNBQKBNR w KQkq - 0 1': 26, 'r1bqkbnr/pppp1ppp/2n5/4p3/4P3/5N2/PPPP1PPP/RNBQKB1R w KQkq - 2 3': 31, '8/8/6P1/4R3/8/6k1/2r5/6K1 b - - 0 1': -9998}\n"
     ]
    },
    {
     "data": {
      "text/plain": [
       "{'rnbqkbnr/pppppppp/8/8/8/8/PPPPPPPP/RNBQKBNR w KQkq - 0 1': 26,\n",
       " 'r1bqkbnr/pppp1ppp/2n5/4p3/4P3/5N2/PPPP1PPP/RNBQKB1R w KQkq - 2 3': 31,\n",
       " '8/8/6P1/4R3/8/6k1/2r5/6K1 b - - 0 1': -9998}"
      ]
     },
     "execution_count": 2,
     "metadata": {},
     "output_type": "execute_result"
    }
   ],
   "source": [
    "import os\n",
    "import nest_asyncio\n",
    "import chess\n",
    "import chess.engine\n",
    "import asyncio\n",
    "\n",
    "# Apply nest_asyncio for Jupyter/IPython environments\n",
    "nest_asyncio.apply()\n",
    "\n",
    "# --- Configuration ---\n",
    "# Set the absolute path to your Lc0 executable within WSL\n",
    "LC0_PATH = [\"/home/jon/workshop/leela_zero/leela_engine_python/Lc0/lc0.exe\"]\n",
    "\n",
    "# Derive the directory from the executable path for Lc0's working directory\n",
    "lc0_directory = os.path.dirname(LC0_PATH[0])\n",
    "\n",
    "# Define the path to your Lc0 network weights file\n",
    "# Assuming it's in the same directory as lc0.exe\n",
    "LC0_WEIGHTS_FILE = \"791556.pb.gz\" \n",
    "# --- End Configuration ---\n",
    "\n",
    "\n",
    "async def analyze_position_with_lc0(fen: str, nodes_limit: int = 50000) -> dict:\n",
    "    \"\"\"\n",
    "    Analyzes a single chess position using Leela Chess Zero (Lc0)\n",
    "    and returns its centipawn score and principal variation.\n",
    "\n",
    "    Args:\n",
    "        fen: The FEN string of the position to analyze.\n",
    "        nodes_limit: The maximum number of nodes Lc0 should explore (playouts).\n",
    "\n",
    "    Returns:\n",
    "        A dictionary containing the FEN, centipawn score, and principal variation (PV).\n",
    "        Includes an 'error' key if analysis fails.\n",
    "    \"\"\"\n",
    "    board = chess.Board(fen)\n",
    "    engine_uci = None # Initialize to None for the finally block\n",
    "\n",
    "    try:\n",
    "        # Launch Lc0 engine, specifying its working directory for weights file\n",
    "        # The 'engine_uci' variable now holds the actual engine object\n",
    "        transport, engine_uci = await chess.engine.popen_uci(\n",
    "            LC0_PATH, \n",
    "            cwd=lc0_directory\n",
    "        )\n",
    "        \n",
    "        # Configure Lc0 options for GPU performance\n",
    "        await engine_uci.configure({\n",
    "            \"WeightsFile\": LC0_WEIGHTS_FILE,\n",
    "            \"Backend\": \"cuda-fp16\", # Use cuda-fp16 for optimal performance on RTX 4060\n",
    "            \"Threads\": 1,\n",
    "            \"MinibatchSize\": 1024   # Max allowed for your Lc0 build\n",
    "        })\n",
    "\n",
    "        # Set the search limit (nodes in this case)\n",
    "        limit = chess.engine.Limit(nodes=nodes_limit)\n",
    "\n",
    "        # Perform the analysis\n",
    "        info = await engine_uci.analyse(board, limit=limit)\n",
    "\n",
    "        # Extract the score (centipawns from White's perspective)\n",
    "        # mate_score is used to give a high/low value for checkmates\n",
    "        score = info[\"score\"].white().score(mate_score=10000) \n",
    "        \n",
    "        # Extract the principal variation (PV)\n",
    "        pv = [move.uci() for move in info[\"pv\"]]\n",
    "\n",
    "        return {\"fen\": fen, \"score\": score, \"pv\": pv}\n",
    "\n",
    "    except Exception as e:\n",
    "        print(f\"An error occurred during Lc0 analysis for FEN {fen}: {e}\")\n",
    "        return {\"fen\": fen, \"error\": str(e)}\n",
    "    finally:\n",
    "        # Always quit the engine process to free up resources\n",
    "        if engine_uci:\n",
    "            await engine_uci.quit()\n",
    "\n",
    "\n",
    "async def main():\n",
    "    \"\"\"\n",
    "    Main function to analyze multiple chess positions and store results.\n",
    "    \"\"\"\n",
    "    positions_to_analyze = [\n",
    "        \"rnbqkbnr/pppppppp/8/8/8/8/PPPPPPPP/RNBQKBNR w KQkq - 0 1\", # Starting position\n",
    "        \"r1bqkbnr/pppp1ppp/2n5/4p3/4P3/5N2/PPPP1PPP/RNBQKB1R w KQkq - 2 3\", # Ruy Lopez opening\n",
    "        \"8/8/6P1/4R3/8/6k1/2r5/6K1 b - - 0 1\", # Complex endgame\n",
    "        # Add hundreds more FEN strings here as needed\n",
    "        # \"r3k2r/p1qnp1b1/2p2npp/4p3/1pP1P3/3P1N2/PP1NB1PP/R1BQ1RK1 w kq - 0 1\", # Example additional FEN\n",
    "        # \"q3r1k1/pp3p1p/4b1p1/8/8/P3PQ2/1P3PPP/R4RK1 b - - 0 1\", # Another example\n",
    "    ]\n",
    "\n",
    "    # Dictionary to store results: {fen_string: centipawn_score}\n",
    "    analysis_results_dict = {}\n",
    "\n",
    "    print(\"Starting Lc0 analysis for multiple FENs...\")\n",
    "\n",
    "    # Analyze positions one by one\n",
    "    for i, fen in enumerate(positions_to_analyze):\n",
    "        print(f\"[{i+1}/{len(positions_to_analyze)}] Analyzing FEN: {fen}...\")\n",
    "        result = await analyze_position_with_lc0(fen, nodes_limit=50000) \n",
    "        \n",
    "        if \"error\" in result:\n",
    "            print(f\"Failed to analyze {result['fen']}: {result['error']}\")\n",
    "            analysis_results_dict[result['fen']] = \"Error: \" + result['error']\n",
    "        else:\n",
    "            analysis_results_dict[result['fen']] = result['score']\n",
    "            print(f\"  Score: {result['score']} cp, PV: {result['pv'][0]}...\") # Print only first move of PV for brevity\n",
    "\n",
    "    print(\"\\n--- Analysis Complete ---\")\n",
    "    print(\"All Centipawn Scores:\")\n",
    "    for fen, score in analysis_results_dict.items():\n",
    "        print(f\"FEN: {fen}\")\n",
    "        print(f\"  Score: {score} cp\")\n",
    "    \n",
    "    print(\"\\nFull Results Dictionary:\")\n",
    "    print(analysis_results_dict)\n",
    "    return analysis_results_dict\n",
    "\n",
    "# Run the main asynchronous function\n",
    "await main()\n"
   ]
  },
  {
   "cell_type": "code",
   "execution_count": null,
   "id": "0e1bfdc4-5ace-4b1b-98b2-249ac33e924e",
   "metadata": {},
   "outputs": [],
   "source": []
  },
  {
   "cell_type": "code",
   "execution_count": null,
   "id": "af6c226f-7336-48f0-8f86-672d1e12ac22",
   "metadata": {},
   "outputs": [],
   "source": []
  },
  {
   "cell_type": "code",
   "execution_count": null,
   "id": "d493579c-10e7-468b-bf9d-cd76dd79fe05",
   "metadata": {},
   "outputs": [],
   "source": []
  },
  {
   "cell_type": "code",
   "execution_count": null,
   "id": "255c93af-524e-46e3-95b9-e007946cf1e7",
   "metadata": {},
   "outputs": [],
   "source": []
  },
  {
   "cell_type": "code",
   "execution_count": null,
   "id": "bca3415e-76c2-48cc-ad1d-7503b4790ace",
   "metadata": {},
   "outputs": [],
   "source": []
  },
  {
   "cell_type": "code",
   "execution_count": 1,
   "id": "1a2781f7-b6a8-4035-8078-2a4896227b53",
   "metadata": {},
   "outputs": [
    {
     "name": "stdout",
     "output_type": "stream",
     "text": [
      "DEBUG: LC0_PATH being used: ['/home/jon/workshop/leela_zero/leela_engine_python/Lc0/lc0.exe']\n",
      "DEBUG: lc0_directory being used: /home/jon/workshop/leela_zero/leela_engine_python/Lc0\n",
      "DEBUG: Does executable file exist at '/home/jon/workshop/leela_zero/leela_engine_python/Lc0/lc0.exe'? True\n",
      "\n",
      "--- Starting direct subprocess.Popen test (no shell=True) ---\n",
      "DEBUG: Direct subprocess stdout:\n",
      "id name Lc0 v0.31.2\n",
      "id author The LCZero Authors.\n",
      "option name WeightsFile type string default <autodiscover>\n",
      "option name Backend type combo default cuda-auto var cuda-auto var cuda var cuda-fp16 var trivial var random var check var recordreplay var roundrobin var multiplexing var demux\n",
      "option name BackendOptions type string default \n",
      "option name Threads type spin default 0 min 0 max 128\n",
      "option name NNCacheSize type spin default 2000000 min 0 max 999999999\n",
      "option name MinibatchSize type spin default 0 min 0 max 1024\n",
      "option name MaxPrefetch type spin default 32 min 0 max 1024\n",
      "option name CPuct type string default 1.745000\n",
      "option name CPuctBase type string default 38739.000000\n",
      "option name CPuctFactor type string default 3.894000\n",
      "option name TwoFoldDraws type check default true\n",
      "option name VerboseMoveStats type check default false\n",
      "option name FpuStrategy type combo default reduction var reduction var absolute\n",
      "option name FpuValue type string default 0.330000\n",
      "option name CacheHistoryLength type spin default 0 min 0 max 7\n",
      "option name PolicyTemperature type string default 1.359000\n",
      "option name MaxCollisionEvents type spin default 917 min 1 max 65536\n",
      "option name MaxCollisionVisits type spin default 80000 min 1 max 100000000\n",
      "option name MaxCollisionVisitsScalingStart type spin default 28 min 1 max 100000\n",
      "option name MaxCollisionVisitsScalingEnd type spin default 145000 min 0 max 100000000\n",
      "option name MaxCollisionVisitsScalingPower type string default 1.250000\n",
      "option name OutOfOrderEval type check default true\n",
      "option name MaxOutOfOrderEvalsFactor type string default 2.400000\n",
      "option name StickyEndgames type check default true\n",
      "option name SyzygyFastPlay type check default false\n",
      "option name MultiPV type spin default 1 min 1 max 500\n",
      "option name PerPVCounters type check default false\n",
      "option name ScoreType type combo default WDL_mu var centipawn var centipawn_with_drawscore var centipawn_2019 var centipawn_2018 var win_percentage var Q var W-L var WDL_mu\n",
      "option name HistoryFill type combo default fen_only var no var fen_only var always\n",
      "option name MovesLeftMaxEffect type string default 0.034500\n",
      "option name MovesLeftThreshold type string default 0.800000\n",
      "option name MovesLeftSlope type string default 0.002700\n",
      "option name MovesLeftConstantFactor type string default 0.000000\n",
      "option name MovesLeftScaledFactor type string default 1.652100\n",
      "option name MovesLeftQuadraticFactor type string default -0.652100\n",
      "option name MaxConcurrentSearchers type spin default 1 min 0 max 128\n",
      "option name DrawScore type string default 0.000000\n",
      "option name ContemptMode type combo default play var play var white_side_analysis var black_side_analysis var disable\n",
      "option name Contempt type string default \n",
      "option name WDLCalibrationElo type string default 0.000000\n",
      "option name WDLEvalObjectivity type string default 1.000000\n",
      "option name WDLDrawRateReference type string default 0.500000\n",
      "option name NodesPerSecondLimit type string default 0.000000\n",
      "option name SolidTreeThreshold type spin default 100 min 1 max 2000000000\n",
      "option name TaskWorkers type spin default -1 min -1 max 128\n",
      "option name MinimumProcessingWork type spin default 20 min 2 max 100000\n",
      "option name MinimumPickingWork type spin default 1 min 1 max 100000\n",
      "option name MinimumRemainingPickingWork type spin default 20 min 0 max 100000\n",
      "option name MinimumPerTaskProcessing type spin default 8 min 1 max 100000\n",
      "option name IdlingMinimumWork type spin default 0 min 0 max 10000\n",
      "option name ThreadIdlingThreshold type spin default 1 min 0 max 128\n",
      "option name UCI_Opponent type string default \n",
      "option name UCI_RatingAdv type string default 0.000000\n",
      "option name SearchSpinBackoff type check default false\n",
      "option name ConfigFile type string default lc0.config\n",
      "option name SyzygyPath type string default \n",
      "option name Ponder type check default true\n",
      "option name UCI_Chess960 type check default false\n",
      "option name UCI_ShowWDL type check default false\n",
      "option name UCI_ShowMovesLeft type check default false\n",
      "option name SmartPruningFactor type string default 1.330000\n",
      "option name SmartPruningMinimumBatches type spin default 0 min 0 max 10000\n",
      "option name RamLimitMb type spin default 0 min 0 max 100000000\n",
      "option name MoveOverheadMs type spin default 200 min 0 max 100000000\n",
      "option name TimeManager type string default legacy\n",
      "option name ValueOnly type check default false\n",
      "option name LogFile type string default \n",
      "uciok\n",
      "readyok\n",
      "\n",
      "DEBUG: Direct subprocess stderr:\n",
      "       _\n",
      "|   _ | |\n",
      "|_ |_ |_| v0.31.2 built Oct 20 2024\n",
      "\n",
      "DEBUG: Direct subprocess test: Lc0 responded to 'uci' command (Success!).\n",
      "--- Direct subprocess.Popen test ended (return code: 0) ---\n",
      "\n"
     ]
    },
    {
     "name": "stderr",
     "output_type": "stream",
     "text": [
      "<UciProtocol (pid=84605)>: stderr >>        _\n",
      "<UciProtocol (pid=84605)>: stderr >> |   _ | |\n",
      "<UciProtocol (pid=84605)>: stderr >> |_ |_ |_| v0.31.2 built Oct 20 2024\n",
      "<UciProtocol (pid=84605)>: stderr >> Loading weights file from: /home/jon/workshop/leela_zero/leela_engine_python/Lc0/791556.pb.gz\n"
     ]
    },
    {
     "name": "stdout",
     "output_type": "stream",
     "text": [
      "Analyzing FEN: rnbqkbnr/pppppppp/8/8/8/8/PPPPPPPP/RNBQKBNR w KQkq - 0 1 with Lc0 (Nodes: 50000, Time: Nones)...\n"
     ]
    },
    {
     "name": "stderr",
     "output_type": "stream",
     "text": [
      "<UciProtocol (pid=84605)>: stderr >> Creating backend [cuda-fp16]...\n",
      "<UciProtocol (pid=84605)>: stderr >> CUDA Runtime version: 11.1.0\n",
      "<UciProtocol (pid=84605)>: stderr >> Latest version of CUDA supported by the driver: 12.9.0\n",
      "<UciProtocol (pid=84605)>: stderr >> GPU: NVIDIA GeForce RTX 4060\n",
      "<UciProtocol (pid=84605)>: stderr >> GPU memory: 7.99548 Gb\n",
      "<UciProtocol (pid=84605)>: stderr >> GPU clock frequency: 2490 MHz\n",
      "<UciProtocol (pid=84605)>: stderr >> GPU compute capability: 8.9\n",
      "<UciProtocol (pid=84605)>: stderr >> L2 cache capacity: 25165824\n"
     ]
    },
    {
     "name": "stdout",
     "output_type": "stream",
     "text": [
      "\n",
      "FEN: rnbqkbnr/pppppppp/8/8/8/8/PPPPPPPP/RNBQKBNR w KQkq - 0 1\n",
      "  Score (cp from White's perspective): 26\n",
      "  Principal Variation (PV): ['e2e4', 'e7e5', 'g1f3', 'g8f6', 'd2d4', 'f6e4', 'f1d3', 'd7d5', 'f3e5', 'b8d7', 'e5d7', 'c8d7', 'e1g1', 'd8h4', 'c2c4', 'e8c8', 'c4c5', 'g7g6', 'b1c3', 'f8g7', 'g2g3', 'h4f6', 'c1e3', 'e4g5', 'd3e2', 'd7h3', 'c5c6', 'b7c6', 'a1c1', 'h3f1']\n",
      "----------------------------------------\n",
      "DEBUG: LC0_PATH being used: ['/home/jon/workshop/leela_zero/leela_engine_python/Lc0/lc0.exe']\n",
      "DEBUG: lc0_directory being used: /home/jon/workshop/leela_zero/leela_engine_python/Lc0\n",
      "DEBUG: Does executable file exist at '/home/jon/workshop/leela_zero/leela_engine_python/Lc0/lc0.exe'? True\n",
      "\n",
      "--- Starting direct subprocess.Popen test (no shell=True) ---\n",
      "DEBUG: Direct subprocess stdout:\n",
      "id name Lc0 v0.31.2\n",
      "id author The LCZero Authors.\n",
      "option name WeightsFile type string default <autodiscover>\n",
      "option name Backend type combo default cuda-auto var cuda-auto var cuda var cuda-fp16 var trivial var random var check var recordreplay var roundrobin var multiplexing var demux\n",
      "option name BackendOptions type string default \n",
      "option name Threads type spin default 0 min 0 max 128\n",
      "option name NNCacheSize type spin default 2000000 min 0 max 999999999\n",
      "option name MinibatchSize type spin default 0 min 0 max 1024\n",
      "option name MaxPrefetch type spin default 32 min 0 max 1024\n",
      "option name CPuct type string default 1.745000\n",
      "option name CPuctBase type string default 38739.000000\n",
      "option name CPuctFactor type string default 3.894000\n",
      "option name TwoFoldDraws type check default true\n",
      "option name VerboseMoveStats type check default false\n",
      "option name FpuStrategy type combo default reduction var reduction var absolute\n",
      "option name FpuValue type string default 0.330000\n",
      "option name CacheHistoryLength type spin default 0 min 0 max 7\n",
      "option name PolicyTemperature type string default 1.359000\n",
      "option name MaxCollisionEvents type spin default 917 min 1 max 65536\n",
      "option name MaxCollisionVisits type spin default 80000 min 1 max 100000000\n",
      "option name MaxCollisionVisitsScalingStart type spin default 28 min 1 max 100000\n",
      "option name MaxCollisionVisitsScalingEnd type spin default 145000 min 0 max 100000000\n",
      "option name MaxCollisionVisitsScalingPower type string default 1.250000\n",
      "option name OutOfOrderEval type check default true\n",
      "option name MaxOutOfOrderEvalsFactor type string default 2.400000\n",
      "option name StickyEndgames type check default true\n",
      "option name SyzygyFastPlay type check default false\n",
      "option name MultiPV type spin default 1 min 1 max 500\n",
      "option name PerPVCounters type check default false\n",
      "option name ScoreType type combo default WDL_mu var centipawn var centipawn_with_drawscore var centipawn_2019 var centipawn_2018 var win_percentage var Q var W-L var WDL_mu\n",
      "option name HistoryFill type combo default fen_only var no var fen_only var always\n",
      "option name MovesLeftMaxEffect type string default 0.034500\n",
      "option name MovesLeftThreshold type string default 0.800000\n",
      "option name MovesLeftSlope type string default 0.002700\n",
      "option name MovesLeftConstantFactor type string default 0.000000\n",
      "option name MovesLeftScaledFactor type string default 1.652100\n",
      "option name MovesLeftQuadraticFactor type string default -0.652100\n",
      "option name MaxConcurrentSearchers type spin default 1 min 0 max 128\n",
      "option name DrawScore type string default 0.000000\n",
      "option name ContemptMode type combo default play var play var white_side_analysis var black_side_analysis var disable\n",
      "option name Contempt type string default \n",
      "option name WDLCalibrationElo type string default 0.000000\n",
      "option name WDLEvalObjectivity type string default 1.000000\n",
      "option name WDLDrawRateReference type string default 0.500000\n",
      "option name NodesPerSecondLimit type string default 0.000000\n",
      "option name SolidTreeThreshold type spin default 100 min 1 max 2000000000\n",
      "option name TaskWorkers type spin default -1 min -1 max 128\n",
      "option name MinimumProcessingWork type spin default 20 min 2 max 100000\n",
      "option name MinimumPickingWork type spin default 1 min 1 max 100000\n",
      "option name MinimumRemainingPickingWork type spin default 20 min 0 max 100000\n",
      "option name MinimumPerTaskProcessing type spin default 8 min 1 max 100000\n",
      "option name IdlingMinimumWork type spin default 0 min 0 max 10000\n",
      "option name ThreadIdlingThreshold type spin default 1 min 0 max 128\n",
      "option name UCI_Opponent type string default \n",
      "option name UCI_RatingAdv type string default 0.000000\n",
      "option name SearchSpinBackoff type check default false\n",
      "option name ConfigFile type string default lc0.config\n",
      "option name SyzygyPath type string default \n",
      "option name Ponder type check default true\n",
      "option name UCI_Chess960 type check default false\n",
      "option name UCI_ShowWDL type check default false\n",
      "option name UCI_ShowMovesLeft type check default false\n",
      "option name SmartPruningFactor type string default 1.330000\n",
      "option name SmartPruningMinimumBatches type spin default 0 min 0 max 10000\n",
      "option name RamLimitMb type spin default 0 min 0 max 100000000\n",
      "option name MoveOverheadMs type spin default 200 min 0 max 100000000\n",
      "option name TimeManager type string default legacy\n",
      "option name ValueOnly type check default false\n",
      "option name LogFile type string default \n",
      "uciok\n",
      "readyok\n",
      "\n",
      "DEBUG: Direct subprocess stderr:\n",
      "       _\n",
      "|   _ | |\n",
      "|_ |_ |_| v0.31.2 built Oct 20 2024\n",
      "\n",
      "DEBUG: Direct subprocess test: Lc0 responded to 'uci' command (Success!).\n",
      "--- Direct subprocess.Popen test ended (return code: 0) ---\n",
      "\n"
     ]
    },
    {
     "name": "stderr",
     "output_type": "stream",
     "text": [
      "<UciProtocol (pid=95761)>: stderr >>        _\n",
      "<UciProtocol (pid=95761)>: stderr >> |   _ | |\n",
      "<UciProtocol (pid=95761)>: stderr >> |_ |_ |_| v0.31.2 built Oct 20 2024\n",
      "<UciProtocol (pid=95761)>: stderr >> Loading weights file from: /home/jon/workshop/leela_zero/leela_engine_python/Lc0/791556.pb.gz\n"
     ]
    },
    {
     "name": "stdout",
     "output_type": "stream",
     "text": [
      "Analyzing FEN: r1bqkbnr/pppp1ppp/2n5/4p3/4P3/5N2/PPPP1PPP/RNBQKB1R w KQkq - 2 3 with Lc0 (Nodes: 50000, Time: Nones)...\n"
     ]
    },
    {
     "name": "stderr",
     "output_type": "stream",
     "text": [
      "<UciProtocol (pid=95761)>: stderr >> Creating backend [cuda-fp16]...\n",
      "<UciProtocol (pid=95761)>: stderr >> CUDA Runtime version: 11.1.0\n",
      "<UciProtocol (pid=95761)>: stderr >> Latest version of CUDA supported by the driver: 12.9.0\n",
      "<UciProtocol (pid=95761)>: stderr >> GPU: NVIDIA GeForce RTX 4060\n",
      "<UciProtocol (pid=95761)>: stderr >> GPU memory: 7.99548 Gb\n",
      "<UciProtocol (pid=95761)>: stderr >> GPU clock frequency: 2490 MHz\n",
      "<UciProtocol (pid=95761)>: stderr >> GPU compute capability: 8.9\n",
      "<UciProtocol (pid=95761)>: stderr >> L2 cache capacity: 25165824\n"
     ]
    },
    {
     "name": "stdout",
     "output_type": "stream",
     "text": [
      "\n",
      "FEN: r1bqkbnr/pppp1ppp/2n5/4p3/4P3/5N2/PPPP1PPP/RNBQKB1R w KQkq - 2 3\n",
      "  Score (cp from White's perspective): 31\n",
      "  Principal Variation (PV): ['f1b5', 'a7a6', 'b5a4', 'g8f6', 'e1g1', 'b7b5', 'a4b3', 'f8c5', 'a2a4', 'c8b7', 'd2d3', 'e8g8', 'b1c3', 'c6a5', 'b3a2', 'b5b4', 'c3e2', 'd7d5', 'e4d5', 'b7d5']\n",
      "----------------------------------------\n",
      "DEBUG: LC0_PATH being used: ['/home/jon/workshop/leela_zero/leela_engine_python/Lc0/lc0.exe']\n",
      "DEBUG: lc0_directory being used: /home/jon/workshop/leela_zero/leela_engine_python/Lc0\n",
      "DEBUG: Does executable file exist at '/home/jon/workshop/leela_zero/leela_engine_python/Lc0/lc0.exe'? True\n",
      "\n",
      "--- Starting direct subprocess.Popen test (no shell=True) ---\n",
      "DEBUG: Direct subprocess stdout:\n",
      "id name Lc0 v0.31.2\n",
      "id author The LCZero Authors.\n",
      "option name WeightsFile type string default <autodiscover>\n",
      "option name Backend type combo default cuda-auto var cuda-auto var cuda var cuda-fp16 var trivial var random var check var recordreplay var roundrobin var multiplexing var demux\n",
      "option name BackendOptions type string default \n",
      "option name Threads type spin default 0 min 0 max 128\n",
      "option name NNCacheSize type spin default 2000000 min 0 max 999999999\n",
      "option name MinibatchSize type spin default 0 min 0 max 1024\n",
      "option name MaxPrefetch type spin default 32 min 0 max 1024\n",
      "option name CPuct type string default 1.745000\n",
      "option name CPuctBase type string default 38739.000000\n",
      "option name CPuctFactor type string default 3.894000\n",
      "option name TwoFoldDraws type check default true\n",
      "option name VerboseMoveStats type check default false\n",
      "option name FpuStrategy type combo default reduction var reduction var absolute\n",
      "option name FpuValue type string default 0.330000\n",
      "option name CacheHistoryLength type spin default 0 min 0 max 7\n",
      "option name PolicyTemperature type string default 1.359000\n",
      "option name MaxCollisionEvents type spin default 917 min 1 max 65536\n",
      "option name MaxCollisionVisits type spin default 80000 min 1 max 100000000\n",
      "option name MaxCollisionVisitsScalingStart type spin default 28 min 1 max 100000\n",
      "option name MaxCollisionVisitsScalingEnd type spin default 145000 min 0 max 100000000\n",
      "option name MaxCollisionVisitsScalingPower type string default 1.250000\n",
      "option name OutOfOrderEval type check default true\n",
      "option name MaxOutOfOrderEvalsFactor type string default 2.400000\n",
      "option name StickyEndgames type check default true\n",
      "option name SyzygyFastPlay type check default false\n",
      "option name MultiPV type spin default 1 min 1 max 500\n",
      "option name PerPVCounters type check default false\n",
      "option name ScoreType type combo default WDL_mu var centipawn var centipawn_with_drawscore var centipawn_2019 var centipawn_2018 var win_percentage var Q var W-L var WDL_mu\n",
      "option name HistoryFill type combo default fen_only var no var fen_only var always\n",
      "option name MovesLeftMaxEffect type string default 0.034500\n",
      "option name MovesLeftThreshold type string default 0.800000\n",
      "option name MovesLeftSlope type string default 0.002700\n",
      "option name MovesLeftConstantFactor type string default 0.000000\n",
      "option name MovesLeftScaledFactor type string default 1.652100\n",
      "option name MovesLeftQuadraticFactor type string default -0.652100\n",
      "option name MaxConcurrentSearchers type spin default 1 min 0 max 128\n",
      "option name DrawScore type string default 0.000000\n",
      "option name ContemptMode type combo default play var play var white_side_analysis var black_side_analysis var disable\n",
      "option name Contempt type string default \n",
      "option name WDLCalibrationElo type string default 0.000000\n",
      "option name WDLEvalObjectivity type string default 1.000000\n",
      "option name WDLDrawRateReference type string default 0.500000\n",
      "option name NodesPerSecondLimit type string default 0.000000\n",
      "option name SolidTreeThreshold type spin default 100 min 1 max 2000000000\n",
      "option name TaskWorkers type spin default -1 min -1 max 128\n",
      "option name MinimumProcessingWork type spin default 20 min 2 max 100000\n",
      "option name MinimumPickingWork type spin default 1 min 1 max 100000\n",
      "option name MinimumRemainingPickingWork type spin default 20 min 0 max 100000\n",
      "option name MinimumPerTaskProcessing type spin default 8 min 1 max 100000\n",
      "option name IdlingMinimumWork type spin default 0 min 0 max 10000\n",
      "option name ThreadIdlingThreshold type spin default 1 min 0 max 128\n",
      "option name UCI_Opponent type string default \n",
      "option name UCI_RatingAdv type string default 0.000000\n",
      "option name SearchSpinBackoff type check default false\n",
      "option name ConfigFile type string default lc0.config\n",
      "option name SyzygyPath type string default \n",
      "option name Ponder type check default true\n",
      "option name UCI_Chess960 type check default false\n",
      "option name UCI_ShowWDL type check default false\n",
      "option name UCI_ShowMovesLeft type check default false\n",
      "option name SmartPruningFactor type string default 1.330000\n",
      "option name SmartPruningMinimumBatches type spin default 0 min 0 max 10000\n",
      "option name RamLimitMb type spin default 0 min 0 max 100000000\n",
      "option name MoveOverheadMs type spin default 200 min 0 max 100000000\n",
      "option name TimeManager type string default legacy\n",
      "option name ValueOnly type check default false\n",
      "option name LogFile type string default \n",
      "uciok\n",
      "readyok\n",
      "\n",
      "DEBUG: Direct subprocess stderr:\n",
      "       _\n",
      "|   _ | |\n",
      "|_ |_ |_| v0.31.2 built Oct 20 2024\n",
      "\n",
      "DEBUG: Direct subprocess test: Lc0 responded to 'uci' command (Success!).\n",
      "--- Direct subprocess.Popen test ended (return code: 0) ---\n",
      "\n"
     ]
    },
    {
     "name": "stderr",
     "output_type": "stream",
     "text": [
      "<UciProtocol (pid=106930)>: stderr >>        _\n",
      "<UciProtocol (pid=106930)>: stderr >> |   _ | |\n",
      "<UciProtocol (pid=106930)>: stderr >> |_ |_ |_| v0.31.2 built Oct 20 2024\n",
      "<UciProtocol (pid=106930)>: stderr >> Loading weights file from: /home/jon/workshop/leela_zero/leela_engine_python/Lc0/791556.pb.gz\n"
     ]
    },
    {
     "name": "stdout",
     "output_type": "stream",
     "text": [
      "Analyzing FEN: 8/8/6P1/4R3/8/6k1/2r5/6K1 b - - 0 1 with Lc0 (Nodes: 50000, Time: Nones)...\n"
     ]
    },
    {
     "name": "stderr",
     "output_type": "stream",
     "text": [
      "<UciProtocol (pid=106930)>: stderr >> Creating backend [cuda-fp16]...\n",
      "<UciProtocol (pid=106930)>: stderr >> CUDA Runtime version: 11.1.0\n",
      "<UciProtocol (pid=106930)>: stderr >> Latest version of CUDA supported by the driver: 12.9.0\n",
      "<UciProtocol (pid=106930)>: stderr >> GPU: NVIDIA GeForce RTX 4060\n",
      "<UciProtocol (pid=106930)>: stderr >> GPU memory: 7.99548 Gb\n",
      "<UciProtocol (pid=106930)>: stderr >> GPU clock frequency: 2490 MHz\n",
      "<UciProtocol (pid=106930)>: stderr >> GPU compute capability: 8.9\n",
      "<UciProtocol (pid=106930)>: stderr >> L2 cache capacity: 25165824\n"
     ]
    },
    {
     "name": "stdout",
     "output_type": "stream",
     "text": [
      "\n",
      "FEN: 8/8/6P1/4R3/8/6k1/2r5/6K1 b - - 0 1\n",
      "  Score (cp from White's perspective): -9998\n",
      "  Principal Variation (PV): ['c2c1', 'e5e1', 'c1e1']\n",
      "----------------------------------------\n"
     ]
    }
   ],
   "source": [
    "import os\n",
    "import nest_asyncio\n",
    "nest_asyncio.apply()\n",
    "import chess\n",
    "import chess.engine\n",
    "import asyncio\n",
    "import subprocess\n",
    "\n",
    "# LC0_PATH and lc0_directory definitions (assuming they are now correctly set for WSL)\n",
    "LC0_PATH = [\"/home/jon/workshop/leela_zero/leela_engine_python/Lc0/lc0.exe\"]\n",
    "lc0_directory = os.path.dirname(LC0_PATH[0])\n",
    "\n",
    "# Define network_files (assuming it's in the same directory as lc0.exe in WSL)\n",
    "network_files = [os.path.join(lc0_directory, \"791556.pb.gz\")] # Adjust if your weights file is different\n",
    "\n",
    "async def analyze_position_with_lc0(fen: str, nodes_limit: int = 10000, time_limit: float = None):\n",
    "    \"\"\"\n",
    "    Analyzes a single chess position using Leela Chess Zero (Lc0).\n",
    "    \"\"\"\n",
    "    board = chess.Board(fen)\n",
    "\n",
    "    # --- DEBUGGING PRINTS ---\n",
    "    print(f\"DEBUG: LC0_PATH being used: {LC0_PATH}\")\n",
    "    print(f\"DEBUG: lc0_directory being used: {lc0_directory}\")\n",
    "    \n",
    "    executable_path_str = LC0_PATH[0]\n",
    "    print(f\"DEBUG: Does executable file exist at '{executable_path_str}'? {os.path.exists(executable_path_str)}\")\n",
    "    # --- END DEBUGGING PRINTS ---\n",
    "\n",
    "    # --- Direct subprocess.Popen test (no shell=True) ---\n",
    "    print(\"\\n--- Starting direct subprocess.Popen test (no shell=True) ---\") \n",
    "    direct_test_successful = False\n",
    "    process = None # Initialize process outside try for finally block\n",
    "    try:\n",
    "        process = subprocess.Popen(LC0_PATH, cwd=lc0_directory, \n",
    "                                   stdin=subprocess.PIPE, stdout=subprocess.PIPE, stderr=subprocess.PIPE,\n",
    "                                   text=True)\n",
    "        \n",
    "        stdout, stderr = process.communicate(input=\"uci\\nisready\\nquit\\n\", timeout=10) \n",
    "        print(f\"DEBUG: Direct subprocess stdout:\\n{stdout}\")\n",
    "        print(f\"DEBUG: Direct subprocess stderr:\\n{stderr}\")\n",
    "        \n",
    "        if \"id name Lc0\" in stdout: \n",
    "            print(\"DEBUG: Direct subprocess test: Lc0 responded to 'uci' command (Success!).\")\n",
    "            direct_test_successful = True\n",
    "        else:\n",
    "            print(\"DEBUG: Direct subprocess test: Lc0 did not respond to 'uci' command as expected.\")\n",
    "\n",
    "    except FileNotFoundError as fnfe:\n",
    "        print(f\"DEBUG: DIRECT SUBPROCESS POPEN FAILED with FileNotFoundError: {fnfe}\")\n",
    "        return {\"fen\": fen, \"error\": f\"Direct subprocess test failed: {fnfe}\"}\n",
    "    except subprocess.TimeoutExpired:\n",
    "        print(\"DEBUG: Direct subprocess.Popen timed out. Lc0 likely started but didn't respond to 'uci' in time.\")\n",
    "        if process:\n",
    "            process.kill()\n",
    "        return {\"fen\": fen, \"error\": \"Direct subprocess test timed out.\"}\n",
    "    except Exception as e_direct_subprocess:\n",
    "        print(f\"DEBUG: Error during direct subprocess.Popen test: {e_direct_subprocess}\")\n",
    "        return {\"fen\": fen, \"error\": f\"Direct subprocess test encountered an unexpected error: {e_direct_subprocess}\"}\n",
    "    finally:\n",
    "        if process and process.poll() is None: # Check if process is still running\n",
    "            process.terminate()\n",
    "            try:\n",
    "                process.wait(timeout=1) # Give it a moment to terminate\n",
    "            except subprocess.TimeoutExpired:\n",
    "                process.kill()\n",
    "        print(f\"--- Direct subprocess.Popen test ended (return code: {process.returncode if process else 'N/A'}) ---\\n\")\n",
    "    \n",
    "    if not direct_test_successful:\n",
    "        return {\"fen\": fen, \"error\": \"Direct Lc0 subprocess test failed, cannot proceed with analysis.\"}\n",
    "\n",
    "\n",
    "    # Proceed with chess.engine.popen_uci\n",
    "    # --- KEY CHANGE HERE: Unpack the tuple returned by popen_uci ---\n",
    "    transport = None # Initialize transport and engine_uci for finally block\n",
    "    engine_uci = None\n",
    "    try:\n",
    "        transport, engine_uci = await chess.engine.popen_uci(\n",
    "            LC0_PATH, \n",
    "            cwd=lc0_directory\n",
    "        )\n",
    "        # 'engine_uci' is the actual engine object we need to work with\n",
    "        \n",
    "        # Lc0 specific options\n",
    "        await engine_uci.configure({ # <--- USE engine_uci here\n",
    "            \"WeightsFile\": network_files[0] if network_files else \"\", \n",
    "            \"Backend\": \"cuda-fp16\", # This is often the most performant if you have a CUDA GPU\n",
    "            \"Threads\": 1,\n",
    "            \"MinibatchSize\": 1024\n",
    "        })\n",
    "\n",
    "        limit = chess.engine.Limit(nodes=nodes_limit)\n",
    "        if time_limit:\n",
    "            limit = chess.engine.Limit(time=time_limit)\n",
    "\n",
    "        print(f\"Analyzing FEN: {fen} with Lc0 (Nodes: {nodes_limit}, Time: {time_limit}s)...\")\n",
    "        info = await engine_uci.analyse(board, limit=limit) # <--- USE engine_uci here\n",
    "\n",
    "        score = info[\"score\"].white().score(mate_score=10000)\n",
    "        pv = [move.uci() for move in info[\"pv\"]]\n",
    "\n",
    "        return {\"fen\": fen, \"score\": score, \"pv\": pv}\n",
    "\n",
    "    except Exception as e:\n",
    "        print(f\"An error occurred during Lc0 analysis with chess.engine: {e}\")\n",
    "        return {\"fen\": fen, \"error\": str(e)}\n",
    "    finally:\n",
    "        # --- KEY CHANGE HERE: Quit the engine_uci object ---\n",
    "        if engine_uci: # Ensure engine_uci was successfully created\n",
    "            await engine_uci.quit() # Always quit the engine process\n",
    "\n",
    "# The main() function and the call to await main() remain the same.\n",
    "\n",
    "import asyncio\n",
    "\n",
    "async def main():\n",
    "    positions_to_analyze = [\n",
    "        \"rnbqkbnr/pppppppp/8/8/8/8/PPPPPPPP/RNBQKBNR w KQkq - 0 1\", # Starting position\n",
    "        \"r1bqkbnr/pppp1ppp/2n5/4p3/4P3/5N2/PPPP1PPP/RNBQKB1R w KQkq - 2 3\", # Ruy Lopez opening\n",
    "        \"8/8/6P1/4R3/8/6k1/2r5/6K1 b - - 0 1\", # Complex endgame\n",
    "    ]\n",
    "\n",
    "    # Analyze positions one by one\n",
    "    for fen in positions_to_analyze:\n",
    "        result = await analyze_position_with_lc0(fen, nodes_limit=50000) # Aim for more nodes with Lc0\n",
    "        if \"error\" in result:\n",
    "            print(f\"Failed to analyze {result['fen']}: {result['error']}\")\n",
    "        else:\n",
    "            print(f\"\\nFEN: {result['fen']}\")\n",
    "            print(f\"  Score (cp from White's perspective): {result['score']}\")\n",
    "            print(f\"  Principal Variation (PV): {result['pv']}\")\n",
    "            print(\"-\" * 40)\n",
    "\n",
    "await main()"
   ]
  },
  {
   "cell_type": "code",
   "execution_count": 3,
   "id": "4c9593a6-ac58-43cf-a7ec-569bfef9cb3a",
   "metadata": {},
   "outputs": [
    {
     "ename": "NameError",
     "evalue": "name 'kokok' is not defined",
     "output_type": "error",
     "traceback": [
      "\u001b[31m---------------------------------------------------------------------------\u001b[39m",
      "\u001b[31mNameError\u001b[39m                                 Traceback (most recent call last)",
      "\u001b[36mCell\u001b[39m\u001b[36m \u001b[39m\u001b[32mIn[3]\u001b[39m\u001b[32m, line 1\u001b[39m\n\u001b[32m----> \u001b[39m\u001b[32m1\u001b[39m kokok\n",
      "\u001b[31mNameError\u001b[39m: name 'kokok' is not defined"
     ]
    }
   ],
   "source": [
    "kokok"
   ]
  },
  {
   "cell_type": "code",
   "execution_count": null,
   "id": "7f889f3f-f83f-4512-9175-a088df20fca0",
   "metadata": {},
   "outputs": [],
   "source": [
    "uciok\n",
    "readyok\n",
    "\n",
    "DEBUG: Direct subprocess stderr:\n",
    "       _\n",
    "|   _ | |\n",
    "|_ |_ |_| v0.31.2 built Oct 20 2024\n",
    "\n",
    "DEBUG: Direct subprocess test: Lc0 responded to 'uci' command (Success!).\n",
    "--- Direct subprocess.Popen test ended (return code: 0) ---\n",
    "\n",
    "<UciProtocol (pid=47980)>: stderr >>        _\n",
    "<UciProtocol (pid=47980)>: stderr >> |   _ | |\n",
    "<UciProtocol (pid=47980)>: stderr >> |_ |_ |_| v0.31.2 built Oct 20 2024\n",
    "\n",
    "An error occurred during Lc0 analysis with chess.engine: expected value for option 'MinibatchSize' to be at most 1024, got: 2048\n",
    "Failed to analyze r1bqkbnr/pppp1ppp/2n5/4p3/4P3/5N2/PPPP1PPP/RNBQKB1R w KQkq - 2 3: expected value for option 'MinibatchSize' to be at most 1024, got: 2048\n",
    "DEBUG: LC0_PATH being used: ['/home/jon/workshop/leela_zero/leela_engine_python/Lc0/lc0.exe']\n",
    "DEBUG: lc0_directory being used: /home/jon/workshop/leela_zero/leela_engine_python/Lc0\n",
    "DEBUG: Does executable file exist at '/home/jon/workshop/leela_zero/leela_engine_python/Lc0/lc0.exe'? True"
   ]
  },
  {
   "cell_type": "code",
   "execution_count": null,
   "id": "64ef0a74-2d3f-4b30-bc08-95e2561faa26",
   "metadata": {},
   "outputs": [],
   "source": []
  },
  {
   "cell_type": "code",
   "execution_count": null,
   "id": "90ef2b0a-637b-431e-a9d4-ed0473436241",
   "metadata": {},
   "outputs": [],
   "source": []
  },
  {
   "cell_type": "code",
   "execution_count": null,
   "id": "e40fbf07-cf58-420a-9936-297a1ad9c592",
   "metadata": {},
   "outputs": [],
   "source": []
  },
  {
   "cell_type": "code",
   "execution_count": 1,
   "id": "bf091a01-26fb-4616-b0d6-a7695e46971b",
   "metadata": {},
   "outputs": [
    {
     "ename": "FileNotFoundError",
     "evalue": "[Errno 2] No such file or directory: ''",
     "output_type": "error",
     "traceback": [
      "\u001b[31m---------------------------------------------------------------------------\u001b[39m",
      "\u001b[31mFileNotFoundError\u001b[39m                         Traceback (most recent call last)",
      "\u001b[36mCell\u001b[39m\u001b[36m \u001b[39m\u001b[32mIn[1]\u001b[39m\u001b[32m, line 89\u001b[39m\n\u001b[32m     86\u001b[39m             \u001b[38;5;28mprint\u001b[39m(\u001b[33mf\u001b[39m\u001b[33m\"\u001b[39m\u001b[33m  Principal Variation (PV): \u001b[39m\u001b[38;5;132;01m{\u001b[39;00mresult[\u001b[33m'\u001b[39m\u001b[33mpv\u001b[39m\u001b[33m'\u001b[39m]\u001b[38;5;132;01m}\u001b[39;00m\u001b[33m\"\u001b[39m)\n\u001b[32m     87\u001b[39m             \u001b[38;5;28mprint\u001b[39m(\u001b[33m\"\u001b[39m\u001b[33m-\u001b[39m\u001b[33m\"\u001b[39m * \u001b[32m40\u001b[39m)\n\u001b[32m---> \u001b[39m\u001b[32m89\u001b[39m \u001b[38;5;28;01mawait\u001b[39;00m main()\n",
      "\u001b[36mCell\u001b[39m\u001b[36m \u001b[39m\u001b[32mIn[1]\u001b[39m\u001b[32m, line 80\u001b[39m, in \u001b[36mmain\u001b[39m\u001b[34m()\u001b[39m\n\u001b[32m     78\u001b[39m \u001b[38;5;66;03m# Analyze positions one by one\u001b[39;00m\n\u001b[32m     79\u001b[39m \u001b[38;5;28;01mfor\u001b[39;00m fen \u001b[38;5;129;01min\u001b[39;00m positions_to_analyze:\n\u001b[32m---> \u001b[39m\u001b[32m80\u001b[39m     result = \u001b[38;5;28;01mawait\u001b[39;00m analyze_position_with_lc0(fen, nodes_limit=\u001b[32m50000\u001b[39m) \u001b[38;5;66;03m# Aim for more nodes with Lc0\u001b[39;00m\n\u001b[32m     81\u001b[39m     \u001b[38;5;28;01mif\u001b[39;00m \u001b[33m\"\u001b[39m\u001b[33merror\u001b[39m\u001b[33m\"\u001b[39m \u001b[38;5;129;01min\u001b[39;00m result:\n\u001b[32m     82\u001b[39m         \u001b[38;5;28mprint\u001b[39m(\u001b[33mf\u001b[39m\u001b[33m\"\u001b[39m\u001b[33mFailed to analyze \u001b[39m\u001b[38;5;132;01m{\u001b[39;00mresult[\u001b[33m'\u001b[39m\u001b[33mfen\u001b[39m\u001b[33m'\u001b[39m]\u001b[38;5;132;01m}\u001b[39;00m\u001b[33m: \u001b[39m\u001b[38;5;132;01m{\u001b[39;00mresult[\u001b[33m'\u001b[39m\u001b[33merror\u001b[39m\u001b[33m'\u001b[39m]\u001b[38;5;132;01m}\u001b[39;00m\u001b[33m\"\u001b[39m)\n",
      "\u001b[36mCell\u001b[39m\u001b[36m \u001b[39m\u001b[32mIn[1]\u001b[39m\u001b[32m, line 36\u001b[39m, in \u001b[36manalyze_position_with_lc0\u001b[39m\u001b[34m(fen, nodes_limit, time_limit)\u001b[39m\n\u001b[32m     33\u001b[39m board = chess.Board(fen)\n\u001b[32m     34\u001b[39m \u001b[38;5;66;03m#engine = await chess.engine.popen_uci(LC0_PATH)\u001b[39;00m\n\u001b[32m     35\u001b[39m \u001b[38;5;66;03m#engine = await chess.engine.popen_uci(LC0_PATH, cwd=lc0_directory) # <--- THIS IS THE FIX\u001b[39;00m\n\u001b[32m---> \u001b[39m\u001b[32m36\u001b[39m engine = \u001b[38;5;28;01mawait\u001b[39;00m chess.engine.popen_uci(LC0_PATH, cwd=lc0_directory) \u001b[38;5;66;03m# <--- UPDATED THIS LINE\u001b[39;00m\n\u001b[32m     37\u001b[39m \u001b[38;5;28;01mtry\u001b[39;00m:\n\u001b[32m     38\u001b[39m     \u001b[38;5;66;03m# Lc0 specific options (these are common and good starting points)\u001b[39;00m\n\u001b[32m     39\u001b[39m     \u001b[38;5;66;03m# Check Lc0's documentation for all available options\u001b[39;00m\n\u001b[32m     40\u001b[39m     \u001b[38;5;28;01mawait\u001b[39;00m engine.configure({\n\u001b[32m     41\u001b[39m         \u001b[33m\"\u001b[39m\u001b[33mBackend\u001b[39m\u001b[33m\"\u001b[39m: \u001b[33m\"\u001b[39m\u001b[33mcuda\u001b[39m\u001b[33m\"\u001b[39m,  \u001b[38;5;66;03m# Use CUDA with half-precision for speed (requires cuDNN)\u001b[39;00m\n\u001b[32m     42\u001b[39m                                  \u001b[38;5;66;03m# Other options: \"cuda\", \"cpu\", \"opencl\"\u001b[39;00m\n\u001b[32m   (...)\u001b[39m\u001b[32m     47\u001b[39m         \u001b[33m\"\u001b[39m\u001b[33mMinibatchSize\u001b[39m\u001b[33m\"\u001b[39m: \u001b[32m2048\u001b[39m    \u001b[38;5;66;03m# Adjust based on your GPU's VRAM. Larger can be faster.\u001b[39;00m\n\u001b[32m     48\u001b[39m     })\n",
      "\u001b[36mFile \u001b[39m\u001b[32m~/anaconda3/envs/chessism_gpu/lib/python3.12/site-packages/chess/engine.py:2856\u001b[39m, in \u001b[36mpopen_uci\u001b[39m\u001b[34m(command, setpgrp, **popen_args)\u001b[39m\n\u001b[32m   2840\u001b[39m \u001b[38;5;28;01masync\u001b[39;00m \u001b[38;5;28;01mdef\u001b[39;00m\u001b[38;5;250m \u001b[39m\u001b[34mpopen_uci\u001b[39m(command: Union[\u001b[38;5;28mstr\u001b[39m, List[\u001b[38;5;28mstr\u001b[39m]], *, setpgrp: \u001b[38;5;28mbool\u001b[39m = \u001b[38;5;28;01mFalse\u001b[39;00m, **popen_args: Any) -> Tuple[asyncio.SubprocessTransport, UciProtocol]:\n\u001b[32m   2841\u001b[39m \u001b[38;5;250m    \u001b[39m\u001b[33;03m\"\"\"\u001b[39;00m\n\u001b[32m   2842\u001b[39m \u001b[33;03m    Spawns and initializes a UCI engine.\u001b[39;00m\n\u001b[32m   2843\u001b[39m \n\u001b[32m   (...)\u001b[39m\u001b[32m   2854\u001b[39m \u001b[33;03m    Returns a subprocess transport and engine protocol pair.\u001b[39;00m\n\u001b[32m   2855\u001b[39m \u001b[33;03m    \"\"\"\u001b[39;00m\n\u001b[32m-> \u001b[39m\u001b[32m2856\u001b[39m     transport, protocol = \u001b[38;5;28;01mawait\u001b[39;00m UciProtocol.popen(command, setpgrp=setpgrp, **popen_args)\n\u001b[32m   2857\u001b[39m     \u001b[38;5;28;01mtry\u001b[39;00m:\n\u001b[32m   2858\u001b[39m         \u001b[38;5;28;01mawait\u001b[39;00m protocol.initialize()\n",
      "\u001b[36mFile \u001b[39m\u001b[32m~/anaconda3/envs/chessism_gpu/lib/python3.12/site-packages/chess/engine.py:1212\u001b[39m, in \u001b[36mProtocol.popen\u001b[39m\u001b[34m(cls, command, setpgrp, **popen_args)\u001b[39m\n\u001b[32m   1208\u001b[39m         \u001b[38;5;28;01melse\u001b[39;00m:\n\u001b[32m   1209\u001b[39m             \u001b[38;5;66;03m# Before Python 3.11\u001b[39;00m\n\u001b[32m   1210\u001b[39m             popen_args[\u001b[33m\"\u001b[39m\u001b[33mstart_new_session\u001b[39m\u001b[33m\"\u001b[39m] = \u001b[38;5;28;01mTrue\u001b[39;00m\n\u001b[32m-> \u001b[39m\u001b[32m1212\u001b[39m \u001b[38;5;28;01mreturn\u001b[39;00m \u001b[38;5;28;01mawait\u001b[39;00m asyncio.get_running_loop().subprocess_exec(\u001b[38;5;28mcls\u001b[39m, *command, **popen_args)\n",
      "\u001b[36mFile \u001b[39m\u001b[32m~/anaconda3/envs/chessism_gpu/lib/python3.12/asyncio/base_events.py:1756\u001b[39m, in \u001b[36mBaseEventLoop.subprocess_exec\u001b[39m\u001b[34m(self, protocol_factory, program, stdin, stdout, stderr, universal_newlines, shell, bufsize, encoding, errors, text, *args, **kwargs)\u001b[39m\n\u001b[32m   1754\u001b[39m     debug_log = \u001b[33mf\u001b[39m\u001b[33m'\u001b[39m\u001b[33mexecute program \u001b[39m\u001b[38;5;132;01m{\u001b[39;00mprogram\u001b[38;5;132;01m!r}\u001b[39;00m\u001b[33m'\u001b[39m\n\u001b[32m   1755\u001b[39m     \u001b[38;5;28mself\u001b[39m._log_subprocess(debug_log, stdin, stdout, stderr)\n\u001b[32m-> \u001b[39m\u001b[32m1756\u001b[39m transport = \u001b[38;5;28;01mawait\u001b[39;00m \u001b[38;5;28mself\u001b[39m._make_subprocess_transport(\n\u001b[32m   1757\u001b[39m     protocol, popen_args, \u001b[38;5;28;01mFalse\u001b[39;00m, stdin, stdout, stderr,\n\u001b[32m   1758\u001b[39m     bufsize, **kwargs)\n\u001b[32m   1759\u001b[39m \u001b[38;5;28;01mif\u001b[39;00m \u001b[38;5;28mself\u001b[39m._debug \u001b[38;5;129;01mand\u001b[39;00m debug_log \u001b[38;5;129;01mis\u001b[39;00m \u001b[38;5;129;01mnot\u001b[39;00m \u001b[38;5;28;01mNone\u001b[39;00m:\n\u001b[32m   1760\u001b[39m     logger.info(\u001b[33m'\u001b[39m\u001b[38;5;132;01m%s\u001b[39;00m\u001b[33m: \u001b[39m\u001b[38;5;132;01m%r\u001b[39;00m\u001b[33m'\u001b[39m, debug_log, transport)\n",
      "\u001b[36mFile \u001b[39m\u001b[32m~/anaconda3/envs/chessism_gpu/lib/python3.12/asyncio/unix_events.py:211\u001b[39m, in \u001b[36m_UnixSelectorEventLoop._make_subprocess_transport\u001b[39m\u001b[34m(self, protocol, args, shell, stdin, stdout, stderr, bufsize, extra, **kwargs)\u001b[39m\n\u001b[32m    208\u001b[39m     \u001b[38;5;28;01mraise\u001b[39;00m \u001b[38;5;167;01mRuntimeError\u001b[39;00m(\u001b[33m\"\u001b[39m\u001b[33masyncio.get_child_watcher() is not activated, \u001b[39m\u001b[33m\"\u001b[39m\n\u001b[32m    209\u001b[39m                     \u001b[33m\"\u001b[39m\u001b[33msubprocess support is not installed.\u001b[39m\u001b[33m\"\u001b[39m)\n\u001b[32m    210\u001b[39m waiter = \u001b[38;5;28mself\u001b[39m.create_future()\n\u001b[32m--> \u001b[39m\u001b[32m211\u001b[39m transp = _UnixSubprocessTransport(\u001b[38;5;28mself\u001b[39m, protocol, args, shell,\n\u001b[32m    212\u001b[39m                                 stdin, stdout, stderr, bufsize,\n\u001b[32m    213\u001b[39m                                 waiter=waiter, extra=extra,\n\u001b[32m    214\u001b[39m                                 **kwargs)\n\u001b[32m    215\u001b[39m watcher.add_child_handler(transp.get_pid(),\n\u001b[32m    216\u001b[39m                         \u001b[38;5;28mself\u001b[39m._child_watcher_callback, transp)\n\u001b[32m    217\u001b[39m \u001b[38;5;28;01mtry\u001b[39;00m:\n",
      "\u001b[36mFile \u001b[39m\u001b[32m~/anaconda3/envs/chessism_gpu/lib/python3.12/asyncio/base_subprocess.py:36\u001b[39m, in \u001b[36mBaseSubprocessTransport.__init__\u001b[39m\u001b[34m(self, loop, protocol, args, shell, stdin, stdout, stderr, bufsize, waiter, extra, **kwargs)\u001b[39m\n\u001b[32m     34\u001b[39m \u001b[38;5;66;03m# Create the child process: set the _proc attribute\u001b[39;00m\n\u001b[32m     35\u001b[39m \u001b[38;5;28;01mtry\u001b[39;00m:\n\u001b[32m---> \u001b[39m\u001b[32m36\u001b[39m     \u001b[38;5;28mself\u001b[39m._start(args=args, shell=shell, stdin=stdin, stdout=stdout,\n\u001b[32m     37\u001b[39m                 stderr=stderr, bufsize=bufsize, **kwargs)\n\u001b[32m     38\u001b[39m \u001b[38;5;28;01mexcept\u001b[39;00m:\n\u001b[32m     39\u001b[39m     \u001b[38;5;28mself\u001b[39m.close()\n",
      "\u001b[36mFile \u001b[39m\u001b[32m~/anaconda3/envs/chessism_gpu/lib/python3.12/asyncio/unix_events.py:820\u001b[39m, in \u001b[36m_UnixSubprocessTransport._start\u001b[39m\u001b[34m(self, args, shell, stdin, stdout, stderr, bufsize, **kwargs)\u001b[39m\n\u001b[32m    818\u001b[39m     stdin, stdin_w = socket.socketpair()\n\u001b[32m    819\u001b[39m \u001b[38;5;28;01mtry\u001b[39;00m:\n\u001b[32m--> \u001b[39m\u001b[32m820\u001b[39m     \u001b[38;5;28mself\u001b[39m._proc = subprocess.Popen(\n\u001b[32m    821\u001b[39m         args, shell=shell, stdin=stdin, stdout=stdout, stderr=stderr,\n\u001b[32m    822\u001b[39m         universal_newlines=\u001b[38;5;28;01mFalse\u001b[39;00m, bufsize=bufsize, **kwargs)\n\u001b[32m    823\u001b[39m     \u001b[38;5;28;01mif\u001b[39;00m stdin_w \u001b[38;5;129;01mis\u001b[39;00m \u001b[38;5;129;01mnot\u001b[39;00m \u001b[38;5;28;01mNone\u001b[39;00m:\n\u001b[32m    824\u001b[39m         stdin.close()\n",
      "\u001b[36mFile \u001b[39m\u001b[32m~/anaconda3/envs/chessism_gpu/lib/python3.12/subprocess.py:1028\u001b[39m, in \u001b[36mPopen.__init__\u001b[39m\u001b[34m(self, args, bufsize, executable, stdin, stdout, stderr, preexec_fn, close_fds, shell, cwd, env, universal_newlines, startupinfo, creationflags, restore_signals, start_new_session, pass_fds, user, group, extra_groups, encoding, errors, text, umask, pipesize, process_group)\u001b[39m\n\u001b[32m   1024\u001b[39m         \u001b[38;5;28;01mif\u001b[39;00m \u001b[38;5;28mself\u001b[39m.text_mode:\n\u001b[32m   1025\u001b[39m             \u001b[38;5;28mself\u001b[39m.stderr = io.TextIOWrapper(\u001b[38;5;28mself\u001b[39m.stderr,\n\u001b[32m   1026\u001b[39m                     encoding=encoding, errors=errors)\n\u001b[32m-> \u001b[39m\u001b[32m1028\u001b[39m     \u001b[38;5;28mself\u001b[39m._execute_child(args, executable, preexec_fn, close_fds,\n\u001b[32m   1029\u001b[39m                         pass_fds, cwd, env,\n\u001b[32m   1030\u001b[39m                         startupinfo, creationflags, shell,\n\u001b[32m   1031\u001b[39m                         p2cread, p2cwrite,\n\u001b[32m   1032\u001b[39m                         c2pread, c2pwrite,\n\u001b[32m   1033\u001b[39m                         errread, errwrite,\n\u001b[32m   1034\u001b[39m                         restore_signals,\n\u001b[32m   1035\u001b[39m                         gid, gids, uid, umask,\n\u001b[32m   1036\u001b[39m                         start_new_session, process_group)\n\u001b[32m   1037\u001b[39m \u001b[38;5;28;01mexcept\u001b[39;00m:\n\u001b[32m   1038\u001b[39m     \u001b[38;5;66;03m# Cleanup if the child failed starting.\u001b[39;00m\n\u001b[32m   1039\u001b[39m     \u001b[38;5;28;01mfor\u001b[39;00m f \u001b[38;5;129;01min\u001b[39;00m \u001b[38;5;28mfilter\u001b[39m(\u001b[38;5;28;01mNone\u001b[39;00m, (\u001b[38;5;28mself\u001b[39m.stdin, \u001b[38;5;28mself\u001b[39m.stdout, \u001b[38;5;28mself\u001b[39m.stderr)):\n",
      "\u001b[36mFile \u001b[39m\u001b[32m~/anaconda3/envs/chessism_gpu/lib/python3.12/subprocess.py:1963\u001b[39m, in \u001b[36mPopen._execute_child\u001b[39m\u001b[34m(self, args, executable, preexec_fn, close_fds, pass_fds, cwd, env, startupinfo, creationflags, shell, p2cread, p2cwrite, c2pread, c2pwrite, errread, errwrite, restore_signals, gid, gids, uid, umask, start_new_session, process_group)\u001b[39m\n\u001b[32m   1961\u001b[39m     err_msg = os.strerror(errno_num)\n\u001b[32m   1962\u001b[39m \u001b[38;5;28;01mif\u001b[39;00m err_filename \u001b[38;5;129;01mis\u001b[39;00m \u001b[38;5;129;01mnot\u001b[39;00m \u001b[38;5;28;01mNone\u001b[39;00m:\n\u001b[32m-> \u001b[39m\u001b[32m1963\u001b[39m     \u001b[38;5;28;01mraise\u001b[39;00m child_exception_type(errno_num, err_msg, err_filename)\n\u001b[32m   1964\u001b[39m \u001b[38;5;28;01melse\u001b[39;00m:\n\u001b[32m   1965\u001b[39m     \u001b[38;5;28;01mraise\u001b[39;00m child_exception_type(errno_num, err_msg)\n",
      "\u001b[31mFileNotFoundError\u001b[39m: [Errno 2] No such file or directory: ''"
     ]
    }
   ],
   "source": [
    "import os\n",
    "\n",
    "#LC0_PATH = r\"\\\\wsl.localhost\\Ubuntu-24.04\\home\\jon\\workshop\\leela_zero\\leela_engine_python\\Lc0\\lc0.exe\"\n",
    "#LC0_PATH =r\"Lc0/lc0.exe\"\n",
    "\n",
    "# Change LC0_PATH to be a list containing the executable path\n",
    "LC0_PATH = [r\"\\\\wsl.localhost\\Ubuntu-24.04\\home\\jon\\workshop\\leela_zero\\leela_engine_python\\Lc0\\lc0.exe\"]\n",
    "\n",
    "# Extract the directory from the string inside the list\n",
    "lc0_directory = os.path.dirname(LC0_PATH[0]) # Use LC0_PATH[0] to access the string\n",
    "\n",
    "# Extract the directory of lc0.exe for the cwd argument\n",
    "# lc0_directory = os.path.dirname(LC0_PATH) # This line is critical!\n",
    "\n",
    "import nest_asyncio\n",
    "nest_asyncio.apply()\n",
    "import chess\n",
    "import chess.engine\n",
    "\n",
    "async def analyze_position_with_lc0(fen: str, nodes_limit: int = 10000, time_limit: float = None):\n",
    "    \"\"\"\n",
    "    Analyzes a single chess position using Leela Chess Zero (Lc0).\n",
    "\n",
    "    Args:\n",
    "        fen: The FEN string of the position to analyze.\n",
    "        nodes_limit: The maximum number of nodes Lc0 should explore (playouts).\n",
    "                     Lc0 typically uses 'nodes' instead of 'depth' for its search limit.\n",
    "        time_limit: The maximum time in seconds Lc0 should spend on analysis.\n",
    "\n",
    "    Returns:\n",
    "        A dictionary containing the analysis results (score, principal variation).\n",
    "    \"\"\"\n",
    "    board = chess.Board(fen)\n",
    "    #engine = await chess.engine.popen_uci(LC0_PATH)\n",
    "    #engine = await chess.engine.popen_uci(LC0_PATH, cwd=lc0_directory) # <--- THIS IS THE FIX\n",
    "    engine = await chess.engine.popen_uci(LC0_PATH, cwd=lc0_directory) # <--- UPDATED THIS LINE\n",
    "    try:\n",
    "        # Lc0 specific options (these are common and good starting points)\n",
    "        # Check Lc0's documentation for all available options\n",
    "        await engine.configure({\n",
    "            \"Backend\": \"cuda\",  # Use CUDA with half-precision for speed (requires cuDNN)\n",
    "                                     # Other options: \"cuda\", \"cpu\", \"opencl\"\n",
    "            \"WeightsFile\": network_files[0] if network_files else \"\", # Lc0 usually picks newest, but explicit is good\n",
    "            \"Threads\": 1,            # Lc0 itself is heavily GPU-parallel; 1 thread is often fine for MCTS.\n",
    "                                     # More threads might be useful if you're doing heavy CPU preprocessing\n",
    "                                     # or if your Lc0 build benefits from it for specific backends.\n",
    "            \"MinibatchSize\": 2048    # Adjust based on your GPU's VRAM. Larger can be faster.\n",
    "        })\n",
    "\n",
    "        limit = chess.engine.Limit(nodes=nodes_limit)\n",
    "        if time_limit:\n",
    "            limit = chess.engine.Limit(time=time_limit)\n",
    "\n",
    "        print(f\"Analyzing FEN: {fen} with Lc0 (Nodes: {nodes_limit}, Time: {time_limit}s)...\")\n",
    "        info = await engine.analyse(board, limit=limit)\n",
    "\n",
    "        # Lc0 returns score as \"cp\" (centipawns) or \"mate\"\n",
    "        score = info[\"score\"].white().score(mate_score=10000) # Use a large value for mate scores\n",
    "        pv = [move.uci() for move in info[\"pv\"]]\n",
    "\n",
    "        return {\"fen\": fen, \"score\": score, \"pv\": pv}\n",
    "\n",
    "    except Exception as e:\n",
    "        print(f\"An error occurred during Lc0 analysis: {e}\")\n",
    "        return {\"fen\": fen, \"error\": str(e)}\n",
    "    finally:\n",
    "        await engine.quit() # Always quit the engine process\n",
    "\n",
    "import asyncio\n",
    "\n",
    "async def main():\n",
    "    positions_to_analyze = [\n",
    "        \"rnbqkbnr/pppppppp/8/8/8/8/PPPPPPPP/RNBQKBNR w KQkq - 0 1\", # Starting position\n",
    "        \"r1bqkbnr/pppp1ppp/2n5/4p3/4P3/5N2/PPPP1PPP/RNBQKB1R w KQkq - 2 3\", # Ruy Lopez opening\n",
    "        \"8/8/6P1/4R3/8/6k1/2r5/6K1 b - - 0 1\", # Complex endgame\n",
    "    ]\n",
    "\n",
    "    # Analyze positions one by one\n",
    "    for fen in positions_to_analyze:\n",
    "        result = await analyze_position_with_lc0(fen, nodes_limit=50000) # Aim for more nodes with Lc0\n",
    "        if \"error\" in result:\n",
    "            print(f\"Failed to analyze {result['fen']}: {result['error']}\")\n",
    "        else:\n",
    "            print(f\"\\nFEN: {result['fen']}\")\n",
    "            print(f\"  Score (cp from White's perspective): {result['score']}\")\n",
    "            print(f\"  Principal Variation (PV): {result['pv']}\")\n",
    "            print(\"-\" * 40)\n",
    "\n",
    "await main()"
   ]
  },
  {
   "cell_type": "code",
   "execution_count": null,
   "id": "081fc3ba-d8f0-421b-ba8c-37e787d4081d",
   "metadata": {},
   "outputs": [],
   "source": [
    "\n",
    "if __name__ == \"__main__\":\n",
    "    # Ensure your NVIDIA drivers and CUDA are correctly installed\n",
    "    # PyTorch can be used to quickly verify CUDA setup:\n",
    "    try:\n",
    "        import torch\n",
    "        if torch.cuda.is_available():\n",
    "            print(f\"PyTorch reports CUDA is available. GPU: {torch.cuda.get_device_name(0)}\")\n",
    "        else:\n",
    "            print(\"PyTorch reports CUDA is NOT available. Lc0 might run on CPU, but slower.\")\n",
    "    except ImportError:\n",
    "        print(\"PyTorch not installed. Cannot verify CUDA availability via PyTorch.\")\n",
    "\n",
    "    asyncio.run(main())"
   ]
  }
 ],
 "metadata": {
  "kernelspec": {
   "display_name": "chessism_gpu",
   "language": "python",
   "name": "chessism_gpu"
  },
  "language_info": {
   "codemirror_mode": {
    "name": "ipython",
    "version": 3
   },
   "file_extension": ".py",
   "mimetype": "text/x-python",
   "name": "python",
   "nbconvert_exporter": "python",
   "pygments_lexer": "ipython3",
   "version": "3.12.9"
  }
 },
 "nbformat": 4,
 "nbformat_minor": 5
}
