{
 "cells": [
  {
   "cell_type": "code",
   "execution_count": 6,
   "id": "bcb908bc-e4c8-4dfb-8959-c0a14978dd51",
   "metadata": {},
   "outputs": [],
   "source": [
    "import time\n",
    "from database.database.engine import init_db\n",
    "from constants import CONN_STRING\n",
    "from database.database.ask_db import *\n",
    "from database.operations.fen import *\n",
    "from IPython.display import clear_output"
   ]
  },
  {
   "cell_type": "code",
   "execution_count": 2,
   "id": "6d06af51-07f2-4848-a735-019cb46c3005",
   "metadata": {},
   "outputs": [
    {
     "name": "stdout",
     "output_type": "stream",
     "text": [
      "Database 'chessism' already exists.\n",
      "Ensuring database tables exist...\n",
      "Database tables checked/created.\n",
      "Asynchronous database initialization complete.\n"
     ]
    }
   ],
   "source": [
    "await init_db(CONN_STRING)"
   ]
  },
  {
   "cell_type": "code",
   "execution_count": 3,
   "id": "bcd41946-1e20-458f-9259-4f57ee482294",
   "metadata": {},
   "outputs": [],
   "source": [
    "available_players = await get_players_with_names()"
   ]
  },
  {
   "cell_type": "code",
   "execution_count": 7,
   "id": "6777c544-fbd6-40d4-9f1f-09920ac7e68f",
   "metadata": {},
   "outputs": [
    {
     "name": "stdout",
     "output_type": "stream",
     "text": [
      "N moves fetched:  4\n",
      "time_elapsed:  1.0411033630371094\n",
      "Starting create_fens_from_games_dict (using ProcessPoolExecutor)\n",
      "LEN MOVES::::: 4\n",
      "End of create_fens_from_games_dict\n",
      "FENS LEN::::::  0\n",
      "ready created_fens in:  0.09140920639038086\n",
      "ready merged_fens in:  9.5367431640625e-06\n",
      "ready fens_insertion in:  3.337860107421875e-06\n",
      "No valid associations to insert after processing input data.\n",
      "ready association_fen/game.link done in:  1.5020370483398438e-05\n",
      "No data provided for bulk update of game.\n",
      "Updating game.fens_done in:  1.2159347534179688e-05\n"
     ]
    }
   ],
   "source": [
    "for player in available_players:\n",
    "    await insert_fens_from_player(player['player_name'], game_batches = 1000)\n",
    "    clear_output(wait = True)"
   ]
  },
  {
   "cell_type": "code",
   "execution_count": null,
   "id": "950e86f8-7471-41b4-840f-735f2c849c44",
   "metadata": {},
   "outputs": [],
   "source": []
  }
 ],
 "metadata": {
  "kernelspec": {
   "display_name": "chessism_gpu",
   "language": "python",
   "name": "chessism_gpu"
  },
  "language_info": {
   "codemirror_mode": {
    "name": "ipython",
    "version": 3
   },
   "file_extension": ".py",
   "mimetype": "text/x-python",
   "name": "python",
   "nbconvert_exporter": "python",
   "pygments_lexer": "ipython3",
   "version": "3.12.9"
  }
 },
 "nbformat": 4,
 "nbformat_minor": 5
}
